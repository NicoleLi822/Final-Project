{
 "cells": [
  {
   "cell_type": "code",
   "execution_count": null,
   "id": "516d48b2",
   "metadata": {},
   "outputs": [],
   "source": [
    "#import package\n",
    "import bs4\n",
    "import requests\n",
    "import pandas as pd\n",
    "import geopandas as gpd\n",
    "import random\n",
    "import math\n",
    "from geopy.distance import geodesic\n",
    "import sqlalchemy as db\n",
    "import matplotlib.pyplot as plt\n",
    "import seaborn as sns\n",
    "import scipy.stats as st\n",
    "import matplotlib"
   ]
  },
  {
   "cell_type": "markdown",
   "id": "3014ef1f",
   "metadata": {},
   "source": [
    "## Part1 Data Processing"
   ]
  },
  {
   "cell_type": "code",
   "execution_count": null,
   "id": "64510a31",
   "metadata": {},
   "outputs": [],
   "source": []
  }
 ],
 "metadata": {
  "kernelspec": {
   "display_name": "Python 3",
   "language": "python",
   "name": "python3"
  },
  "language_info": {
   "codemirror_mode": {
    "name": "ipython",
    "version": 3
   },
   "file_extension": ".py",
   "mimetype": "text/x-python",
   "name": "python",
   "nbconvert_exporter": "python",
   "pygments_lexer": "ipython3",
   "version": "3.8.8"
  }
 },
 "nbformat": 4,
 "nbformat_minor": 5
}
