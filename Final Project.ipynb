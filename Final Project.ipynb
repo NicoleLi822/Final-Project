{
 "cells": [
  {
   "cell_type": "code",
   "execution_count": 1,
   "id": "fa421d4d",
   "metadata": {},
   "outputs": [
    {
     "name": "stderr",
     "output_type": "stream",
     "text": [
      "/Users/lixinrui/opt/anaconda3/lib/python3.8/site-packages/scipy/__init__.py:138: UserWarning: A NumPy version >=1.16.5 and <1.23.0 is required for this version of SciPy (detected version 1.23.5)\n",
      "  warnings.warn(f\"A NumPy version >={np_minversion} and <{np_maxversion} is required for this version of \"\n"
     ]
    }
   ],
   "source": [
    "#import package\n",
    "import bs4\n",
    "import requests\n",
    "import pandas as pd\n",
    "import geopandas as gpd\n",
    "import random\n",
    "import math\n",
    "from geopy.distance import geodesic\n",
    "import sqlalchemy as db\n",
    "import matplotlib.pyplot as plt\n",
    "import seaborn as sns\n",
    "import scipy.stats as st\n",
    "import matplotlib"
   ]
  },
  {
   "cell_type": "markdown",
   "id": "af27cfc8",
   "metadata": {},
   "source": [
    "## Part1 Data Processing"
   ]
  },
  {
   "cell_type": "markdown",
   "id": "77782919",
   "metadata": {},
   "source": [
    "## distance calculation\n",
    "Define a function to caculate distcance between two pairs of given longtitude and latitude"
   ]
  },
  {
   "cell_type": "code",
   "execution_count": 2,
   "id": "76e87312",
   "metadata": {},
   "outputs": [],
   "source": [
    "#define a function to calculate distance\n",
    "def create_distance(lat1,lon1,lat2,lon2):\n",
    "    dist = geodesic((lat1,lon1),(lat2,lon2)).km\n",
    "    return dist"
   ]
  },
  {
   "cell_type": "markdown",
   "id": "c9f7aaa9",
   "metadata": {},
   "source": [
    "## uber_date\n",
    "1. Import and go through the data, delete the data out of given range\n",
    "2. Crate a 'year' column to obatin the # of datapoints in ervery year\n",
    "3. Drop invalid variables and add distance to the dataframe"
   ]
  },
  {
   "cell_type": "code",
   "execution_count": 3,
   "id": "d9e03806",
   "metadata": {
    "scrolled": true
   },
   "outputs": [],
   "source": [
    "#import uber_data\n",
    "uber = pd.read_csv('uber_rides_sample.csv')"
   ]
  },
  {
   "cell_type": "code",
   "execution_count": 4,
   "id": "826d5ad7",
   "metadata": {},
   "outputs": [
    {
     "data": {
      "text/html": [
       "<div>\n",
       "<style scoped>\n",
       "    .dataframe tbody tr th:only-of-type {\n",
       "        vertical-align: middle;\n",
       "    }\n",
       "\n",
       "    .dataframe tbody tr th {\n",
       "        vertical-align: top;\n",
       "    }\n",
       "\n",
       "    .dataframe thead th {\n",
       "        text-align: right;\n",
       "    }\n",
       "</style>\n",
       "<table border=\"1\" class=\"dataframe\">\n",
       "  <thead>\n",
       "    <tr style=\"text-align: right;\">\n",
       "      <th></th>\n",
       "      <th>Unnamed: 0</th>\n",
       "      <th>key</th>\n",
       "      <th>fare_amount</th>\n",
       "      <th>pickup_datetime</th>\n",
       "      <th>pickup_longitude</th>\n",
       "      <th>pickup_latitude</th>\n",
       "      <th>dropoff_longitude</th>\n",
       "      <th>dropoff_latitude</th>\n",
       "      <th>passenger_count</th>\n",
       "    </tr>\n",
       "  </thead>\n",
       "  <tbody>\n",
       "    <tr>\n",
       "      <th>0</th>\n",
       "      <td>24238194</td>\n",
       "      <td>2015-05-07 19:52:06.0000003</td>\n",
       "      <td>7.5</td>\n",
       "      <td>2015-05-07 19:52:06 UTC</td>\n",
       "      <td>-73.999817</td>\n",
       "      <td>40.738354</td>\n",
       "      <td>-73.999512</td>\n",
       "      <td>40.723217</td>\n",
       "      <td>1</td>\n",
       "    </tr>\n",
       "    <tr>\n",
       "      <th>1</th>\n",
       "      <td>27835199</td>\n",
       "      <td>2009-07-17 20:04:56.0000002</td>\n",
       "      <td>7.7</td>\n",
       "      <td>2009-07-17 20:04:56 UTC</td>\n",
       "      <td>-73.994355</td>\n",
       "      <td>40.728225</td>\n",
       "      <td>-73.994710</td>\n",
       "      <td>40.750325</td>\n",
       "      <td>1</td>\n",
       "    </tr>\n",
       "  </tbody>\n",
       "</table>\n",
       "</div>"
      ],
      "text/plain": [
       "   Unnamed: 0                          key  fare_amount  \\\n",
       "0    24238194  2015-05-07 19:52:06.0000003          7.5   \n",
       "1    27835199  2009-07-17 20:04:56.0000002          7.7   \n",
       "\n",
       "           pickup_datetime  pickup_longitude  pickup_latitude  \\\n",
       "0  2015-05-07 19:52:06 UTC        -73.999817        40.738354   \n",
       "1  2009-07-17 20:04:56 UTC        -73.994355        40.728225   \n",
       "\n",
       "   dropoff_longitude  dropoff_latitude  passenger_count  \n",
       "0         -73.999512         40.723217                1  \n",
       "1         -73.994710         40.750325                1  "
      ]
     },
     "execution_count": 4,
     "metadata": {},
     "output_type": "execute_result"
    }
   ],
   "source": [
    "#check\n",
    "uber.head(2)"
   ]
  },
  {
   "cell_type": "code",
   "execution_count": 5,
   "id": "925f6bf0",
   "metadata": {},
   "outputs": [],
   "source": [
    "# keep data in required range\n",
    "uber_select = uber[(uber['pickup_longitude'] >= -74.242330) & (uber['pickup_longitude'] <= -73.717047) \\\n",
    "    & (uber['pickup_latitude'] >= 40.560445) & (uber['pickup_latitude'] <= 40.908524) &\\\n",
    "    (uber['dropoff_longitude'] >= -74.242330) & (uber['dropoff_longitude'] <= -73.717047) \\\n",
    "    & (uber['dropoff_latitude'] >= 40.560445) & (uber['dropoff_latitude'] <= 40.908524)]"
   ]
  },
  {
   "cell_type": "code",
   "execution_count": 6,
   "id": "abb0b2f3",
   "metadata": {},
   "outputs": [
    {
     "name": "stderr",
     "output_type": "stream",
     "text": [
      "<ipython-input-6-77b182171db7>:2: SettingWithCopyWarning: \n",
      "A value is trying to be set on a copy of a slice from a DataFrame.\n",
      "Try using .loc[row_indexer,col_indexer] = value instead\n",
      "\n",
      "See the caveats in the documentation: https://pandas.pydata.org/pandas-docs/stable/user_guide/indexing.html#returning-a-view-versus-a-copy\n",
      "  uber_select['year'] = pd.to_datetime(uber['pickup_datetime']).dt.year\n"
     ]
    },
    {
     "data": {
      "text/plain": [
       "2012    31531\n",
       "2011    31102\n",
       "2013    30496\n",
       "2009    30077\n",
       "2010    29494\n",
       "2014    29258\n",
       "2015    13514\n",
       "Name: year, dtype: int64"
      ]
     },
     "execution_count": 6,
     "metadata": {},
     "output_type": "execute_result"
    }
   ],
   "source": [
    "#will sample certain number of data from yellow taxi data based on this\n",
    "uber_select['year'] = pd.to_datetime(uber['pickup_datetime']).dt.year\n",
    "uber_select['year'].value_counts()"
   ]
  },
  {
   "cell_type": "code",
   "execution_count": 7,
   "id": "d0c2fea2",
   "metadata": {},
   "outputs": [
    {
     "name": "stderr",
     "output_type": "stream",
     "text": [
      "<ipython-input-7-4a960f229f9c>:2: SettingWithCopyWarning: \n",
      "A value is trying to be set on a copy of a slice from a DataFrame\n",
      "\n",
      "See the caveats in the documentation: https://pandas.pydata.org/pandas-docs/stable/user_guide/indexing.html#returning-a-view-versus-a-copy\n",
      "  uber_select.drop(['Unnamed: 0','key','fare_amount','passenger_count', 'year'], axis = 1, inplace = True)\n"
     ]
    }
   ],
   "source": [
    "#drop invalid variables and add distance to the dataframe\n",
    "uber_select.drop(['Unnamed: 0','key','fare_amount','passenger_count', 'year'], axis = 1, inplace = True)"
   ]
  },
  {
   "cell_type": "code",
   "execution_count": 8,
   "id": "e481e96d",
   "metadata": {},
   "outputs": [
    {
     "name": "stderr",
     "output_type": "stream",
     "text": [
      "<ipython-input-8-355f9ddcbd83>:1: SettingWithCopyWarning: \n",
      "A value is trying to be set on a copy of a slice from a DataFrame.\n",
      "Try using .loc[row_indexer,col_indexer] = value instead\n",
      "\n",
      "See the caveats in the documentation: https://pandas.pydata.org/pandas-docs/stable/user_guide/indexing.html#returning-a-view-versus-a-copy\n",
      "  uber_select['distance'] = uber_select.apply(lambda x: create_distance(x['pickup_latitude'],\\\n"
     ]
    }
   ],
   "source": [
    "uber_select['distance'] = uber_select.apply(lambda x: create_distance(x['pickup_latitude'],\\\n",
    "                                                                    x['pickup_longitude'],\\\n",
    "                                                                      x['dropoff_latitude'],\\\n",
    "                                                                   x['dropoff_longitude']), axis=1)"
   ]
  },
  {
   "cell_type": "code",
   "execution_count": 9,
   "id": "57e36073",
   "metadata": {},
   "outputs": [],
   "source": [
    "uber_data = uber_select.reset_index()\n",
    "uber_data = uber_data.drop(['index'], axis = 1)"
   ]
  },
  {
   "cell_type": "code",
   "execution_count": 10,
   "id": "07424d10",
   "metadata": {},
   "outputs": [],
   "source": [
    "uber_data['pickup_datetime'] = pd.to_datetime(uber_data['pickup_datetime'])"
   ]
  },
  {
   "cell_type": "code",
   "execution_count": 11,
   "id": "345be121",
   "metadata": {},
   "outputs": [
    {
     "data": {
      "text/html": [
       "<div>\n",
       "<style scoped>\n",
       "    .dataframe tbody tr th:only-of-type {\n",
       "        vertical-align: middle;\n",
       "    }\n",
       "\n",
       "    .dataframe tbody tr th {\n",
       "        vertical-align: top;\n",
       "    }\n",
       "\n",
       "    .dataframe thead th {\n",
       "        text-align: right;\n",
       "    }\n",
       "</style>\n",
       "<table border=\"1\" class=\"dataframe\">\n",
       "  <thead>\n",
       "    <tr style=\"text-align: right;\">\n",
       "      <th></th>\n",
       "      <th>pickup_datetime</th>\n",
       "      <th>pickup_longitude</th>\n",
       "      <th>pickup_latitude</th>\n",
       "      <th>dropoff_longitude</th>\n",
       "      <th>dropoff_latitude</th>\n",
       "      <th>distance</th>\n",
       "    </tr>\n",
       "  </thead>\n",
       "  <tbody>\n",
       "    <tr>\n",
       "      <th>0</th>\n",
       "      <td>2015-05-07 19:52:06+00:00</td>\n",
       "      <td>-73.999817</td>\n",
       "      <td>40.738354</td>\n",
       "      <td>-73.999512</td>\n",
       "      <td>40.723217</td>\n",
       "      <td>1.681111</td>\n",
       "    </tr>\n",
       "    <tr>\n",
       "      <th>1</th>\n",
       "      <td>2009-07-17 20:04:56+00:00</td>\n",
       "      <td>-73.994355</td>\n",
       "      <td>40.728225</td>\n",
       "      <td>-73.994710</td>\n",
       "      <td>40.750325</td>\n",
       "      <td>2.454363</td>\n",
       "    </tr>\n",
       "  </tbody>\n",
       "</table>\n",
       "</div>"
      ],
      "text/plain": [
       "            pickup_datetime  pickup_longitude  pickup_latitude  \\\n",
       "0 2015-05-07 19:52:06+00:00        -73.999817        40.738354   \n",
       "1 2009-07-17 20:04:56+00:00        -73.994355        40.728225   \n",
       "\n",
       "   dropoff_longitude  dropoff_latitude  distance  \n",
       "0         -73.999512         40.723217  1.681111  \n",
       "1         -73.994710         40.750325  2.454363  "
      ]
     },
     "execution_count": 11,
     "metadata": {},
     "output_type": "execute_result"
    }
   ],
   "source": [
    "uber_data.head(2)"
   ]
  },
  {
   "cell_type": "markdown",
   "id": "1fa276e8",
   "metadata": {},
   "source": [
    "## yellow_taxi data\n",
    "1. Improt taxi_zone.shp and convert geometry data into normal longtitue and lantitude\n",
    "2. Get the url of yellow taxi and collect the data as yearly file and check the data\n",
    "3. Drop invalid variables\n",
    "4. Drop the data with same PULocationID and DOLocationID, merge geographical information and drop data out of given range\n",
    "5. Sample the data accoring to the data amouont in uber\n",
    "6. Add distance to the dataframe\n",
    "7. Because data in 2010 and 2009 have different information in it, we process them seperately"
   ]
  },
  {
   "cell_type": "code",
   "execution_count": 12,
   "id": "dc4a7982",
   "metadata": {},
   "outputs": [],
   "source": [
    "#import taxi_zone information\n",
    "taxi_zone = gpd.read_file('taxi_zones.shp')"
   ]
  },
  {
   "cell_type": "code",
   "execution_count": 13,
   "id": "7870705f",
   "metadata": {},
   "outputs": [
    {
     "data": {
      "text/html": [
       "<div>\n",
       "<style scoped>\n",
       "    .dataframe tbody tr th:only-of-type {\n",
       "        vertical-align: middle;\n",
       "    }\n",
       "\n",
       "    .dataframe tbody tr th {\n",
       "        vertical-align: top;\n",
       "    }\n",
       "\n",
       "    .dataframe thead th {\n",
       "        text-align: right;\n",
       "    }\n",
       "</style>\n",
       "<table border=\"1\" class=\"dataframe\">\n",
       "  <thead>\n",
       "    <tr style=\"text-align: right;\">\n",
       "      <th></th>\n",
       "      <th>OBJECTID</th>\n",
       "      <th>Shape_Leng</th>\n",
       "      <th>Shape_Area</th>\n",
       "      <th>zone</th>\n",
       "      <th>LocationID</th>\n",
       "      <th>borough</th>\n",
       "      <th>geometry</th>\n",
       "    </tr>\n",
       "  </thead>\n",
       "  <tbody>\n",
       "    <tr>\n",
       "      <th>0</th>\n",
       "      <td>1</td>\n",
       "      <td>0.116357</td>\n",
       "      <td>0.000782</td>\n",
       "      <td>Newark Airport</td>\n",
       "      <td>1</td>\n",
       "      <td>EWR</td>\n",
       "      <td>POLYGON ((933100.918 192536.086, 933091.011 19...</td>\n",
       "    </tr>\n",
       "    <tr>\n",
       "      <th>1</th>\n",
       "      <td>2</td>\n",
       "      <td>0.433470</td>\n",
       "      <td>0.004866</td>\n",
       "      <td>Jamaica Bay</td>\n",
       "      <td>2</td>\n",
       "      <td>Queens</td>\n",
       "      <td>MULTIPOLYGON (((1033269.244 172126.008, 103343...</td>\n",
       "    </tr>\n",
       "  </tbody>\n",
       "</table>\n",
       "</div>"
      ],
      "text/plain": [
       "   OBJECTID  Shape_Leng  Shape_Area            zone  LocationID borough  \\\n",
       "0         1    0.116357    0.000782  Newark Airport           1     EWR   \n",
       "1         2    0.433470    0.004866     Jamaica Bay           2  Queens   \n",
       "\n",
       "                                            geometry  \n",
       "0  POLYGON ((933100.918 192536.086, 933091.011 19...  \n",
       "1  MULTIPOLYGON (((1033269.244 172126.008, 103343...  "
      ]
     },
     "execution_count": 13,
     "metadata": {},
     "output_type": "execute_result"
    }
   ],
   "source": [
    "#check\n",
    "taxi_zone.head(2)"
   ]
  },
  {
   "cell_type": "code",
   "execution_count": 14,
   "id": "38ea6b4f",
   "metadata": {},
   "outputs": [
    {
     "name": "stderr",
     "output_type": "stream",
     "text": [
      "<ipython-input-14-770757aa3575>:3: UserWarning: Geometry is in a geographic CRS. Results from 'centroid' are likely incorrect. Use 'GeoSeries.to_crs()' to re-project geometries to a projected CRS before this operation.\n",
      "\n",
      "  taxi_zone['lon'] = taxi_zone.centroid.x\n",
      "<ipython-input-14-770757aa3575>:4: UserWarning: Geometry is in a geographic CRS. Results from 'centroid' are likely incorrect. Use 'GeoSeries.to_crs()' to re-project geometries to a projected CRS before this operation.\n",
      "\n",
      "  taxi_zone['lat'] = taxi_zone.centroid.y\n"
     ]
    }
   ],
   "source": [
    "#change geometry information to lantitude and longtitde\n",
    "taxi_zone = taxi_zone.to_crs(4326)\n",
    "taxi_zone['lon'] = taxi_zone.centroid.x  \n",
    "taxi_zone['lat'] = taxi_zone.centroid.y"
   ]
  },
  {
   "cell_type": "code",
   "execution_count": 15,
   "id": "7cb43359",
   "metadata": {},
   "outputs": [
    {
     "data": {
      "text/html": [
       "<div>\n",
       "<style scoped>\n",
       "    .dataframe tbody tr th:only-of-type {\n",
       "        vertical-align: middle;\n",
       "    }\n",
       "\n",
       "    .dataframe tbody tr th {\n",
       "        vertical-align: top;\n",
       "    }\n",
       "\n",
       "    .dataframe thead th {\n",
       "        text-align: right;\n",
       "    }\n",
       "</style>\n",
       "<table border=\"1\" class=\"dataframe\">\n",
       "  <thead>\n",
       "    <tr style=\"text-align: right;\">\n",
       "      <th></th>\n",
       "      <th>OBJECTID</th>\n",
       "      <th>Shape_Leng</th>\n",
       "      <th>Shape_Area</th>\n",
       "      <th>zone</th>\n",
       "      <th>LocationID</th>\n",
       "      <th>borough</th>\n",
       "      <th>geometry</th>\n",
       "      <th>lon</th>\n",
       "      <th>lat</th>\n",
       "    </tr>\n",
       "  </thead>\n",
       "  <tbody>\n",
       "    <tr>\n",
       "      <th>0</th>\n",
       "      <td>1</td>\n",
       "      <td>0.116357</td>\n",
       "      <td>0.000782</td>\n",
       "      <td>Newark Airport</td>\n",
       "      <td>1</td>\n",
       "      <td>EWR</td>\n",
       "      <td>POLYGON ((-74.18445 40.69500, -74.18449 40.695...</td>\n",
       "      <td>-74.174000</td>\n",
       "      <td>40.691831</td>\n",
       "    </tr>\n",
       "    <tr>\n",
       "      <th>1</th>\n",
       "      <td>2</td>\n",
       "      <td>0.433470</td>\n",
       "      <td>0.004866</td>\n",
       "      <td>Jamaica Bay</td>\n",
       "      <td>2</td>\n",
       "      <td>Queens</td>\n",
       "      <td>MULTIPOLYGON (((-73.82338 40.63899, -73.82277 ...</td>\n",
       "      <td>-73.831299</td>\n",
       "      <td>40.616745</td>\n",
       "    </tr>\n",
       "  </tbody>\n",
       "</table>\n",
       "</div>"
      ],
      "text/plain": [
       "   OBJECTID  Shape_Leng  Shape_Area            zone  LocationID borough  \\\n",
       "0         1    0.116357    0.000782  Newark Airport           1     EWR   \n",
       "1         2    0.433470    0.004866     Jamaica Bay           2  Queens   \n",
       "\n",
       "                                            geometry        lon        lat  \n",
       "0  POLYGON ((-74.18445 40.69500, -74.18449 40.695... -74.174000  40.691831  \n",
       "1  MULTIPOLYGON (((-73.82338 40.63899, -73.82277 ... -73.831299  40.616745  "
      ]
     },
     "execution_count": 15,
     "metadata": {},
     "output_type": "execute_result"
    }
   ],
   "source": [
    "taxi_zone.head(2)"
   ]
  },
  {
   "cell_type": "code",
   "execution_count": 16,
   "id": "afa0811c",
   "metadata": {},
   "outputs": [],
   "source": [
    "#get the url of yellow taxi\n",
    "TAXI_URL = \"https://www1.nyc.gov/site/tlc/about/tlc-trip-record-data.page\"\n",
    "\n",
    "\n",
    "def get_taxi_html():\n",
    "    response = requests.get(TAXI_URL)\n",
    "    html = response.content\n",
    "    return html\n",
    "\n",
    "\n",
    "def find_taxi_parquet_links():\n",
    "    html = get_taxi_html()\n",
    "    soup = bs4.BeautifulSoup(html, 'html.parser')\n",
    "    yellow_lst = [a['href'] for a in soup.find_all(title = 'Yellow Taxi Trip Records')]\n",
    "    return yellow_lst\n",
    "\n",
    "yellow_lst =  find_taxi_parquet_links()\n"
   ]
  },
  {
   "cell_type": "code",
   "execution_count": 17,
   "id": "2bae1cd4",
   "metadata": {},
   "outputs": [],
   "source": [
    "#create the year_num list according to uber_data \n",
    "year_num = [13514, 29258, 30496, 31531, 31102, 29494, 30077]"
   ]
  },
  {
   "cell_type": "code",
   "execution_count": 18,
   "id": "482fe879",
   "metadata": {},
   "outputs": [],
   "source": [
    "#define the function to get and clean data in 2011-2015\n",
    "def get_and_clean_data(n):\n",
    "    file = list(range(1,13))\n",
    "    for i in range(len(file)):\n",
    "        file[i] = pd.read_parquet(yellow_lst[i+12*n-84])\n",
    "    for i in range(len(file)):\n",
    "        file[i].drop(['VendorID','tpep_dropoff_datetime','passenger_count',\\\n",
    "                            'trip_distance','RatecodeID','store_and_fwd_flag',\\\n",
    "                            'payment_type','fare_amount','extra','mta_tax',\\\n",
    "                            'tolls_amount','improvement_surcharge','total_amount',\n",
    "                            'congestion_surcharge','airport_fee'], \\\n",
    "                           axis = 1, inplace = True)\n",
    "    for i in range(len(file)):\n",
    "        file[i].drop(file[i][file[i]['PULocationID'] == file[i]['DOLocationID']].index, inplace = True)\n",
    "    for i in range(len(file)):\n",
    "        file[i].rename(columns = {'PULocationID' : 'LocationID','tpep_pickup_datetime':\\\n",
    "                                 'pickup_datetime'}, inplace = True)\n",
    "        file[i] = pd.merge(file[i], taxi_zone[['LocationID','lon','lat']], how = 'left', on = 'LocationID')\n",
    "        file[i].drop(['LocationID'], axis = 1, inplace = True)\n",
    "        file[i].rename(columns = {'DOLocationID' : 'LocationID','lon':'pickup_longitude', 'lat':\\\n",
    "                                       'pickup_latitude'}, inplace = True)\n",
    "        file[i] = pd.merge(file[i], taxi_zone[['LocationID','lon','lat']], how = 'left', on = 'LocationID')\n",
    "        file[i].drop(['LocationID'], axis = 1, inplace = True)\n",
    "        file[i].rename(columns = {'lon':'dropoff_longitude', 'lat':'dropoff_latitude'}, inplace = True)\n",
    "    for i in range(len(file)):\n",
    "        file[i] = file[i][(file[i]['pickup_longitude'] >= -74.242330) \\\n",
    "                                & (file[i]['pickup_longitude'] <= -73.717047) \\\n",
    "                                & (file[i]['pickup_latitude'] >= 40.560445) \\\n",
    "                                & (file[i]['pickup_latitude'] <= 40.908524) \\\n",
    "                                &(file[i]['dropoff_longitude'] >= -74.242330) \\\n",
    "                                & (file[i]['dropoff_longitude'] <= -73.717047) \\\n",
    "                                & (file[i]['dropoff_latitude'] >= 40.560445) \\\n",
    "                                & (file[i]['dropoff_latitude'] <= 40.908524)]\n",
    "    file_res = pd.DataFrame()\n",
    "    for i in range(len(file)):\n",
    "        file_res = pd.concat([file_res,file[i].sample(round(year_num[n]/12+1))], axis = 0)\n",
    "    file_res = file_res.sample(year_num[n])\n",
    "    file_res['distance'] = file_res.apply(lambda x: create_distance(x['pickup_latitude'],\\\n",
    "                                                                    x['pickup_longitude'],\\\n",
    "                                                                      x['dropoff_latitude'],\\\n",
    "                                                                   x['dropoff_longitude']), axis=1)\n",
    "    \n",
    "    return file_res"
   ]
  },
  {
   "cell_type": "code",
   "execution_count": 19,
   "id": "8d503c24",
   "metadata": {},
   "outputs": [],
   "source": [
    "#define the function to get and clean data in 2010\n",
    "def get_and_clean_data2(n):\n",
    "    file = list(range(1,13))\n",
    "    for i in range(len(file)):\n",
    "        file[i] = pd.read_parquet(yellow_lst[i+12*n-24])\n",
    "    for i in range(len(file)):\n",
    "        file[i].drop(['vendor_id','dropoff_datetime','passenger_count',\\\n",
    "                            'trip_distance','rate_code','store_and_fwd_flag',\\\n",
    "                            'payment_type','fare_amount','surcharge','mta_tax',\\\n",
    "                            'tolls_amount','total_amount'], axis = 1, inplace = True)\n",
    "    for i in range(len(file)):\n",
    "        file[i]['pickup_datetime'] = pd.to_datetime(file[i]['pickup_datetime'])\n",
    "    for i in range(len(file)):\n",
    "        file[i] = file[i][(file[i]['pickup_longitude'] >= -74.242330) \\\n",
    "                                & (file[i]['pickup_longitude'] <= -73.717047) \\\n",
    "                                & (file[i]['pickup_latitude'] >= 40.560445) \\\n",
    "                                & (file[i]['pickup_latitude'] <= 40.908524) \\\n",
    "                                &(file[i]['dropoff_longitude'] >= -74.242330) \\\n",
    "                                & (file[i]['dropoff_longitude'] <= -73.717047) \\\n",
    "                                & (file[i]['dropoff_latitude'] >= 40.560445) \\\n",
    "                                & (file[i]['dropoff_latitude'] <= 40.908524)]\n",
    "    file_res = pd.DataFrame()\n",
    "    for i in range(len(file)):\n",
    "        file_res = pd.concat([file_res,file[i].sample(round(year_num[n+5]/12+1))], axis = 0)\n",
    "    file_res = file_res.sample(year_num[n+5])\n",
    "    file_res['distance'] = file_res.apply(lambda x: create_distance(x['pickup_latitude'],\\\n",
    "                                                                    x['pickup_longitude'],\\\n",
    "                                                                      x['dropoff_latitude'],\\\n",
    "                                                                   x['dropoff_longitude']), axis=1)\n",
    "    \n",
    "    return file_res"
   ]
  },
  {
   "cell_type": "code",
   "execution_count": 20,
   "id": "98fbf352",
   "metadata": {},
   "outputs": [],
   "source": [
    "#define the function to get and clean data in 2009\n",
    "def get_and_clean_data3(n):\n",
    "    file = list(range(1,13))\n",
    "    for i in range(len(file)):\n",
    "        file[i] = pd.read_parquet(yellow_lst[i+12*n-12])\n",
    "    for i in range(len(file)):\n",
    "        file[i].drop(['vendor_name','Trip_Dropoff_DateTime','Passenger_Count',\\\n",
    "                            'Trip_Distance','Rate_Code','store_and_forward',\\\n",
    "                            'Payment_Type','Fare_Amt','surcharge','mta_tax',\\\n",
    "                            'Tolls_Amt','Total_Amt'], axis = 1, inplace = True)\n",
    "    for i in range(len(file)):\n",
    "        file[i].rename(columns = {'Trip_Pickup_DateTime' : 'pickup_datetime'\\\n",
    "                       ,'Start_Lon' : 'pickup_longitude', 'Start_Lat' : 'pickup_latitude',\\\n",
    "                       'End_Lon' : 'dropoff_longitude','End_Lat' : 'dropoff_latitude','Tip_Amt':'tip_amount'},\\\n",
    "                       inplace = True)\n",
    "    for i in range(len(file)):\n",
    "        file[i]['pickup_datetime'] = pd.to_datetime(file[i]['pickup_datetime'])\n",
    "    for i in range(len(file)):\n",
    "        file[i] = file[i][(file[i]['pickup_longitude'] >= -74.242330) \\\n",
    "                                & (file[i]['pickup_longitude'] <= -73.717047) \\\n",
    "                                & (file[i]['pickup_latitude'] >= 40.560445) \\\n",
    "                                & (file[i]['pickup_latitude'] <= 40.908524) \\\n",
    "                                &(file[i]['dropoff_longitude'] >= -74.242330) \\\n",
    "                                & (file[i]['dropoff_longitude'] <= -73.717047) \\\n",
    "                                & (file[i]['dropoff_latitude'] >= 40.560445) \\\n",
    "                                & (file[i]['dropoff_latitude'] <= 40.908524)]\n",
    "    file_res = pd.DataFrame()\n",
    "    for i in range(len(file)):\n",
    "        file_res = pd.concat([file_res,file[i].sample(round(year_num[n+6]/12+1))], axis = 0)\n",
    "    file_res = file_res.sample(year_num[n+6])\n",
    "    file_res['distance'] = file_res.apply(lambda x: create_distance(x['pickup_latitude'],\\\n",
    "                                                                    x['pickup_longitude'],\\\n",
    "                                                                      x['dropoff_latitude'],\\\n",
    "                                                                   x['dropoff_longitude']), axis=1)\n",
    "    \n",
    "    return file_res\n"
   ]
  },
  {
   "cell_type": "code",
   "execution_count": 21,
   "id": "71cb82e3",
   "metadata": {},
   "outputs": [],
   "source": [
    "file2015_res = get_and_clean_data(0)"
   ]
  },
  {
   "cell_type": "code",
   "execution_count": 22,
   "id": "2e72b51d",
   "metadata": {},
   "outputs": [],
   "source": [
    "file2014_res = get_and_clean_data(1)"
   ]
  },
  {
   "cell_type": "code",
   "execution_count": 23,
   "id": "e33e8d13",
   "metadata": {},
   "outputs": [],
   "source": [
    "file2013_res = get_and_clean_data(2)"
   ]
  },
  {
   "cell_type": "code",
   "execution_count": 24,
   "id": "5b230bed",
   "metadata": {},
   "outputs": [],
   "source": [
    "file2012_res = get_and_clean_data(3)"
   ]
  },
  {
   "cell_type": "code",
   "execution_count": 25,
   "id": "8e1fb317",
   "metadata": {},
   "outputs": [],
   "source": [
    "file2011_res = get_and_clean_data(4)"
   ]
  },
  {
   "cell_type": "code",
   "execution_count": 26,
   "id": "9628f9c8",
   "metadata": {},
   "outputs": [],
   "source": [
    "file2010_res = get_and_clean_data2(0)"
   ]
  },
  {
   "cell_type": "code",
   "execution_count": 27,
   "id": "82a66be1",
   "metadata": {
    "scrolled": true
   },
   "outputs": [],
   "source": [
    "file2009_res = get_and_clean_data3(0)"
   ]
  },
  {
   "cell_type": "code",
   "execution_count": 28,
   "id": "ebf83020",
   "metadata": {},
   "outputs": [],
   "source": [
    "yellow_taxi = pd.DataFrame()\n",
    "for i in [file2015_res, file2014_res, file2013_res,file2012_res,file2011_res,file2010_res,file2009_res]:\n",
    "    yellow_taxi = pd.concat([yellow_taxi,i], axis = 0)"
   ]
  },
  {
   "cell_type": "code",
   "execution_count": 29,
   "id": "a6f70eb7",
   "metadata": {},
   "outputs": [],
   "source": [
    "yellow_taxi = yellow_taxi.reset_index()\n",
    "yellow_taxi = yellow_taxi.drop(['index'], axis =1 )"
   ]
  },
  {
   "cell_type": "code",
   "execution_count": 30,
   "id": "fb406d36",
   "metadata": {},
   "outputs": [
    {
     "data": {
      "text/plain": [
       "pickup_datetime      0\n",
       "tip_amount           0\n",
       "pickup_longitude     0\n",
       "pickup_latitude      0\n",
       "dropoff_longitude    0\n",
       "dropoff_latitude     0\n",
       "distance             0\n",
       "dtype: int64"
      ]
     },
     "execution_count": 30,
     "metadata": {},
     "output_type": "execute_result"
    }
   ],
   "source": [
    "yellow_taxi.isnull().sum()"
   ]
  },
  {
   "cell_type": "code",
   "execution_count": null,
   "id": "bab61f22",
   "metadata": {},
   "outputs": [],
   "source": []
  }
 ],
 "metadata": {
  "kernelspec": {
   "display_name": "Python 3",
   "language": "python",
   "name": "python3"
  },
  "language_info": {
   "codemirror_mode": {
    "name": "ipython",
    "version": 3
   },
   "file_extension": ".py",
   "mimetype": "text/x-python",
   "name": "python",
   "nbconvert_exporter": "python",
   "pygments_lexer": "ipython3",
   "version": "3.8.8"
  }
 },
 "nbformat": 4,
 "nbformat_minor": 5
}
