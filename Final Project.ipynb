{
 "cells": [
  {
   "cell_type": "code",
   "execution_count": 59,
   "id": "8e1e215d",
   "metadata": {},
   "outputs": [
    {
     "data": {
      "application/javascript": [
       "\n",
       "            setTimeout(function() {\n",
       "                var nbb_cell_id = 59;\n",
       "                var nbb_unformatted_code = \"%load_ext nb_black\";\n",
       "                var nbb_formatted_code = \"%load_ext nb_black\";\n",
       "                var nbb_cells = Jupyter.notebook.get_cells();\n",
       "                for (var i = 0; i < nbb_cells.length; ++i) {\n",
       "                    if (nbb_cells[i].input_prompt_number == nbb_cell_id) {\n",
       "                        if (nbb_cells[i].get_text() == nbb_unformatted_code) {\n",
       "                             nbb_cells[i].set_text(nbb_formatted_code);\n",
       "                        }\n",
       "                        break;\n",
       "                    }\n",
       "                }\n",
       "            }, 500);\n",
       "            "
      ],
      "text/plain": [
       "<IPython.core.display.Javascript object>"
      ]
     },
     "metadata": {},
     "output_type": "display_data"
    }
   ],
   "source": [
    "%load_ext nb_black"
   ]
  },
  {
   "cell_type": "code",
   "execution_count": 60,
   "id": "86463909",
   "metadata": {},
   "outputs": [
    {
     "data": {
      "application/javascript": [
       "\n",
       "            setTimeout(function() {\n",
       "                var nbb_cell_id = 60;\n",
       "                var nbb_unformatted_code = \"#import package\\nimport bs4\\nimport requests\\nimport pandas as pd\\nimport geopandas as gpd\\nimport random\\nimport math\\nfrom geopy.distance import geodesic\\nimport sqlalchemy as db\\nimport matplotlib.pyplot as plt\\nimport seaborn as sns\\nimport scipy.stats as st\\nimport matplotlib\\nimport folium\\nimport pandas as pd\\nimport numpy as np\\nimport webbrowser\\nfrom folium.plugins import HeatMap\\nimport xlrd\\nimport matplotlib.image as mpimg\";\n",
       "                var nbb_formatted_code = \"# import package\\nimport bs4\\nimport requests\\nimport pandas as pd\\nimport geopandas as gpd\\nimport random\\nimport math\\nfrom geopy.distance import geodesic\\nimport sqlalchemy as db\\nimport matplotlib.pyplot as plt\\nimport seaborn as sns\\nimport scipy.stats as st\\nimport matplotlib\\nimport folium\\nimport pandas as pd\\nimport numpy as np\\nimport webbrowser\\nfrom folium.plugins import HeatMap\\nimport xlrd\\nimport matplotlib.image as mpimg\";\n",
       "                var nbb_cells = Jupyter.notebook.get_cells();\n",
       "                for (var i = 0; i < nbb_cells.length; ++i) {\n",
       "                    if (nbb_cells[i].input_prompt_number == nbb_cell_id) {\n",
       "                        if (nbb_cells[i].get_text() == nbb_unformatted_code) {\n",
       "                             nbb_cells[i].set_text(nbb_formatted_code);\n",
       "                        }\n",
       "                        break;\n",
       "                    }\n",
       "                }\n",
       "            }, 500);\n",
       "            "
      ],
      "text/plain": [
       "<IPython.core.display.Javascript object>"
      ]
     },
     "metadata": {},
     "output_type": "display_data"
    }
   ],
   "source": [
    "# import package\n",
    "import bs4\n",
    "import requests\n",
    "import pandas as pd\n",
    "import geopandas as gpd\n",
    "import random\n",
    "import math\n",
    "from geopy.distance import geodesic\n",
    "import sqlalchemy as db\n",
    "import matplotlib.pyplot as plt\n",
    "import seaborn as sns\n",
    "import scipy.stats as st\n",
    "import matplotlib\n",
    "import folium\n",
    "import pandas as pd\n",
    "import numpy as np\n",
    "import webbrowser\n",
    "from folium.plugins import HeatMap\n",
    "import xlrd\n",
    "import matplotlib.image as mpimg"
   ]
  },
  {
   "cell_type": "markdown",
   "id": "2217dae9",
   "metadata": {},
   "source": [
    "## Part1 Data Processing"
   ]
  },
  {
   "cell_type": "markdown",
   "id": "5b463b1a",
   "metadata": {},
   "source": [
    "## distance calculation\n",
    "Define a function to caculate distcance between two pairs of given longtitude and latitude"
   ]
  },
  {
   "cell_type": "code",
   "execution_count": 61,
   "id": "3f7a8f59",
   "metadata": {},
   "outputs": [
    {
     "data": {
      "application/javascript": [
       "\n",
       "            setTimeout(function() {\n",
       "                var nbb_cell_id = 61;\n",
       "                var nbb_unformatted_code = \"#define a function to calculate distance\\ndef create_distance(lat1,lon1,lat2,lon2):\\n    dist = geodesic((lat1,lon1),(lat2,lon2)).km\\n    return dist\";\n",
       "                var nbb_formatted_code = \"# define a function to calculate distance\\ndef create_distance(lat1, lon1, lat2, lon2):\\n    dist = geodesic((lat1, lon1), (lat2, lon2)).km\\n    return dist\";\n",
       "                var nbb_cells = Jupyter.notebook.get_cells();\n",
       "                for (var i = 0; i < nbb_cells.length; ++i) {\n",
       "                    if (nbb_cells[i].input_prompt_number == nbb_cell_id) {\n",
       "                        if (nbb_cells[i].get_text() == nbb_unformatted_code) {\n",
       "                             nbb_cells[i].set_text(nbb_formatted_code);\n",
       "                        }\n",
       "                        break;\n",
       "                    }\n",
       "                }\n",
       "            }, 500);\n",
       "            "
      ],
      "text/plain": [
       "<IPython.core.display.Javascript object>"
      ]
     },
     "metadata": {},
     "output_type": "display_data"
    }
   ],
   "source": [
    "# define a function to calculate distance\n",
    "def create_distance(lat1, lon1, lat2, lon2):\n",
    "    dist = geodesic((lat1, lon1), (lat2, lon2)).km\n",
    "    return dist"
   ]
  },
  {
   "cell_type": "markdown",
   "id": "590cb347",
   "metadata": {},
   "source": [
    "## uber_date\n",
    "1. Import and go through the data, delete the data out of given range\n",
    "2. Crate a 'year' column to obatin the # of datapoints in ervery year\n",
    "3. Drop invalid variables and add distance to the dataframe"
   ]
  },
  {
   "cell_type": "code",
   "execution_count": 62,
   "id": "44202b87",
   "metadata": {
    "scrolled": true
   },
   "outputs": [
    {
     "data": {
      "application/javascript": [
       "\n",
       "            setTimeout(function() {\n",
       "                var nbb_cell_id = 62;\n",
       "                var nbb_unformatted_code = \"#import uber_data\\nuber = pd.read_csv('uber_rides_sample.csv')\";\n",
       "                var nbb_formatted_code = \"# import uber_data\\nuber = pd.read_csv(\\\"uber_rides_sample.csv\\\")\";\n",
       "                var nbb_cells = Jupyter.notebook.get_cells();\n",
       "                for (var i = 0; i < nbb_cells.length; ++i) {\n",
       "                    if (nbb_cells[i].input_prompt_number == nbb_cell_id) {\n",
       "                        if (nbb_cells[i].get_text() == nbb_unformatted_code) {\n",
       "                             nbb_cells[i].set_text(nbb_formatted_code);\n",
       "                        }\n",
       "                        break;\n",
       "                    }\n",
       "                }\n",
       "            }, 500);\n",
       "            "
      ],
      "text/plain": [
       "<IPython.core.display.Javascript object>"
      ]
     },
     "metadata": {},
     "output_type": "display_data"
    }
   ],
   "source": [
    "# import uber_data\n",
    "uber = pd.read_csv(\"uber_rides_sample.csv\")"
   ]
  },
  {
   "cell_type": "code",
   "execution_count": 63,
   "id": "131153d9",
   "metadata": {},
   "outputs": [
    {
     "data": {
      "text/html": [
       "<div>\n",
       "<style scoped>\n",
       "    .dataframe tbody tr th:only-of-type {\n",
       "        vertical-align: middle;\n",
       "    }\n",
       "\n",
       "    .dataframe tbody tr th {\n",
       "        vertical-align: top;\n",
       "    }\n",
       "\n",
       "    .dataframe thead th {\n",
       "        text-align: right;\n",
       "    }\n",
       "</style>\n",
       "<table border=\"1\" class=\"dataframe\">\n",
       "  <thead>\n",
       "    <tr style=\"text-align: right;\">\n",
       "      <th></th>\n",
       "      <th>Unnamed: 0</th>\n",
       "      <th>key</th>\n",
       "      <th>fare_amount</th>\n",
       "      <th>pickup_datetime</th>\n",
       "      <th>pickup_longitude</th>\n",
       "      <th>pickup_latitude</th>\n",
       "      <th>dropoff_longitude</th>\n",
       "      <th>dropoff_latitude</th>\n",
       "      <th>passenger_count</th>\n",
       "    </tr>\n",
       "  </thead>\n",
       "  <tbody>\n",
       "    <tr>\n",
       "      <th>0</th>\n",
       "      <td>24238194</td>\n",
       "      <td>2015-05-07 19:52:06.0000003</td>\n",
       "      <td>7.5</td>\n",
       "      <td>2015-05-07 19:52:06 UTC</td>\n",
       "      <td>-73.999817</td>\n",
       "      <td>40.738354</td>\n",
       "      <td>-73.999512</td>\n",
       "      <td>40.723217</td>\n",
       "      <td>1</td>\n",
       "    </tr>\n",
       "    <tr>\n",
       "      <th>1</th>\n",
       "      <td>27835199</td>\n",
       "      <td>2009-07-17 20:04:56.0000002</td>\n",
       "      <td>7.7</td>\n",
       "      <td>2009-07-17 20:04:56 UTC</td>\n",
       "      <td>-73.994355</td>\n",
       "      <td>40.728225</td>\n",
       "      <td>-73.994710</td>\n",
       "      <td>40.750325</td>\n",
       "      <td>1</td>\n",
       "    </tr>\n",
       "  </tbody>\n",
       "</table>\n",
       "</div>"
      ],
      "text/plain": [
       "   Unnamed: 0                          key  fare_amount  \\\n",
       "0    24238194  2015-05-07 19:52:06.0000003          7.5   \n",
       "1    27835199  2009-07-17 20:04:56.0000002          7.7   \n",
       "\n",
       "           pickup_datetime  pickup_longitude  pickup_latitude  \\\n",
       "0  2015-05-07 19:52:06 UTC        -73.999817        40.738354   \n",
       "1  2009-07-17 20:04:56 UTC        -73.994355        40.728225   \n",
       "\n",
       "   dropoff_longitude  dropoff_latitude  passenger_count  \n",
       "0         -73.999512         40.723217                1  \n",
       "1         -73.994710         40.750325                1  "
      ]
     },
     "execution_count": 63,
     "metadata": {},
     "output_type": "execute_result"
    },
    {
     "data": {
      "application/javascript": [
       "\n",
       "            setTimeout(function() {\n",
       "                var nbb_cell_id = 63;\n",
       "                var nbb_unformatted_code = \"#check\\nuber.head(2)\";\n",
       "                var nbb_formatted_code = \"# check\\nuber.head(2)\";\n",
       "                var nbb_cells = Jupyter.notebook.get_cells();\n",
       "                for (var i = 0; i < nbb_cells.length; ++i) {\n",
       "                    if (nbb_cells[i].input_prompt_number == nbb_cell_id) {\n",
       "                        if (nbb_cells[i].get_text() == nbb_unformatted_code) {\n",
       "                             nbb_cells[i].set_text(nbb_formatted_code);\n",
       "                        }\n",
       "                        break;\n",
       "                    }\n",
       "                }\n",
       "            }, 500);\n",
       "            "
      ],
      "text/plain": [
       "<IPython.core.display.Javascript object>"
      ]
     },
     "metadata": {},
     "output_type": "display_data"
    }
   ],
   "source": [
    "# check\n",
    "uber.head(2)"
   ]
  },
  {
   "cell_type": "code",
   "execution_count": 64,
   "id": "ddbf57c1",
   "metadata": {},
   "outputs": [
    {
     "data": {
      "application/javascript": [
       "\n",
       "            setTimeout(function() {\n",
       "                var nbb_cell_id = 64;\n",
       "                var nbb_unformatted_code = \"# keep data in required range\\nuber_select = uber[(uber['pickup_longitude'] >= -74.242330) & (uber['pickup_longitude'] <= -73.717047) \\\\\\n    & (uber['pickup_latitude'] >= 40.560445) & (uber['pickup_latitude'] <= 40.908524) &\\\\\\n    (uber['dropoff_longitude'] >= -74.242330) & (uber['dropoff_longitude'] <= -73.717047) \\\\\\n    & (uber['dropoff_latitude'] >= 40.560445) & (uber['dropoff_latitude'] <= 40.908524)]\";\n",
       "                var nbb_formatted_code = \"# keep data in required range\\nuber_select = uber[\\n    (uber[\\\"pickup_longitude\\\"] >= -74.242330)\\n    & (uber[\\\"pickup_longitude\\\"] <= -73.717047)\\n    & (uber[\\\"pickup_latitude\\\"] >= 40.560445)\\n    & (uber[\\\"pickup_latitude\\\"] <= 40.908524)\\n    & (uber[\\\"dropoff_longitude\\\"] >= -74.242330)\\n    & (uber[\\\"dropoff_longitude\\\"] <= -73.717047)\\n    & (uber[\\\"dropoff_latitude\\\"] >= 40.560445)\\n    & (uber[\\\"dropoff_latitude\\\"] <= 40.908524)\\n]\";\n",
       "                var nbb_cells = Jupyter.notebook.get_cells();\n",
       "                for (var i = 0; i < nbb_cells.length; ++i) {\n",
       "                    if (nbb_cells[i].input_prompt_number == nbb_cell_id) {\n",
       "                        if (nbb_cells[i].get_text() == nbb_unformatted_code) {\n",
       "                             nbb_cells[i].set_text(nbb_formatted_code);\n",
       "                        }\n",
       "                        break;\n",
       "                    }\n",
       "                }\n",
       "            }, 500);\n",
       "            "
      ],
      "text/plain": [
       "<IPython.core.display.Javascript object>"
      ]
     },
     "metadata": {},
     "output_type": "display_data"
    }
   ],
   "source": [
    "# keep data in required range\n",
    "uber_select = uber[\n",
    "    (uber[\"pickup_longitude\"] >= -74.242330)\n",
    "    & (uber[\"pickup_longitude\"] <= -73.717047)\n",
    "    & (uber[\"pickup_latitude\"] >= 40.560445)\n",
    "    & (uber[\"pickup_latitude\"] <= 40.908524)\n",
    "    & (uber[\"dropoff_longitude\"] >= -74.242330)\n",
    "    & (uber[\"dropoff_longitude\"] <= -73.717047)\n",
    "    & (uber[\"dropoff_latitude\"] >= 40.560445)\n",
    "    & (uber[\"dropoff_latitude\"] <= 40.908524)\n",
    "]"
   ]
  },
  {
   "cell_type": "code",
   "execution_count": 65,
   "id": "5ee5508d",
   "metadata": {},
   "outputs": [
    {
     "name": "stderr",
     "output_type": "stream",
     "text": [
      "<ipython-input-65-77b182171db7>:2: SettingWithCopyWarning: \n",
      "A value is trying to be set on a copy of a slice from a DataFrame.\n",
      "Try using .loc[row_indexer,col_indexer] = value instead\n",
      "\n",
      "See the caveats in the documentation: https://pandas.pydata.org/pandas-docs/stable/user_guide/indexing.html#returning-a-view-versus-a-copy\n",
      "  uber_select['year'] = pd.to_datetime(uber['pickup_datetime']).dt.year\n"
     ]
    },
    {
     "data": {
      "text/plain": [
       "2012    31531\n",
       "2011    31102\n",
       "2013    30496\n",
       "2009    30077\n",
       "2010    29494\n",
       "2014    29258\n",
       "2015    13514\n",
       "Name: year, dtype: int64"
      ]
     },
     "execution_count": 65,
     "metadata": {},
     "output_type": "execute_result"
    },
    {
     "data": {
      "application/javascript": [
       "\n",
       "            setTimeout(function() {\n",
       "                var nbb_cell_id = 65;\n",
       "                var nbb_unformatted_code = \"#will sample certain number of data from yellow taxi data based on this\\nuber_select['year'] = pd.to_datetime(uber['pickup_datetime']).dt.year\\nuber_select['year'].value_counts()\";\n",
       "                var nbb_formatted_code = \"# will sample certain number of data from yellow taxi data based on this\\nuber_select[\\\"year\\\"] = pd.to_datetime(uber[\\\"pickup_datetime\\\"]).dt.year\\nuber_select[\\\"year\\\"].value_counts()\";\n",
       "                var nbb_cells = Jupyter.notebook.get_cells();\n",
       "                for (var i = 0; i < nbb_cells.length; ++i) {\n",
       "                    if (nbb_cells[i].input_prompt_number == nbb_cell_id) {\n",
       "                        if (nbb_cells[i].get_text() == nbb_unformatted_code) {\n",
       "                             nbb_cells[i].set_text(nbb_formatted_code);\n",
       "                        }\n",
       "                        break;\n",
       "                    }\n",
       "                }\n",
       "            }, 500);\n",
       "            "
      ],
      "text/plain": [
       "<IPython.core.display.Javascript object>"
      ]
     },
     "metadata": {},
     "output_type": "display_data"
    }
   ],
   "source": [
    "# will sample certain number of data from yellow taxi data based on this\n",
    "uber_select[\"year\"] = pd.to_datetime(uber[\"pickup_datetime\"]).dt.year\n",
    "uber_select[\"year\"].value_counts()"
   ]
  },
  {
   "cell_type": "code",
   "execution_count": 66,
   "id": "8ed21cc2",
   "metadata": {},
   "outputs": [
    {
     "name": "stderr",
     "output_type": "stream",
     "text": [
      "<ipython-input-66-4a960f229f9c>:2: SettingWithCopyWarning: \n",
      "A value is trying to be set on a copy of a slice from a DataFrame\n",
      "\n",
      "See the caveats in the documentation: https://pandas.pydata.org/pandas-docs/stable/user_guide/indexing.html#returning-a-view-versus-a-copy\n",
      "  uber_select.drop(['Unnamed: 0','key','fare_amount','passenger_count', 'year'], axis = 1, inplace = True)\n"
     ]
    },
    {
     "data": {
      "application/javascript": [
       "\n",
       "            setTimeout(function() {\n",
       "                var nbb_cell_id = 66;\n",
       "                var nbb_unformatted_code = \"#drop invalid variables and add distance to the dataframe\\nuber_select.drop(['Unnamed: 0','key','fare_amount','passenger_count', 'year'], axis = 1, inplace = True)\";\n",
       "                var nbb_formatted_code = \"# drop invalid variables and add distance to the dataframe\\nuber_select.drop(\\n    [\\\"Unnamed: 0\\\", \\\"key\\\", \\\"fare_amount\\\", \\\"passenger_count\\\", \\\"year\\\"],\\n    axis=1,\\n    inplace=True,\\n)\";\n",
       "                var nbb_cells = Jupyter.notebook.get_cells();\n",
       "                for (var i = 0; i < nbb_cells.length; ++i) {\n",
       "                    if (nbb_cells[i].input_prompt_number == nbb_cell_id) {\n",
       "                        if (nbb_cells[i].get_text() == nbb_unformatted_code) {\n",
       "                             nbb_cells[i].set_text(nbb_formatted_code);\n",
       "                        }\n",
       "                        break;\n",
       "                    }\n",
       "                }\n",
       "            }, 500);\n",
       "            "
      ],
      "text/plain": [
       "<IPython.core.display.Javascript object>"
      ]
     },
     "metadata": {},
     "output_type": "display_data"
    }
   ],
   "source": [
    "# drop invalid variables and add distance to the dataframe\n",
    "uber_select.drop(\n",
    "    [\"Unnamed: 0\", \"key\", \"fare_amount\", \"passenger_count\", \"year\"],\n",
    "    axis=1,\n",
    "    inplace=True,\n",
    ")"
   ]
  },
  {
   "cell_type": "code",
   "execution_count": 67,
   "id": "05420eb4",
   "metadata": {},
   "outputs": [
    {
     "name": "stderr",
     "output_type": "stream",
     "text": [
      "<ipython-input-67-355f9ddcbd83>:1: SettingWithCopyWarning: \n",
      "A value is trying to be set on a copy of a slice from a DataFrame.\n",
      "Try using .loc[row_indexer,col_indexer] = value instead\n",
      "\n",
      "See the caveats in the documentation: https://pandas.pydata.org/pandas-docs/stable/user_guide/indexing.html#returning-a-view-versus-a-copy\n",
      "  uber_select['distance'] = uber_select.apply(lambda x: create_distance(x['pickup_latitude'],\\\n"
     ]
    },
    {
     "data": {
      "application/javascript": [
       "\n",
       "            setTimeout(function() {\n",
       "                var nbb_cell_id = 67;\n",
       "                var nbb_unformatted_code = \"uber_select['distance'] = uber_select.apply(lambda x: create_distance(x['pickup_latitude'],\\\\\\n                                                                    x['pickup_longitude'],\\\\\\n                                                                      x['dropoff_latitude'],\\\\\\n                                                                   x['dropoff_longitude']), axis=1)\";\n",
       "                var nbb_formatted_code = \"uber_select[\\\"distance\\\"] = uber_select.apply(\\n    lambda x: create_distance(\\n        x[\\\"pickup_latitude\\\"],\\n        x[\\\"pickup_longitude\\\"],\\n        x[\\\"dropoff_latitude\\\"],\\n        x[\\\"dropoff_longitude\\\"],\\n    ),\\n    axis=1,\\n)\";\n",
       "                var nbb_cells = Jupyter.notebook.get_cells();\n",
       "                for (var i = 0; i < nbb_cells.length; ++i) {\n",
       "                    if (nbb_cells[i].input_prompt_number == nbb_cell_id) {\n",
       "                        if (nbb_cells[i].get_text() == nbb_unformatted_code) {\n",
       "                             nbb_cells[i].set_text(nbb_formatted_code);\n",
       "                        }\n",
       "                        break;\n",
       "                    }\n",
       "                }\n",
       "            }, 500);\n",
       "            "
      ],
      "text/plain": [
       "<IPython.core.display.Javascript object>"
      ]
     },
     "metadata": {},
     "output_type": "display_data"
    }
   ],
   "source": [
    "uber_select[\"distance\"] = uber_select.apply(\n",
    "    lambda x: create_distance(\n",
    "        x[\"pickup_latitude\"],\n",
    "        x[\"pickup_longitude\"],\n",
    "        x[\"dropoff_latitude\"],\n",
    "        x[\"dropoff_longitude\"],\n",
    "    ),\n",
    "    axis=1,\n",
    ")"
   ]
  },
  {
   "cell_type": "code",
   "execution_count": 68,
   "id": "4bc015ce",
   "metadata": {},
   "outputs": [
    {
     "data": {
      "application/javascript": [
       "\n",
       "            setTimeout(function() {\n",
       "                var nbb_cell_id = 68;\n",
       "                var nbb_unformatted_code = \"uber_data = uber_select.reset_index()\\nuber_data = uber_data.drop(['index'], axis = 1)\";\n",
       "                var nbb_formatted_code = \"uber_data = uber_select.reset_index()\\nuber_data = uber_data.drop([\\\"index\\\"], axis=1)\";\n",
       "                var nbb_cells = Jupyter.notebook.get_cells();\n",
       "                for (var i = 0; i < nbb_cells.length; ++i) {\n",
       "                    if (nbb_cells[i].input_prompt_number == nbb_cell_id) {\n",
       "                        if (nbb_cells[i].get_text() == nbb_unformatted_code) {\n",
       "                             nbb_cells[i].set_text(nbb_formatted_code);\n",
       "                        }\n",
       "                        break;\n",
       "                    }\n",
       "                }\n",
       "            }, 500);\n",
       "            "
      ],
      "text/plain": [
       "<IPython.core.display.Javascript object>"
      ]
     },
     "metadata": {},
     "output_type": "display_data"
    }
   ],
   "source": [
    "uber_data = uber_select.reset_index()\n",
    "uber_data = uber_data.drop([\"index\"], axis=1)"
   ]
  },
  {
   "cell_type": "code",
   "execution_count": 69,
   "id": "4e2c69e3",
   "metadata": {},
   "outputs": [
    {
     "data": {
      "application/javascript": [
       "\n",
       "            setTimeout(function() {\n",
       "                var nbb_cell_id = 69;\n",
       "                var nbb_unformatted_code = \"uber_data['pickup_datetime'] = pd.to_datetime(uber_data['pickup_datetime'])\";\n",
       "                var nbb_formatted_code = \"uber_data[\\\"pickup_datetime\\\"] = pd.to_datetime(uber_data[\\\"pickup_datetime\\\"])\";\n",
       "                var nbb_cells = Jupyter.notebook.get_cells();\n",
       "                for (var i = 0; i < nbb_cells.length; ++i) {\n",
       "                    if (nbb_cells[i].input_prompt_number == nbb_cell_id) {\n",
       "                        if (nbb_cells[i].get_text() == nbb_unformatted_code) {\n",
       "                             nbb_cells[i].set_text(nbb_formatted_code);\n",
       "                        }\n",
       "                        break;\n",
       "                    }\n",
       "                }\n",
       "            }, 500);\n",
       "            "
      ],
      "text/plain": [
       "<IPython.core.display.Javascript object>"
      ]
     },
     "metadata": {},
     "output_type": "display_data"
    }
   ],
   "source": [
    "uber_data[\"pickup_datetime\"] = pd.to_datetime(uber_data[\"pickup_datetime\"])"
   ]
  },
  {
   "cell_type": "code",
   "execution_count": 70,
   "id": "9bb04d32",
   "metadata": {},
   "outputs": [
    {
     "data": {
      "text/html": [
       "<div>\n",
       "<style scoped>\n",
       "    .dataframe tbody tr th:only-of-type {\n",
       "        vertical-align: middle;\n",
       "    }\n",
       "\n",
       "    .dataframe tbody tr th {\n",
       "        vertical-align: top;\n",
       "    }\n",
       "\n",
       "    .dataframe thead th {\n",
       "        text-align: right;\n",
       "    }\n",
       "</style>\n",
       "<table border=\"1\" class=\"dataframe\">\n",
       "  <thead>\n",
       "    <tr style=\"text-align: right;\">\n",
       "      <th></th>\n",
       "      <th>pickup_datetime</th>\n",
       "      <th>pickup_longitude</th>\n",
       "      <th>pickup_latitude</th>\n",
       "      <th>dropoff_longitude</th>\n",
       "      <th>dropoff_latitude</th>\n",
       "      <th>distance</th>\n",
       "    </tr>\n",
       "  </thead>\n",
       "  <tbody>\n",
       "    <tr>\n",
       "      <th>0</th>\n",
       "      <td>2015-05-07 19:52:06+00:00</td>\n",
       "      <td>-73.999817</td>\n",
       "      <td>40.738354</td>\n",
       "      <td>-73.999512</td>\n",
       "      <td>40.723217</td>\n",
       "      <td>1.681111</td>\n",
       "    </tr>\n",
       "    <tr>\n",
       "      <th>1</th>\n",
       "      <td>2009-07-17 20:04:56+00:00</td>\n",
       "      <td>-73.994355</td>\n",
       "      <td>40.728225</td>\n",
       "      <td>-73.994710</td>\n",
       "      <td>40.750325</td>\n",
       "      <td>2.454363</td>\n",
       "    </tr>\n",
       "  </tbody>\n",
       "</table>\n",
       "</div>"
      ],
      "text/plain": [
       "            pickup_datetime  pickup_longitude  pickup_latitude  \\\n",
       "0 2015-05-07 19:52:06+00:00        -73.999817        40.738354   \n",
       "1 2009-07-17 20:04:56+00:00        -73.994355        40.728225   \n",
       "\n",
       "   dropoff_longitude  dropoff_latitude  distance  \n",
       "0         -73.999512         40.723217  1.681111  \n",
       "1         -73.994710         40.750325  2.454363  "
      ]
     },
     "execution_count": 70,
     "metadata": {},
     "output_type": "execute_result"
    },
    {
     "data": {
      "application/javascript": [
       "\n",
       "            setTimeout(function() {\n",
       "                var nbb_cell_id = 70;\n",
       "                var nbb_unformatted_code = \"uber_data.head(2)\";\n",
       "                var nbb_formatted_code = \"uber_data.head(2)\";\n",
       "                var nbb_cells = Jupyter.notebook.get_cells();\n",
       "                for (var i = 0; i < nbb_cells.length; ++i) {\n",
       "                    if (nbb_cells[i].input_prompt_number == nbb_cell_id) {\n",
       "                        if (nbb_cells[i].get_text() == nbb_unformatted_code) {\n",
       "                             nbb_cells[i].set_text(nbb_formatted_code);\n",
       "                        }\n",
       "                        break;\n",
       "                    }\n",
       "                }\n",
       "            }, 500);\n",
       "            "
      ],
      "text/plain": [
       "<IPython.core.display.Javascript object>"
      ]
     },
     "metadata": {},
     "output_type": "display_data"
    }
   ],
   "source": [
    "uber_data.head(2)"
   ]
  },
  {
   "cell_type": "markdown",
   "id": "1502c0de",
   "metadata": {},
   "source": [
    "## yellow_taxi data\n",
    "1. Improt taxi_zone.shp and convert geometry data into normal longtitue and lantitude\n",
    "2. Get the url of yellow taxi and collect the data as yearly file and check the data\n",
    "3. Drop invalid variables\n",
    "4. Drop the data with same PULocationID and DOLocationID, merge geographical information and drop data out of given range\n",
    "5. Sample the data accoring to the data amouont in uber\n",
    "6. Add distance to the dataframe\n",
    "7. Because data in 2010 and 2009 have different information in it, we process them seperately"
   ]
  },
  {
   "cell_type": "code",
   "execution_count": 71,
   "id": "bc5d9dfe",
   "metadata": {},
   "outputs": [
    {
     "data": {
      "application/javascript": [
       "\n",
       "            setTimeout(function() {\n",
       "                var nbb_cell_id = 71;\n",
       "                var nbb_unformatted_code = \"#import taxi_zone information\\ntaxi_zone = gpd.read_file('taxi_zones.shp')\";\n",
       "                var nbb_formatted_code = \"# import taxi_zone information\\ntaxi_zone = gpd.read_file(\\\"taxi_zones.shp\\\")\";\n",
       "                var nbb_cells = Jupyter.notebook.get_cells();\n",
       "                for (var i = 0; i < nbb_cells.length; ++i) {\n",
       "                    if (nbb_cells[i].input_prompt_number == nbb_cell_id) {\n",
       "                        if (nbb_cells[i].get_text() == nbb_unformatted_code) {\n",
       "                             nbb_cells[i].set_text(nbb_formatted_code);\n",
       "                        }\n",
       "                        break;\n",
       "                    }\n",
       "                }\n",
       "            }, 500);\n",
       "            "
      ],
      "text/plain": [
       "<IPython.core.display.Javascript object>"
      ]
     },
     "metadata": {},
     "output_type": "display_data"
    }
   ],
   "source": [
    "# import taxi_zone information\n",
    "taxi_zone = gpd.read_file(\"taxi_zones.shp\")"
   ]
  },
  {
   "cell_type": "code",
   "execution_count": 72,
   "id": "75e80805",
   "metadata": {},
   "outputs": [
    {
     "data": {
      "text/html": [
       "<div>\n",
       "<style scoped>\n",
       "    .dataframe tbody tr th:only-of-type {\n",
       "        vertical-align: middle;\n",
       "    }\n",
       "\n",
       "    .dataframe tbody tr th {\n",
       "        vertical-align: top;\n",
       "    }\n",
       "\n",
       "    .dataframe thead th {\n",
       "        text-align: right;\n",
       "    }\n",
       "</style>\n",
       "<table border=\"1\" class=\"dataframe\">\n",
       "  <thead>\n",
       "    <tr style=\"text-align: right;\">\n",
       "      <th></th>\n",
       "      <th>OBJECTID</th>\n",
       "      <th>Shape_Leng</th>\n",
       "      <th>Shape_Area</th>\n",
       "      <th>zone</th>\n",
       "      <th>LocationID</th>\n",
       "      <th>borough</th>\n",
       "      <th>geometry</th>\n",
       "    </tr>\n",
       "  </thead>\n",
       "  <tbody>\n",
       "    <tr>\n",
       "      <th>0</th>\n",
       "      <td>1</td>\n",
       "      <td>0.116357</td>\n",
       "      <td>0.000782</td>\n",
       "      <td>Newark Airport</td>\n",
       "      <td>1</td>\n",
       "      <td>EWR</td>\n",
       "      <td>POLYGON ((933100.918 192536.086, 933091.011 19...</td>\n",
       "    </tr>\n",
       "    <tr>\n",
       "      <th>1</th>\n",
       "      <td>2</td>\n",
       "      <td>0.433470</td>\n",
       "      <td>0.004866</td>\n",
       "      <td>Jamaica Bay</td>\n",
       "      <td>2</td>\n",
       "      <td>Queens</td>\n",
       "      <td>MULTIPOLYGON (((1033269.244 172126.008, 103343...</td>\n",
       "    </tr>\n",
       "  </tbody>\n",
       "</table>\n",
       "</div>"
      ],
      "text/plain": [
       "   OBJECTID  Shape_Leng  Shape_Area            zone  LocationID borough  \\\n",
       "0         1    0.116357    0.000782  Newark Airport           1     EWR   \n",
       "1         2    0.433470    0.004866     Jamaica Bay           2  Queens   \n",
       "\n",
       "                                            geometry  \n",
       "0  POLYGON ((933100.918 192536.086, 933091.011 19...  \n",
       "1  MULTIPOLYGON (((1033269.244 172126.008, 103343...  "
      ]
     },
     "execution_count": 72,
     "metadata": {},
     "output_type": "execute_result"
    },
    {
     "data": {
      "application/javascript": [
       "\n",
       "            setTimeout(function() {\n",
       "                var nbb_cell_id = 72;\n",
       "                var nbb_unformatted_code = \"#check\\ntaxi_zone.head(2)\";\n",
       "                var nbb_formatted_code = \"# check\\ntaxi_zone.head(2)\";\n",
       "                var nbb_cells = Jupyter.notebook.get_cells();\n",
       "                for (var i = 0; i < nbb_cells.length; ++i) {\n",
       "                    if (nbb_cells[i].input_prompt_number == nbb_cell_id) {\n",
       "                        if (nbb_cells[i].get_text() == nbb_unformatted_code) {\n",
       "                             nbb_cells[i].set_text(nbb_formatted_code);\n",
       "                        }\n",
       "                        break;\n",
       "                    }\n",
       "                }\n",
       "            }, 500);\n",
       "            "
      ],
      "text/plain": [
       "<IPython.core.display.Javascript object>"
      ]
     },
     "metadata": {},
     "output_type": "display_data"
    }
   ],
   "source": [
    "# check\n",
    "taxi_zone.head(2)"
   ]
  },
  {
   "cell_type": "code",
   "execution_count": 73,
   "id": "13bce184",
   "metadata": {},
   "outputs": [
    {
     "name": "stderr",
     "output_type": "stream",
     "text": [
      "<ipython-input-73-770757aa3575>:3: UserWarning: Geometry is in a geographic CRS. Results from 'centroid' are likely incorrect. Use 'GeoSeries.to_crs()' to re-project geometries to a projected CRS before this operation.\n",
      "\n",
      "  taxi_zone['lon'] = taxi_zone.centroid.x\n",
      "<ipython-input-73-770757aa3575>:4: UserWarning: Geometry is in a geographic CRS. Results from 'centroid' are likely incorrect. Use 'GeoSeries.to_crs()' to re-project geometries to a projected CRS before this operation.\n",
      "\n",
      "  taxi_zone['lat'] = taxi_zone.centroid.y\n"
     ]
    },
    {
     "data": {
      "application/javascript": [
       "\n",
       "            setTimeout(function() {\n",
       "                var nbb_cell_id = 73;\n",
       "                var nbb_unformatted_code = \"#change geometry information to lantitude and longtitde\\ntaxi_zone = taxi_zone.to_crs(4326)\\ntaxi_zone['lon'] = taxi_zone.centroid.x  \\ntaxi_zone['lat'] = taxi_zone.centroid.y\";\n",
       "                var nbb_formatted_code = \"# change geometry information to lantitude and longtitde\\ntaxi_zone = taxi_zone.to_crs(4326)\\ntaxi_zone[\\\"lon\\\"] = taxi_zone.centroid.x\\ntaxi_zone[\\\"lat\\\"] = taxi_zone.centroid.y\";\n",
       "                var nbb_cells = Jupyter.notebook.get_cells();\n",
       "                for (var i = 0; i < nbb_cells.length; ++i) {\n",
       "                    if (nbb_cells[i].input_prompt_number == nbb_cell_id) {\n",
       "                        if (nbb_cells[i].get_text() == nbb_unformatted_code) {\n",
       "                             nbb_cells[i].set_text(nbb_formatted_code);\n",
       "                        }\n",
       "                        break;\n",
       "                    }\n",
       "                }\n",
       "            }, 500);\n",
       "            "
      ],
      "text/plain": [
       "<IPython.core.display.Javascript object>"
      ]
     },
     "metadata": {},
     "output_type": "display_data"
    }
   ],
   "source": [
    "# change geometry information to lantitude and longtitde\n",
    "taxi_zone = taxi_zone.to_crs(4326)\n",
    "taxi_zone[\"lon\"] = taxi_zone.centroid.x\n",
    "taxi_zone[\"lat\"] = taxi_zone.centroid.y"
   ]
  },
  {
   "cell_type": "code",
   "execution_count": 74,
   "id": "7267a274",
   "metadata": {},
   "outputs": [
    {
     "data": {
      "text/html": [
       "<div>\n",
       "<style scoped>\n",
       "    .dataframe tbody tr th:only-of-type {\n",
       "        vertical-align: middle;\n",
       "    }\n",
       "\n",
       "    .dataframe tbody tr th {\n",
       "        vertical-align: top;\n",
       "    }\n",
       "\n",
       "    .dataframe thead th {\n",
       "        text-align: right;\n",
       "    }\n",
       "</style>\n",
       "<table border=\"1\" class=\"dataframe\">\n",
       "  <thead>\n",
       "    <tr style=\"text-align: right;\">\n",
       "      <th></th>\n",
       "      <th>OBJECTID</th>\n",
       "      <th>Shape_Leng</th>\n",
       "      <th>Shape_Area</th>\n",
       "      <th>zone</th>\n",
       "      <th>LocationID</th>\n",
       "      <th>borough</th>\n",
       "      <th>geometry</th>\n",
       "      <th>lon</th>\n",
       "      <th>lat</th>\n",
       "    </tr>\n",
       "  </thead>\n",
       "  <tbody>\n",
       "    <tr>\n",
       "      <th>0</th>\n",
       "      <td>1</td>\n",
       "      <td>0.116357</td>\n",
       "      <td>0.000782</td>\n",
       "      <td>Newark Airport</td>\n",
       "      <td>1</td>\n",
       "      <td>EWR</td>\n",
       "      <td>POLYGON ((-74.18445 40.69500, -74.18449 40.695...</td>\n",
       "      <td>-74.174000</td>\n",
       "      <td>40.691831</td>\n",
       "    </tr>\n",
       "    <tr>\n",
       "      <th>1</th>\n",
       "      <td>2</td>\n",
       "      <td>0.433470</td>\n",
       "      <td>0.004866</td>\n",
       "      <td>Jamaica Bay</td>\n",
       "      <td>2</td>\n",
       "      <td>Queens</td>\n",
       "      <td>MULTIPOLYGON (((-73.82338 40.63899, -73.82277 ...</td>\n",
       "      <td>-73.831299</td>\n",
       "      <td>40.616745</td>\n",
       "    </tr>\n",
       "  </tbody>\n",
       "</table>\n",
       "</div>"
      ],
      "text/plain": [
       "   OBJECTID  Shape_Leng  Shape_Area            zone  LocationID borough  \\\n",
       "0         1    0.116357    0.000782  Newark Airport           1     EWR   \n",
       "1         2    0.433470    0.004866     Jamaica Bay           2  Queens   \n",
       "\n",
       "                                            geometry        lon        lat  \n",
       "0  POLYGON ((-74.18445 40.69500, -74.18449 40.695... -74.174000  40.691831  \n",
       "1  MULTIPOLYGON (((-73.82338 40.63899, -73.82277 ... -73.831299  40.616745  "
      ]
     },
     "execution_count": 74,
     "metadata": {},
     "output_type": "execute_result"
    },
    {
     "data": {
      "application/javascript": [
       "\n",
       "            setTimeout(function() {\n",
       "                var nbb_cell_id = 74;\n",
       "                var nbb_unformatted_code = \"taxi_zone.head(2)\";\n",
       "                var nbb_formatted_code = \"taxi_zone.head(2)\";\n",
       "                var nbb_cells = Jupyter.notebook.get_cells();\n",
       "                for (var i = 0; i < nbb_cells.length; ++i) {\n",
       "                    if (nbb_cells[i].input_prompt_number == nbb_cell_id) {\n",
       "                        if (nbb_cells[i].get_text() == nbb_unformatted_code) {\n",
       "                             nbb_cells[i].set_text(nbb_formatted_code);\n",
       "                        }\n",
       "                        break;\n",
       "                    }\n",
       "                }\n",
       "            }, 500);\n",
       "            "
      ],
      "text/plain": [
       "<IPython.core.display.Javascript object>"
      ]
     },
     "metadata": {},
     "output_type": "display_data"
    }
   ],
   "source": [
    "taxi_zone.head(2)"
   ]
  },
  {
   "cell_type": "code",
   "execution_count": 75,
   "id": "ebe9aecc",
   "metadata": {},
   "outputs": [
    {
     "data": {
      "application/javascript": [
       "\n",
       "            setTimeout(function() {\n",
       "                var nbb_cell_id = 75;\n",
       "                var nbb_unformatted_code = \"#get the url of yellow taxi\\nTAXI_URL = \\\"https://www1.nyc.gov/site/tlc/about/tlc-trip-record-data.page\\\"\\n\\n\\ndef get_taxi_html():\\n    response = requests.get(TAXI_URL)\\n    html = response.content\\n    return html\\n\\n\\ndef find_taxi_parquet_links():\\n    html = get_taxi_html()\\n    soup = bs4.BeautifulSoup(html, 'html.parser')\\n    yellow_lst = [a['href'] for a in soup.find_all(title = 'Yellow Taxi Trip Records')]\\n    return yellow_lst\\n\\nyellow_lst =  find_taxi_parquet_links()\";\n",
       "                var nbb_formatted_code = \"# get the url of yellow taxi\\nTAXI_URL = \\\"https://www1.nyc.gov/site/tlc/about/tlc-trip-record-data.page\\\"\\n\\n\\ndef get_taxi_html():\\n    response = requests.get(TAXI_URL)\\n    html = response.content\\n    return html\\n\\n\\ndef find_taxi_parquet_links():\\n    html = get_taxi_html()\\n    soup = bs4.BeautifulSoup(html, \\\"html.parser\\\")\\n    yellow_lst = [a[\\\"href\\\"] for a in soup.find_all(title=\\\"Yellow Taxi Trip Records\\\")]\\n    return yellow_lst\\n\\n\\nyellow_lst = find_taxi_parquet_links()\";\n",
       "                var nbb_cells = Jupyter.notebook.get_cells();\n",
       "                for (var i = 0; i < nbb_cells.length; ++i) {\n",
       "                    if (nbb_cells[i].input_prompt_number == nbb_cell_id) {\n",
       "                        if (nbb_cells[i].get_text() == nbb_unformatted_code) {\n",
       "                             nbb_cells[i].set_text(nbb_formatted_code);\n",
       "                        }\n",
       "                        break;\n",
       "                    }\n",
       "                }\n",
       "            }, 500);\n",
       "            "
      ],
      "text/plain": [
       "<IPython.core.display.Javascript object>"
      ]
     },
     "metadata": {},
     "output_type": "display_data"
    }
   ],
   "source": [
    "#get the url of yellow taxi\n",
    "TAXI_URL = \"https://www1.nyc.gov/site/tlc/about/tlc-trip-record-data.page\"\n",
    "\n",
    "\n",
    "def get_taxi_html():\n",
    "    response = requests.get(TAXI_URL)\n",
    "    html = response.content\n",
    "    return html\n",
    "\n",
    "\n",
    "def find_taxi_parquet_links():\n",
    "    html = get_taxi_html()\n",
    "    soup = bs4.BeautifulSoup(html, 'html.parser')\n",
    "    yellow_lst = [a['href'] for a in soup.find_all(title = 'Yellow Taxi Trip Records')]\n",
    "    return yellow_lst\n",
    "\n",
    "yellow_lst =  find_taxi_parquet_links()\n"
   ]
  },
  {
   "cell_type": "code",
   "execution_count": 76,
   "id": "88f877af",
   "metadata": {},
   "outputs": [
    {
     "data": {
      "application/javascript": [
       "\n",
       "            setTimeout(function() {\n",
       "                var nbb_cell_id = 76;\n",
       "                var nbb_unformatted_code = \"#create the year_num list according to uber_data \\nyear_num = [13514, 29258, 30496, 31531, 31102, 29494, 30077]\";\n",
       "                var nbb_formatted_code = \"# create the year_num list according to uber_data\\nyear_num = [13514, 29258, 30496, 31531, 31102, 29494, 30077]\";\n",
       "                var nbb_cells = Jupyter.notebook.get_cells();\n",
       "                for (var i = 0; i < nbb_cells.length; ++i) {\n",
       "                    if (nbb_cells[i].input_prompt_number == nbb_cell_id) {\n",
       "                        if (nbb_cells[i].get_text() == nbb_unformatted_code) {\n",
       "                             nbb_cells[i].set_text(nbb_formatted_code);\n",
       "                        }\n",
       "                        break;\n",
       "                    }\n",
       "                }\n",
       "            }, 500);\n",
       "            "
      ],
      "text/plain": [
       "<IPython.core.display.Javascript object>"
      ]
     },
     "metadata": {},
     "output_type": "display_data"
    }
   ],
   "source": [
    "# create the year_num list according to uber_data\n",
    "year_num = [13514, 29258, 30496, 31531, 31102, 29494, 30077]"
   ]
  },
  {
   "cell_type": "code",
   "execution_count": 77,
   "id": "6f1c6795",
   "metadata": {},
   "outputs": [
    {
     "data": {
      "application/javascript": [
       "\n",
       "            setTimeout(function() {\n",
       "                var nbb_cell_id = 77;\n",
       "                var nbb_unformatted_code = \"#define the function to get and clean data in 2011-2015\\ndef get_and_clean_data(n):\\n    #generate a list to store targeted data\\n    file = list(range(1,13))\\n    #get data using given url\\n    for i in range(len(file)):\\n        file[i] = pd.read_parquet(yellow_lst[i+12*n-84])\\n    #drop invalid variables\\n    for i in range(len(file)):\\n        file[i].drop(['VendorID','tpep_dropoff_datetime','passenger_count',\\\\\\n                            'trip_distance','RatecodeID','store_and_fwd_flag',\\\\\\n                            'payment_type','fare_amount','extra','mta_tax',\\\\\\n                            'tolls_amount','improvement_surcharge','total_amount',\\n                            'congestion_surcharge','airport_fee'], \\\\\\n                           axis = 1, inplace = True)\\n    #drop data when 'PULocationID' equals to 'DOLocationID'\\n    for i in range(len(file)):\\n        file[i].drop(file[i][file[i]['PULocationID'] == file[i]['DOLocationID']].index, inplace = True)\\n    #add logitude and latitude info for yellow taxi data \\n    #by using acquired longitude and latitude from taxi_zone file\\n    for i in range(len(file)):\\n        #rename variables\\n        file[i].rename(columns = {'PULocationID' : 'LocationID','tpep_pickup_datetime':\\\\\\n                                 'pickup_datetime'}, inplace = True)\\n        file[i] = pd.merge(file[i], taxi_zone[['LocationID','lon','lat']], how = 'left', on = 'LocationID')\\n        file[i].drop(['LocationID'], axis = 1, inplace = True)\\n        file[i].rename(columns = {'DOLocationID' : 'LocationID','lon':'pickup_longitude', 'lat':\\\\\\n                                       'pickup_latitude'}, inplace = True)\\n        file[i] = pd.merge(file[i], taxi_zone[['LocationID','lon','lat']], how = 'left', on = 'LocationID')\\n        file[i].drop(['LocationID'], axis = 1, inplace = True)\\n        file[i].rename(columns = {'lon':'dropoff_longitude', 'lat':'dropoff_latitude'}, inplace = True)\\n    #keep data in given range\\n    for i in range(len(file)):\\n        file[i] = file[i][(file[i]['pickup_longitude'] >= -74.242330) \\\\\\n                                & (file[i]['pickup_longitude'] <= -73.717047) \\\\\\n                                & (file[i]['pickup_latitude'] >= 40.560445) \\\\\\n                                & (file[i]['pickup_latitude'] <= 40.908524) \\\\\\n                                &(file[i]['dropoff_longitude'] >= -74.242330) \\\\\\n                                & (file[i]['dropoff_longitude'] <= -73.717047) \\\\\\n                                & (file[i]['dropoff_latitude'] >= 40.560445) \\\\\\n                                & (file[i]['dropoff_latitude'] <= 40.908524)]\\n    file_res = pd.DataFrame()\\n    #sample data monthly and then put them into a file\\n    for i in range(len(file)):\\n        file_res = pd.concat([file_res,file[i].sample(round(year_num[n]/12+1))], axis = 0)\\n    file_res = file_res.sample(year_num[n])\\n    file_res['distance'] = file_res.apply(lambda x: create_distance(x['pickup_latitude'],\\\\\\n                                                                    x['pickup_longitude'],\\\\\\n                                                                      x['dropoff_latitude'],\\\\\\n                                                                   x['dropoff_longitude']), axis=1)\\n    \\n    return file_res\";\n",
       "                var nbb_formatted_code = \"# define the function to get and clean data in 2011-2015\\ndef get_and_clean_data(n):\\n    # generate a list to store targeted data\\n    file = list(range(1, 13))\\n    # get data using given url\\n    for i in range(len(file)):\\n        file[i] = pd.read_parquet(yellow_lst[i + 12 * n - 84])\\n    # drop invalid variables\\n    for i in range(len(file)):\\n        file[i].drop(\\n            [\\n                \\\"VendorID\\\",\\n                \\\"tpep_dropoff_datetime\\\",\\n                \\\"passenger_count\\\",\\n                \\\"trip_distance\\\",\\n                \\\"RatecodeID\\\",\\n                \\\"store_and_fwd_flag\\\",\\n                \\\"payment_type\\\",\\n                \\\"fare_amount\\\",\\n                \\\"extra\\\",\\n                \\\"mta_tax\\\",\\n                \\\"tolls_amount\\\",\\n                \\\"improvement_surcharge\\\",\\n                \\\"total_amount\\\",\\n                \\\"congestion_surcharge\\\",\\n                \\\"airport_fee\\\",\\n            ],\\n            axis=1,\\n            inplace=True,\\n        )\\n    # drop data when 'PULocationID' equals to 'DOLocationID'\\n    for i in range(len(file)):\\n        file[i].drop(\\n            file[i][file[i][\\\"PULocationID\\\"] == file[i][\\\"DOLocationID\\\"]].index,\\n            inplace=True,\\n        )\\n    # add logitude and latitude info for yellow taxi data\\n    # by using acquired longitude and latitude from taxi_zone file\\n    for i in range(len(file)):\\n        # rename variables\\n        file[i].rename(\\n            columns={\\n                \\\"PULocationID\\\": \\\"LocationID\\\",\\n                \\\"tpep_pickup_datetime\\\": \\\"pickup_datetime\\\",\\n            },\\n            inplace=True,\\n        )\\n        file[i] = pd.merge(\\n            file[i],\\n            taxi_zone[[\\\"LocationID\\\", \\\"lon\\\", \\\"lat\\\"]],\\n            how=\\\"left\\\",\\n            on=\\\"LocationID\\\",\\n        )\\n        file[i].drop([\\\"LocationID\\\"], axis=1, inplace=True)\\n        file[i].rename(\\n            columns={\\n                \\\"DOLocationID\\\": \\\"LocationID\\\",\\n                \\\"lon\\\": \\\"pickup_longitude\\\",\\n                \\\"lat\\\": \\\"pickup_latitude\\\",\\n            },\\n            inplace=True,\\n        )\\n        file[i] = pd.merge(\\n            file[i],\\n            taxi_zone[[\\\"LocationID\\\", \\\"lon\\\", \\\"lat\\\"]],\\n            how=\\\"left\\\",\\n            on=\\\"LocationID\\\",\\n        )\\n        file[i].drop([\\\"LocationID\\\"], axis=1, inplace=True)\\n        file[i].rename(\\n            columns={\\\"lon\\\": \\\"dropoff_longitude\\\", \\\"lat\\\": \\\"dropoff_latitude\\\"},\\n            inplace=True,\\n        )\\n    # keep data in given range\\n    for i in range(len(file)):\\n        file[i] = file[i][\\n            (file[i][\\\"pickup_longitude\\\"] >= -74.242330)\\n            & (file[i][\\\"pickup_longitude\\\"] <= -73.717047)\\n            & (file[i][\\\"pickup_latitude\\\"] >= 40.560445)\\n            & (file[i][\\\"pickup_latitude\\\"] <= 40.908524)\\n            & (file[i][\\\"dropoff_longitude\\\"] >= -74.242330)\\n            & (file[i][\\\"dropoff_longitude\\\"] <= -73.717047)\\n            & (file[i][\\\"dropoff_latitude\\\"] >= 40.560445)\\n            & (file[i][\\\"dropoff_latitude\\\"] <= 40.908524)\\n        ]\\n    file_res = pd.DataFrame()\\n    # sample data monthly and then put them into a file\\n    for i in range(len(file)):\\n        file_res = pd.concat(\\n            [file_res, file[i].sample(round(year_num[n] / 12 + 1))], axis=0\\n        )\\n    file_res = file_res.sample(year_num[n])\\n    file_res[\\\"distance\\\"] = file_res.apply(\\n        lambda x: create_distance(\\n            x[\\\"pickup_latitude\\\"],\\n            x[\\\"pickup_longitude\\\"],\\n            x[\\\"dropoff_latitude\\\"],\\n            x[\\\"dropoff_longitude\\\"],\\n        ),\\n        axis=1,\\n    )\\n\\n    return file_res\";\n",
       "                var nbb_cells = Jupyter.notebook.get_cells();\n",
       "                for (var i = 0; i < nbb_cells.length; ++i) {\n",
       "                    if (nbb_cells[i].input_prompt_number == nbb_cell_id) {\n",
       "                        if (nbb_cells[i].get_text() == nbb_unformatted_code) {\n",
       "                             nbb_cells[i].set_text(nbb_formatted_code);\n",
       "                        }\n",
       "                        break;\n",
       "                    }\n",
       "                }\n",
       "            }, 500);\n",
       "            "
      ],
      "text/plain": [
       "<IPython.core.display.Javascript object>"
      ]
     },
     "metadata": {},
     "output_type": "display_data"
    }
   ],
   "source": [
    "# define the function to get and clean data in 2011-2015\n",
    "def get_and_clean_data(n):\n",
    "    # generate a list to store targeted data\n",
    "    file = list(range(1, 13))\n",
    "    # get data using given url\n",
    "    for i in range(len(file)):\n",
    "        file[i] = pd.read_parquet(yellow_lst[i + 12 * n - 84])\n",
    "    # drop invalid variables\n",
    "    for i in range(len(file)):\n",
    "        file[i].drop(\n",
    "            [\n",
    "                \"VendorID\",\n",
    "                \"tpep_dropoff_datetime\",\n",
    "                \"passenger_count\",\n",
    "                \"trip_distance\",\n",
    "                \"RatecodeID\",\n",
    "                \"store_and_fwd_flag\",\n",
    "                \"payment_type\",\n",
    "                \"fare_amount\",\n",
    "                \"extra\",\n",
    "                \"mta_tax\",\n",
    "                \"tolls_amount\",\n",
    "                \"improvement_surcharge\",\n",
    "                \"total_amount\",\n",
    "                \"congestion_surcharge\",\n",
    "                \"airport_fee\",\n",
    "            ],\n",
    "            axis=1,\n",
    "            inplace=True,\n",
    "        )\n",
    "    # drop data when 'PULocationID' equals to 'DOLocationID'\n",
    "    for i in range(len(file)):\n",
    "        file[i].drop(\n",
    "            file[i][file[i][\"PULocationID\"] == file[i][\"DOLocationID\"]].index,\n",
    "            inplace=True,\n",
    "        )\n",
    "    # add logitude and latitude info for yellow taxi data\n",
    "    # by using acquired longitude and latitude from taxi_zone file\n",
    "    for i in range(len(file)):\n",
    "        # rename variables\n",
    "        file[i].rename(\n",
    "            columns={\n",
    "                \"PULocationID\": \"LocationID\",\n",
    "                \"tpep_pickup_datetime\": \"pickup_datetime\",\n",
    "            },\n",
    "            inplace=True,\n",
    "        )\n",
    "        file[i] = pd.merge(\n",
    "            file[i],\n",
    "            taxi_zone[[\"LocationID\", \"lon\", \"lat\"]],\n",
    "            how=\"left\",\n",
    "            on=\"LocationID\",\n",
    "        )\n",
    "        file[i].drop([\"LocationID\"], axis=1, inplace=True)\n",
    "        file[i].rename(\n",
    "            columns={\n",
    "                \"DOLocationID\": \"LocationID\",\n",
    "                \"lon\": \"pickup_longitude\",\n",
    "                \"lat\": \"pickup_latitude\",\n",
    "            },\n",
    "            inplace=True,\n",
    "        )\n",
    "        file[i] = pd.merge(\n",
    "            file[i],\n",
    "            taxi_zone[[\"LocationID\", \"lon\", \"lat\"]],\n",
    "            how=\"left\",\n",
    "            on=\"LocationID\",\n",
    "        )\n",
    "        file[i].drop([\"LocationID\"], axis=1, inplace=True)\n",
    "        file[i].rename(\n",
    "            columns={\"lon\": \"dropoff_longitude\", \"lat\": \"dropoff_latitude\"},\n",
    "            inplace=True,\n",
    "        )\n",
    "    # keep data in given range\n",
    "    for i in range(len(file)):\n",
    "        file[i] = file[i][\n",
    "            (file[i][\"pickup_longitude\"] >= -74.242330)\n",
    "            & (file[i][\"pickup_longitude\"] <= -73.717047)\n",
    "            & (file[i][\"pickup_latitude\"] >= 40.560445)\n",
    "            & (file[i][\"pickup_latitude\"] <= 40.908524)\n",
    "            & (file[i][\"dropoff_longitude\"] >= -74.242330)\n",
    "            & (file[i][\"dropoff_longitude\"] <= -73.717047)\n",
    "            & (file[i][\"dropoff_latitude\"] >= 40.560445)\n",
    "            & (file[i][\"dropoff_latitude\"] <= 40.908524)\n",
    "        ]\n",
    "    file_res = pd.DataFrame()\n",
    "    # sample data monthly and then put them into a file\n",
    "    for i in range(len(file)):\n",
    "        file_res = pd.concat(\n",
    "            [file_res, file[i].sample(round(year_num[n] / 12 + 1))], axis=0\n",
    "        )\n",
    "    file_res = file_res.sample(year_num[n])\n",
    "    file_res[\"distance\"] = file_res.apply(\n",
    "        lambda x: create_distance(\n",
    "            x[\"pickup_latitude\"],\n",
    "            x[\"pickup_longitude\"],\n",
    "            x[\"dropoff_latitude\"],\n",
    "            x[\"dropoff_longitude\"],\n",
    "        ),\n",
    "        axis=1,\n",
    "    )\n",
    "\n",
    "    return file_res"
   ]
  },
  {
   "cell_type": "code",
   "execution_count": 78,
   "id": "9eeba66a",
   "metadata": {},
   "outputs": [
    {
     "data": {
      "application/javascript": [
       "\n",
       "            setTimeout(function() {\n",
       "                var nbb_cell_id = 78;\n",
       "                var nbb_unformatted_code = \"#define the function to get and clean data in 2010\\ndef get_and_clean_data2(n):\\n    #generate a list to store targeted data\\n    file = list(range(1,13))\\n    #get data using given url\\n    for i in range(len(file)):\\n        file[i] = pd.read_parquet(yellow_lst[i+12*n-24])\\n    #drop invalid variables\\n    for i in range(len(file)):\\n        file[i].drop(['vendor_id','dropoff_datetime','passenger_count',\\\\\\n                            'trip_distance','rate_code','store_and_fwd_flag',\\\\\\n                            'payment_type','fare_amount','surcharge','mta_tax',\\\\\\n                            'tolls_amount','total_amount'], axis = 1, inplace = True)\\n    #change data type to datetime\\n    for i in range(len(file)):\\n        file[i]['pickup_datetime'] = pd.to_datetime(file[i]['pickup_datetime'])\\n    #only keep data in given range\\n    for i in range(len(file)):\\n        file[i] = file[i][(file[i]['pickup_longitude'] >= -74.242330) \\\\\\n                                & (file[i]['pickup_longitude'] <= -73.717047) \\\\\\n                                & (file[i]['pickup_latitude'] >= 40.560445) \\\\\\n                                & (file[i]['pickup_latitude'] <= 40.908524) \\\\\\n                                &(file[i]['dropoff_longitude'] >= -74.242330) \\\\\\n                                & (file[i]['dropoff_longitude'] <= -73.717047) \\\\\\n                                & (file[i]['dropoff_latitude'] >= 40.560445) \\\\\\n                                & (file[i]['dropoff_latitude'] <= 40.908524)]\\n    file_res = pd.DataFrame()\\n    #sample data monthly and then put them into a file\\n    for i in range(len(file)):\\n        file_res = pd.concat([file_res,file[i].sample(round(year_num[n+5]/12+1))], axis = 0)\\n    file_res = file_res.sample(year_num[n+5])\\n    file_res['distance'] = file_res.apply(lambda x: create_distance(x['pickup_latitude'],\\\\\\n                                                                    x['pickup_longitude'],\\\\\\n                                                                      x['dropoff_latitude'],\\\\\\n                                                                   x['dropoff_longitude']), axis=1)\\n    \\n    return file_res\";\n",
       "                var nbb_formatted_code = \"# define the function to get and clean data in 2010\\ndef get_and_clean_data2(n):\\n    # generate a list to store targeted data\\n    file = list(range(1, 13))\\n    # get data using given url\\n    for i in range(len(file)):\\n        file[i] = pd.read_parquet(yellow_lst[i + 12 * n - 24])\\n    # drop invalid variables\\n    for i in range(len(file)):\\n        file[i].drop(\\n            [\\n                \\\"vendor_id\\\",\\n                \\\"dropoff_datetime\\\",\\n                \\\"passenger_count\\\",\\n                \\\"trip_distance\\\",\\n                \\\"rate_code\\\",\\n                \\\"store_and_fwd_flag\\\",\\n                \\\"payment_type\\\",\\n                \\\"fare_amount\\\",\\n                \\\"surcharge\\\",\\n                \\\"mta_tax\\\",\\n                \\\"tolls_amount\\\",\\n                \\\"total_amount\\\",\\n            ],\\n            axis=1,\\n            inplace=True,\\n        )\\n    # change data type to datetime\\n    for i in range(len(file)):\\n        file[i][\\\"pickup_datetime\\\"] = pd.to_datetime(file[i][\\\"pickup_datetime\\\"])\\n    # only keep data in given range\\n    for i in range(len(file)):\\n        file[i] = file[i][\\n            (file[i][\\\"pickup_longitude\\\"] >= -74.242330)\\n            & (file[i][\\\"pickup_longitude\\\"] <= -73.717047)\\n            & (file[i][\\\"pickup_latitude\\\"] >= 40.560445)\\n            & (file[i][\\\"pickup_latitude\\\"] <= 40.908524)\\n            & (file[i][\\\"dropoff_longitude\\\"] >= -74.242330)\\n            & (file[i][\\\"dropoff_longitude\\\"] <= -73.717047)\\n            & (file[i][\\\"dropoff_latitude\\\"] >= 40.560445)\\n            & (file[i][\\\"dropoff_latitude\\\"] <= 40.908524)\\n        ]\\n    file_res = pd.DataFrame()\\n    # sample data monthly and then put them into a file\\n    for i in range(len(file)):\\n        file_res = pd.concat(\\n            [file_res, file[i].sample(round(year_num[n + 5] / 12 + 1))], axis=0\\n        )\\n    file_res = file_res.sample(year_num[n + 5])\\n    file_res[\\\"distance\\\"] = file_res.apply(\\n        lambda x: create_distance(\\n            x[\\\"pickup_latitude\\\"],\\n            x[\\\"pickup_longitude\\\"],\\n            x[\\\"dropoff_latitude\\\"],\\n            x[\\\"dropoff_longitude\\\"],\\n        ),\\n        axis=1,\\n    )\\n\\n    return file_res\";\n",
       "                var nbb_cells = Jupyter.notebook.get_cells();\n",
       "                for (var i = 0; i < nbb_cells.length; ++i) {\n",
       "                    if (nbb_cells[i].input_prompt_number == nbb_cell_id) {\n",
       "                        if (nbb_cells[i].get_text() == nbb_unformatted_code) {\n",
       "                             nbb_cells[i].set_text(nbb_formatted_code);\n",
       "                        }\n",
       "                        break;\n",
       "                    }\n",
       "                }\n",
       "            }, 500);\n",
       "            "
      ],
      "text/plain": [
       "<IPython.core.display.Javascript object>"
      ]
     },
     "metadata": {},
     "output_type": "display_data"
    }
   ],
   "source": [
    "# define the function to get and clean data in 2010\n",
    "def get_and_clean_data2(n):\n",
    "    # generate a list to store targeted data\n",
    "    file = list(range(1, 13))\n",
    "    # get data using given url\n",
    "    for i in range(len(file)):\n",
    "        file[i] = pd.read_parquet(yellow_lst[i + 12 * n - 24])\n",
    "    # drop invalid variables\n",
    "    for i in range(len(file)):\n",
    "        file[i].drop(\n",
    "            [\n",
    "                \"vendor_id\",\n",
    "                \"dropoff_datetime\",\n",
    "                \"passenger_count\",\n",
    "                \"trip_distance\",\n",
    "                \"rate_code\",\n",
    "                \"store_and_fwd_flag\",\n",
    "                \"payment_type\",\n",
    "                \"fare_amount\",\n",
    "                \"surcharge\",\n",
    "                \"mta_tax\",\n",
    "                \"tolls_amount\",\n",
    "                \"total_amount\",\n",
    "            ],\n",
    "            axis=1,\n",
    "            inplace=True,\n",
    "        )\n",
    "    # change data type to datetime\n",
    "    for i in range(len(file)):\n",
    "        file[i][\"pickup_datetime\"] = pd.to_datetime(file[i][\"pickup_datetime\"])\n",
    "    # only keep data in given range\n",
    "    for i in range(len(file)):\n",
    "        file[i] = file[i][\n",
    "            (file[i][\"pickup_longitude\"] >= -74.242330)\n",
    "            & (file[i][\"pickup_longitude\"] <= -73.717047)\n",
    "            & (file[i][\"pickup_latitude\"] >= 40.560445)\n",
    "            & (file[i][\"pickup_latitude\"] <= 40.908524)\n",
    "            & (file[i][\"dropoff_longitude\"] >= -74.242330)\n",
    "            & (file[i][\"dropoff_longitude\"] <= -73.717047)\n",
    "            & (file[i][\"dropoff_latitude\"] >= 40.560445)\n",
    "            & (file[i][\"dropoff_latitude\"] <= 40.908524)\n",
    "        ]\n",
    "    file_res = pd.DataFrame()\n",
    "    # sample data monthly and then put them into a file\n",
    "    for i in range(len(file)):\n",
    "        file_res = pd.concat(\n",
    "            [file_res, file[i].sample(round(year_num[n + 5] / 12 + 1))], axis=0\n",
    "        )\n",
    "    file_res = file_res.sample(year_num[n + 5])\n",
    "    file_res[\"distance\"] = file_res.apply(\n",
    "        lambda x: create_distance(\n",
    "            x[\"pickup_latitude\"],\n",
    "            x[\"pickup_longitude\"],\n",
    "            x[\"dropoff_latitude\"],\n",
    "            x[\"dropoff_longitude\"],\n",
    "        ),\n",
    "        axis=1,\n",
    "    )\n",
    "\n",
    "    return file_res"
   ]
  },
  {
   "cell_type": "code",
   "execution_count": 79,
   "id": "a7079725",
   "metadata": {},
   "outputs": [
    {
     "data": {
      "application/javascript": [
       "\n",
       "            setTimeout(function() {\n",
       "                var nbb_cell_id = 79;\n",
       "                var nbb_unformatted_code = \"#define the function to get and clean data in 2009\\ndef get_and_clean_data3(n):\\n    #generate a list to store targeted data\\n    file = list(range(1,13))\\n    #get data using given url\\n    for i in range(len(file)):\\n        file[i] = pd.read_parquet(yellow_lst[i+12*n-12])\\n    #drop invalid variables\\n    for i in range(len(file)):\\n        file[i].drop(['vendor_name','Trip_Dropoff_DateTime','Passenger_Count',\\\\\\n                            'Trip_Distance','Rate_Code','store_and_forward',\\\\\\n                            'Payment_Type','Fare_Amt','surcharge','mta_tax',\\\\\\n                            'Tolls_Amt','Total_Amt'], axis = 1, inplace = True)\\n    #normalize variable name\\n    for i in range(len(file)):\\n        file[i].rename(columns = {'Trip_Pickup_DateTime' : 'pickup_datetime'\\\\\\n                       ,'Start_Lon' : 'pickup_longitude', 'Start_Lat' : 'pickup_latitude',\\\\\\n                       'End_Lon' : 'dropoff_longitude','End_Lat' : 'dropoff_latitude','Tip_Amt':'tip_amount'},\\\\\\n                       inplace = True)\\n    #change data type to datetime\\n    for i in range(len(file)):\\n        file[i]['pickup_datetime'] = pd.to_datetime(file[i]['pickup_datetime'])\\n    #only keep data in given range\\n    for i in range(len(file)):\\n        file[i] = file[i][(file[i]['pickup_longitude'] >= -74.242330) \\\\\\n                                & (file[i]['pickup_longitude'] <= -73.717047) \\\\\\n                                & (file[i]['pickup_latitude'] >= 40.560445) \\\\\\n                                & (file[i]['pickup_latitude'] <= 40.908524) \\\\\\n                                &(file[i]['dropoff_longitude'] >= -74.242330) \\\\\\n                                & (file[i]['dropoff_longitude'] <= -73.717047) \\\\\\n                                & (file[i]['dropoff_latitude'] >= 40.560445) \\\\\\n                                & (file[i]['dropoff_latitude'] <= 40.908524)]\\n    file_res = pd.DataFrame()\\n    #sample data monthly and then put them into a file\\n    for i in range(len(file)):\\n        file_res = pd.concat([file_res,file[i].sample(round(year_num[n+6]/12+1))], axis = 0)\\n    file_res = file_res.sample(year_num[n+6])\\n    file_res['distance'] = file_res.apply(lambda x: create_distance(x['pickup_latitude'],\\\\\\n                                                                    x['pickup_longitude'],\\\\\\n                                                                      x['dropoff_latitude'],\\\\\\n                                                                   x['dropoff_longitude']), axis=1)\\n    \\n    return file_res\";\n",
       "                var nbb_formatted_code = \"# define the function to get and clean data in 2009\\ndef get_and_clean_data3(n):\\n    # generate a list to store targeted data\\n    file = list(range(1, 13))\\n    # get data using given url\\n    for i in range(len(file)):\\n        file[i] = pd.read_parquet(yellow_lst[i + 12 * n - 12])\\n    # drop invalid variables\\n    for i in range(len(file)):\\n        file[i].drop(\\n            [\\n                \\\"vendor_name\\\",\\n                \\\"Trip_Dropoff_DateTime\\\",\\n                \\\"Passenger_Count\\\",\\n                \\\"Trip_Distance\\\",\\n                \\\"Rate_Code\\\",\\n                \\\"store_and_forward\\\",\\n                \\\"Payment_Type\\\",\\n                \\\"Fare_Amt\\\",\\n                \\\"surcharge\\\",\\n                \\\"mta_tax\\\",\\n                \\\"Tolls_Amt\\\",\\n                \\\"Total_Amt\\\",\\n            ],\\n            axis=1,\\n            inplace=True,\\n        )\\n    # normalize variable name\\n    for i in range(len(file)):\\n        file[i].rename(\\n            columns={\\n                \\\"Trip_Pickup_DateTime\\\": \\\"pickup_datetime\\\",\\n                \\\"Start_Lon\\\": \\\"pickup_longitude\\\",\\n                \\\"Start_Lat\\\": \\\"pickup_latitude\\\",\\n                \\\"End_Lon\\\": \\\"dropoff_longitude\\\",\\n                \\\"End_Lat\\\": \\\"dropoff_latitude\\\",\\n                \\\"Tip_Amt\\\": \\\"tip_amount\\\",\\n            },\\n            inplace=True,\\n        )\\n    # change data type to datetime\\n    for i in range(len(file)):\\n        file[i][\\\"pickup_datetime\\\"] = pd.to_datetime(file[i][\\\"pickup_datetime\\\"])\\n    # only keep data in given range\\n    for i in range(len(file)):\\n        file[i] = file[i][\\n            (file[i][\\\"pickup_longitude\\\"] >= -74.242330)\\n            & (file[i][\\\"pickup_longitude\\\"] <= -73.717047)\\n            & (file[i][\\\"pickup_latitude\\\"] >= 40.560445)\\n            & (file[i][\\\"pickup_latitude\\\"] <= 40.908524)\\n            & (file[i][\\\"dropoff_longitude\\\"] >= -74.242330)\\n            & (file[i][\\\"dropoff_longitude\\\"] <= -73.717047)\\n            & (file[i][\\\"dropoff_latitude\\\"] >= 40.560445)\\n            & (file[i][\\\"dropoff_latitude\\\"] <= 40.908524)\\n        ]\\n    file_res = pd.DataFrame()\\n    # sample data monthly and then put them into a file\\n    for i in range(len(file)):\\n        file_res = pd.concat(\\n            [file_res, file[i].sample(round(year_num[n + 6] / 12 + 1))], axis=0\\n        )\\n    file_res = file_res.sample(year_num[n + 6])\\n    file_res[\\\"distance\\\"] = file_res.apply(\\n        lambda x: create_distance(\\n            x[\\\"pickup_latitude\\\"],\\n            x[\\\"pickup_longitude\\\"],\\n            x[\\\"dropoff_latitude\\\"],\\n            x[\\\"dropoff_longitude\\\"],\\n        ),\\n        axis=1,\\n    )\\n\\n    return file_res\";\n",
       "                var nbb_cells = Jupyter.notebook.get_cells();\n",
       "                for (var i = 0; i < nbb_cells.length; ++i) {\n",
       "                    if (nbb_cells[i].input_prompt_number == nbb_cell_id) {\n",
       "                        if (nbb_cells[i].get_text() == nbb_unformatted_code) {\n",
       "                             nbb_cells[i].set_text(nbb_formatted_code);\n",
       "                        }\n",
       "                        break;\n",
       "                    }\n",
       "                }\n",
       "            }, 500);\n",
       "            "
      ],
      "text/plain": [
       "<IPython.core.display.Javascript object>"
      ]
     },
     "metadata": {},
     "output_type": "display_data"
    }
   ],
   "source": [
    "#define the function to get and clean data in 2009\n",
    "def get_and_clean_data3(n):\n",
    "    #generate a list to store targeted data\n",
    "    file = list(range(1,13))\n",
    "    #get data using given url\n",
    "    for i in range(len(file)):\n",
    "        file[i] = pd.read_parquet(yellow_lst[i+12*n-12])\n",
    "    #drop invalid variables\n",
    "    for i in range(len(file)):\n",
    "        file[i].drop(['vendor_name','Trip_Dropoff_DateTime','Passenger_Count',\\\n",
    "                            'Trip_Distance','Rate_Code','store_and_forward',\\\n",
    "                            'Payment_Type','Fare_Amt','surcharge','mta_tax',\\\n",
    "                            'Tolls_Amt','Total_Amt'], axis = 1, inplace = True)\n",
    "    #normalize variable name\n",
    "    for i in range(len(file)):\n",
    "        file[i].rename(columns = {'Trip_Pickup_DateTime' : 'pickup_datetime'\\\n",
    "                       ,'Start_Lon' : 'pickup_longitude', 'Start_Lat' : 'pickup_latitude',\\\n",
    "                       'End_Lon' : 'dropoff_longitude','End_Lat' : 'dropoff_latitude','Tip_Amt':'tip_amount'},\\\n",
    "                       inplace = True)\n",
    "    #change data type to datetime\n",
    "    for i in range(len(file)):\n",
    "        file[i]['pickup_datetime'] = pd.to_datetime(file[i]['pickup_datetime'])\n",
    "    #only keep data in given range\n",
    "    for i in range(len(file)):\n",
    "        file[i] = file[i][(file[i]['pickup_longitude'] >= -74.242330) \\\n",
    "                                & (file[i]['pickup_longitude'] <= -73.717047) \\\n",
    "                                & (file[i]['pickup_latitude'] >= 40.560445) \\\n",
    "                                & (file[i]['pickup_latitude'] <= 40.908524) \\\n",
    "                                &(file[i]['dropoff_longitude'] >= -74.242330) \\\n",
    "                                & (file[i]['dropoff_longitude'] <= -73.717047) \\\n",
    "                                & (file[i]['dropoff_latitude'] >= 40.560445) \\\n",
    "                                & (file[i]['dropoff_latitude'] <= 40.908524)]\n",
    "    file_res = pd.DataFrame()\n",
    "    #sample data monthly and then put them into a file\n",
    "    for i in range(len(file)):\n",
    "        file_res = pd.concat([file_res,file[i].sample(round(year_num[n+6]/12+1))], axis = 0)\n",
    "    file_res = file_res.sample(year_num[n+6])\n",
    "    file_res['distance'] = file_res.apply(lambda x: create_distance(x['pickup_latitude'],\\\n",
    "                                                                    x['pickup_longitude'],\\\n",
    "                                                                      x['dropoff_latitude'],\\\n",
    "                                                                   x['dropoff_longitude']), axis=1)\n",
    "    \n",
    "    return file_res\n"
   ]
  },
  {
   "cell_type": "code",
   "execution_count": 80,
   "id": "8e5734d7",
   "metadata": {},
   "outputs": [
    {
     "data": {
      "application/javascript": [
       "\n",
       "            setTimeout(function() {\n",
       "                var nbb_cell_id = 80;\n",
       "                var nbb_unformatted_code = \"#apply above function to acquire taxi data\\nfile2015_res = get_and_clean_data(0)\";\n",
       "                var nbb_formatted_code = \"# apply above function to acquire taxi data\\nfile2015_res = get_and_clean_data(0)\";\n",
       "                var nbb_cells = Jupyter.notebook.get_cells();\n",
       "                for (var i = 0; i < nbb_cells.length; ++i) {\n",
       "                    if (nbb_cells[i].input_prompt_number == nbb_cell_id) {\n",
       "                        if (nbb_cells[i].get_text() == nbb_unformatted_code) {\n",
       "                             nbb_cells[i].set_text(nbb_formatted_code);\n",
       "                        }\n",
       "                        break;\n",
       "                    }\n",
       "                }\n",
       "            }, 500);\n",
       "            "
      ],
      "text/plain": [
       "<IPython.core.display.Javascript object>"
      ]
     },
     "metadata": {},
     "output_type": "display_data"
    }
   ],
   "source": [
    "# apply above function to acquire taxi data\n",
    "file2015_res = get_and_clean_data(0)"
   ]
  },
  {
   "cell_type": "code",
   "execution_count": 81,
   "id": "5327a513",
   "metadata": {},
   "outputs": [
    {
     "data": {
      "application/javascript": [
       "\n",
       "            setTimeout(function() {\n",
       "                var nbb_cell_id = 81;\n",
       "                var nbb_unformatted_code = \"#apply above function to acquire taxi data\\nfile2014_res = get_and_clean_data(1)\";\n",
       "                var nbb_formatted_code = \"# apply above function to acquire taxi data\\nfile2014_res = get_and_clean_data(1)\";\n",
       "                var nbb_cells = Jupyter.notebook.get_cells();\n",
       "                for (var i = 0; i < nbb_cells.length; ++i) {\n",
       "                    if (nbb_cells[i].input_prompt_number == nbb_cell_id) {\n",
       "                        if (nbb_cells[i].get_text() == nbb_unformatted_code) {\n",
       "                             nbb_cells[i].set_text(nbb_formatted_code);\n",
       "                        }\n",
       "                        break;\n",
       "                    }\n",
       "                }\n",
       "            }, 500);\n",
       "            "
      ],
      "text/plain": [
       "<IPython.core.display.Javascript object>"
      ]
     },
     "metadata": {},
     "output_type": "display_data"
    }
   ],
   "source": [
    "# apply above function to acquire taxi data\n",
    "file2014_res = get_and_clean_data(1)"
   ]
  },
  {
   "cell_type": "code",
   "execution_count": 82,
   "id": "ff1b987c",
   "metadata": {},
   "outputs": [
    {
     "data": {
      "application/javascript": [
       "\n",
       "            setTimeout(function() {\n",
       "                var nbb_cell_id = 82;\n",
       "                var nbb_unformatted_code = \"#apply above function to acquire taxi data\\nfile2013_res = get_and_clean_data(2)\";\n",
       "                var nbb_formatted_code = \"# apply above function to acquire taxi data\\nfile2013_res = get_and_clean_data(2)\";\n",
       "                var nbb_cells = Jupyter.notebook.get_cells();\n",
       "                for (var i = 0; i < nbb_cells.length; ++i) {\n",
       "                    if (nbb_cells[i].input_prompt_number == nbb_cell_id) {\n",
       "                        if (nbb_cells[i].get_text() == nbb_unformatted_code) {\n",
       "                             nbb_cells[i].set_text(nbb_formatted_code);\n",
       "                        }\n",
       "                        break;\n",
       "                    }\n",
       "                }\n",
       "            }, 500);\n",
       "            "
      ],
      "text/plain": [
       "<IPython.core.display.Javascript object>"
      ]
     },
     "metadata": {},
     "output_type": "display_data"
    }
   ],
   "source": [
    "# apply above function to acquire taxi data\n",
    "file2013_res = get_and_clean_data(2)"
   ]
  },
  {
   "cell_type": "code",
   "execution_count": 83,
   "id": "7bfd0cd3",
   "metadata": {},
   "outputs": [
    {
     "data": {
      "application/javascript": [
       "\n",
       "            setTimeout(function() {\n",
       "                var nbb_cell_id = 83;\n",
       "                var nbb_unformatted_code = \"#apply above function to acquire taxi data\\nfile2012_res = get_and_clean_data(3)\";\n",
       "                var nbb_formatted_code = \"# apply above function to acquire taxi data\\nfile2012_res = get_and_clean_data(3)\";\n",
       "                var nbb_cells = Jupyter.notebook.get_cells();\n",
       "                for (var i = 0; i < nbb_cells.length; ++i) {\n",
       "                    if (nbb_cells[i].input_prompt_number == nbb_cell_id) {\n",
       "                        if (nbb_cells[i].get_text() == nbb_unformatted_code) {\n",
       "                             nbb_cells[i].set_text(nbb_formatted_code);\n",
       "                        }\n",
       "                        break;\n",
       "                    }\n",
       "                }\n",
       "            }, 500);\n",
       "            "
      ],
      "text/plain": [
       "<IPython.core.display.Javascript object>"
      ]
     },
     "metadata": {},
     "output_type": "display_data"
    }
   ],
   "source": [
    "# apply above function to acquire taxi data\n",
    "file2012_res = get_and_clean_data(3)"
   ]
  },
  {
   "cell_type": "code",
   "execution_count": 84,
   "id": "2757b0fb",
   "metadata": {},
   "outputs": [
    {
     "data": {
      "application/javascript": [
       "\n",
       "            setTimeout(function() {\n",
       "                var nbb_cell_id = 84;\n",
       "                var nbb_unformatted_code = \"#apply above function to acquire taxi data\\nfile2011_res = get_and_clean_data(4)\";\n",
       "                var nbb_formatted_code = \"# apply above function to acquire taxi data\\nfile2011_res = get_and_clean_data(4)\";\n",
       "                var nbb_cells = Jupyter.notebook.get_cells();\n",
       "                for (var i = 0; i < nbb_cells.length; ++i) {\n",
       "                    if (nbb_cells[i].input_prompt_number == nbb_cell_id) {\n",
       "                        if (nbb_cells[i].get_text() == nbb_unformatted_code) {\n",
       "                             nbb_cells[i].set_text(nbb_formatted_code);\n",
       "                        }\n",
       "                        break;\n",
       "                    }\n",
       "                }\n",
       "            }, 500);\n",
       "            "
      ],
      "text/plain": [
       "<IPython.core.display.Javascript object>"
      ]
     },
     "metadata": {},
     "output_type": "display_data"
    }
   ],
   "source": [
    "# apply above function to acquire taxi data\n",
    "file2011_res = get_and_clean_data(4)"
   ]
  },
  {
   "cell_type": "code",
   "execution_count": 85,
   "id": "45502e8b",
   "metadata": {},
   "outputs": [
    {
     "data": {
      "application/javascript": [
       "\n",
       "            setTimeout(function() {\n",
       "                var nbb_cell_id = 85;\n",
       "                var nbb_unformatted_code = \"#apply above function to acquire taxi data\\nfile2010_res = get_and_clean_data2(0)\";\n",
       "                var nbb_formatted_code = \"# apply above function to acquire taxi data\\nfile2010_res = get_and_clean_data2(0)\";\n",
       "                var nbb_cells = Jupyter.notebook.get_cells();\n",
       "                for (var i = 0; i < nbb_cells.length; ++i) {\n",
       "                    if (nbb_cells[i].input_prompt_number == nbb_cell_id) {\n",
       "                        if (nbb_cells[i].get_text() == nbb_unformatted_code) {\n",
       "                             nbb_cells[i].set_text(nbb_formatted_code);\n",
       "                        }\n",
       "                        break;\n",
       "                    }\n",
       "                }\n",
       "            }, 500);\n",
       "            "
      ],
      "text/plain": [
       "<IPython.core.display.Javascript object>"
      ]
     },
     "metadata": {},
     "output_type": "display_data"
    }
   ],
   "source": [
    "# apply above function to acquire taxi data\n",
    "file2010_res = get_and_clean_data2(0)"
   ]
  },
  {
   "cell_type": "code",
   "execution_count": 86,
   "id": "4ed3074f",
   "metadata": {
    "scrolled": true
   },
   "outputs": [
    {
     "data": {
      "application/javascript": [
       "\n",
       "            setTimeout(function() {\n",
       "                var nbb_cell_id = 86;\n",
       "                var nbb_unformatted_code = \"#apply above function to acquire taxi data\\nfile2009_res = get_and_clean_data3(0)\";\n",
       "                var nbb_formatted_code = \"# apply above function to acquire taxi data\\nfile2009_res = get_and_clean_data3(0)\";\n",
       "                var nbb_cells = Jupyter.notebook.get_cells();\n",
       "                for (var i = 0; i < nbb_cells.length; ++i) {\n",
       "                    if (nbb_cells[i].input_prompt_number == nbb_cell_id) {\n",
       "                        if (nbb_cells[i].get_text() == nbb_unformatted_code) {\n",
       "                             nbb_cells[i].set_text(nbb_formatted_code);\n",
       "                        }\n",
       "                        break;\n",
       "                    }\n",
       "                }\n",
       "            }, 500);\n",
       "            "
      ],
      "text/plain": [
       "<IPython.core.display.Javascript object>"
      ]
     },
     "metadata": {},
     "output_type": "display_data"
    }
   ],
   "source": [
    "# apply above function to acquire taxi data\n",
    "file2009_res = get_and_clean_data3(0)"
   ]
  },
  {
   "cell_type": "code",
   "execution_count": 87,
   "id": "1f81f0e3",
   "metadata": {},
   "outputs": [
    {
     "data": {
      "application/javascript": [
       "\n",
       "            setTimeout(function() {\n",
       "                var nbb_cell_id = 87;\n",
       "                var nbb_unformatted_code = \"#merge yearly data into one DataFrame\\nyellow_taxi = pd.DataFrame()\\nfor i in [file2015_res, file2014_res, file2013_res,file2012_res,file2011_res,file2010_res,file2009_res]:\\n    yellow_taxi = pd.concat([yellow_taxi,i], axis = 0)\";\n",
       "                var nbb_formatted_code = \"# merge yearly data into one DataFrame\\nyellow_taxi = pd.DataFrame()\\nfor i in [\\n    file2015_res,\\n    file2014_res,\\n    file2013_res,\\n    file2012_res,\\n    file2011_res,\\n    file2010_res,\\n    file2009_res,\\n]:\\n    yellow_taxi = pd.concat([yellow_taxi, i], axis=0)\";\n",
       "                var nbb_cells = Jupyter.notebook.get_cells();\n",
       "                for (var i = 0; i < nbb_cells.length; ++i) {\n",
       "                    if (nbb_cells[i].input_prompt_number == nbb_cell_id) {\n",
       "                        if (nbb_cells[i].get_text() == nbb_unformatted_code) {\n",
       "                             nbb_cells[i].set_text(nbb_formatted_code);\n",
       "                        }\n",
       "                        break;\n",
       "                    }\n",
       "                }\n",
       "            }, 500);\n",
       "            "
      ],
      "text/plain": [
       "<IPython.core.display.Javascript object>"
      ]
     },
     "metadata": {},
     "output_type": "display_data"
    }
   ],
   "source": [
    "# merge yearly data into one DataFrame\n",
    "yellow_taxi = pd.DataFrame()\n",
    "for i in [\n",
    "    file2015_res,\n",
    "    file2014_res,\n",
    "    file2013_res,\n",
    "    file2012_res,\n",
    "    file2011_res,\n",
    "    file2010_res,\n",
    "    file2009_res,\n",
    "]:\n",
    "    yellow_taxi = pd.concat([yellow_taxi, i], axis=0)"
   ]
  },
  {
   "cell_type": "code",
   "execution_count": 88,
   "id": "e36c7506",
   "metadata": {},
   "outputs": [
    {
     "data": {
      "application/javascript": [
       "\n",
       "            setTimeout(function() {\n",
       "                var nbb_cell_id = 88;\n",
       "                var nbb_unformatted_code = \"#reset index\\nyellow_taxi = yellow_taxi.reset_index()\\nyellow_taxi = yellow_taxi.drop(['index'], axis =1 )\";\n",
       "                var nbb_formatted_code = \"# reset index\\nyellow_taxi = yellow_taxi.reset_index()\\nyellow_taxi = yellow_taxi.drop([\\\"index\\\"], axis=1)\";\n",
       "                var nbb_cells = Jupyter.notebook.get_cells();\n",
       "                for (var i = 0; i < nbb_cells.length; ++i) {\n",
       "                    if (nbb_cells[i].input_prompt_number == nbb_cell_id) {\n",
       "                        if (nbb_cells[i].get_text() == nbb_unformatted_code) {\n",
       "                             nbb_cells[i].set_text(nbb_formatted_code);\n",
       "                        }\n",
       "                        break;\n",
       "                    }\n",
       "                }\n",
       "            }, 500);\n",
       "            "
      ],
      "text/plain": [
       "<IPython.core.display.Javascript object>"
      ]
     },
     "metadata": {},
     "output_type": "display_data"
    }
   ],
   "source": [
    "# reset index\n",
    "yellow_taxi = yellow_taxi.reset_index()\n",
    "yellow_taxi = yellow_taxi.drop([\"index\"], axis=1)"
   ]
  },
  {
   "cell_type": "code",
   "execution_count": 89,
   "id": "f57ee386",
   "metadata": {},
   "outputs": [
    {
     "data": {
      "text/plain": [
       "pickup_datetime      0\n",
       "tip_amount           0\n",
       "pickup_longitude     0\n",
       "pickup_latitude      0\n",
       "dropoff_longitude    0\n",
       "dropoff_latitude     0\n",
       "distance             0\n",
       "dtype: int64"
      ]
     },
     "execution_count": 89,
     "metadata": {},
     "output_type": "execute_result"
    },
    {
     "data": {
      "application/javascript": [
       "\n",
       "            setTimeout(function() {\n",
       "                var nbb_cell_id = 89;\n",
       "                var nbb_unformatted_code = \"#check the data\\nyellow_taxi.isnull().sum()\";\n",
       "                var nbb_formatted_code = \"# check the data\\nyellow_taxi.isnull().sum()\";\n",
       "                var nbb_cells = Jupyter.notebook.get_cells();\n",
       "                for (var i = 0; i < nbb_cells.length; ++i) {\n",
       "                    if (nbb_cells[i].input_prompt_number == nbb_cell_id) {\n",
       "                        if (nbb_cells[i].get_text() == nbb_unformatted_code) {\n",
       "                             nbb_cells[i].set_text(nbb_formatted_code);\n",
       "                        }\n",
       "                        break;\n",
       "                    }\n",
       "                }\n",
       "            }, 500);\n",
       "            "
      ],
      "text/plain": [
       "<IPython.core.display.Javascript object>"
      ]
     },
     "metadata": {},
     "output_type": "display_data"
    }
   ],
   "source": [
    "# check the data\n",
    "yellow_taxi.isnull().sum()"
   ]
  },
  {
   "cell_type": "markdown",
   "id": "d9cedd23",
   "metadata": {},
   "source": [
    "## Weather Data\n",
    "1. Define functions for cleaning and processing weather data\n",
    "2. Apply the functions for every year data to get yearly dataframes\n",
    "3. Concatenate every year's data"
   ]
  },
  {
   "cell_type": "code",
   "execution_count": 90,
   "id": "366e8054",
   "metadata": {},
   "outputs": [
    {
     "data": {
      "application/javascript": [
       "\n",
       "            setTimeout(function() {\n",
       "                var nbb_cell_id = 90;\n",
       "                var nbb_unformatted_code = \"#This delete_str() function is for processing precipitation data\\n#Because precipitation is in string type and T denote trace amount,\\n#We use an relatively small number to replace the T in order for further number calculation.\\n#x[:4] because there are wrongly number with \\\"0.003s\\\", the s we assume is a typo\\ndef delete_str(x):\\n    if x == None:\\n        return x\\n    elif x == 'T':\\n        return 0.0001\\n    elif type(x) == float:\\n        return x\\n    else:\\n        return x[:4]\\n    \\n#This reset_drop() function is for dataframe's column normalize\\n#Because we have to concatenate all the dataframes at last which need same column name and index\\ndef reset_drop(x):\\n    x = x.reset_index()\\n    x = x.drop(['index'], axis = 1)\\n    return x\";\n",
       "                var nbb_formatted_code = \"# This delete_str() function is for processing precipitation data\\n# Because precipitation is in string type and T denote trace amount,\\n# We use an relatively small number to replace the T in order for further number calculation.\\n# x[:4] because there are wrongly number with \\\"0.003s\\\", the s we assume is a typo\\ndef delete_str(x):\\n    if x == None:\\n        return x\\n    elif x == \\\"T\\\":\\n        return 0.0001\\n    elif type(x) == float:\\n        return x\\n    else:\\n        return x[:4]\\n\\n\\n# This reset_drop() function is for dataframe's column normalize\\n# Because we have to concatenate all the dataframes at last which need same column name and index\\ndef reset_drop(x):\\n    x = x.reset_index()\\n    x = x.drop([\\\"index\\\"], axis=1)\\n    return x\";\n",
       "                var nbb_cells = Jupyter.notebook.get_cells();\n",
       "                for (var i = 0; i < nbb_cells.length; ++i) {\n",
       "                    if (nbb_cells[i].input_prompt_number == nbb_cell_id) {\n",
       "                        if (nbb_cells[i].get_text() == nbb_unformatted_code) {\n",
       "                             nbb_cells[i].set_text(nbb_formatted_code);\n",
       "                        }\n",
       "                        break;\n",
       "                    }\n",
       "                }\n",
       "            }, 500);\n",
       "            "
      ],
      "text/plain": [
       "<IPython.core.display.Javascript object>"
      ]
     },
     "metadata": {},
     "output_type": "display_data"
    }
   ],
   "source": [
    "# This delete_str() function is for processing precipitation data\n",
    "# Because precipitation is in string type and T denote trace amount,\n",
    "# We use an relatively small number to replace the T in order for further number calculation.\n",
    "# x[:4] because there are wrongly number with \"0.003s\", the s we assume is a typo\n",
    "def delete_str(x):\n",
    "    if x == None:\n",
    "        return x\n",
    "    elif x == \"T\":\n",
    "        return 0.0001\n",
    "    elif type(x) == float:\n",
    "        return x\n",
    "    else:\n",
    "        return x[:4]\n",
    "\n",
    "\n",
    "# This reset_drop() function is for dataframe's column normalize\n",
    "# Because we have to concatenate all the dataframes at last which need same column name and index\n",
    "def reset_drop(x):\n",
    "    x = x.reset_index()\n",
    "    x = x.drop([\"index\"], axis=1)\n",
    "    return x"
   ]
  },
  {
   "cell_type": "code",
   "execution_count": 91,
   "id": "1a18115c",
   "metadata": {},
   "outputs": [
    {
     "data": {
      "application/javascript": [
       "\n",
       "            setTimeout(function() {\n",
       "                var nbb_cell_id = 91;\n",
       "                var nbb_unformatted_code = \"#This Weather_transfer()function is used for processing yearly csv file\\n#into hourly weather and calculating daily weather\\n#Please note that calculating daily weather is specific for\\n#2009-2012's data, because these data do not have daily summery(Their \\\"SOD\\\" row count is much smaller than 365)\\n#For other 2013-2015's data, we only need to fetch the \\\"SOD\\\" report which is for daily\\n#(we have test that \\\"SOD\\\" rows for 2013 to 2015 all have 365 entries, which we assume is sufficient)\\ndef Weather_transfer(csv_file):\\n    df = pd.read_csv(csv_file)\\n    \\n    df = df.loc[df['REPORT_TYPE'] != 'SOD  ']\\n    df = df.loc[df['REPORT_TYPE'] != 'SOM  ']\\n    \\n    df_h = df[['DATE', 'HourlyPrecipitation', 'HourlyWindSpeed']]\\n    \\n    df_h['HourlyPrecipitation'] = df_h['HourlyPrecipitation'].apply(delete_str)\\n\\n    df_h['DATE_parsed'] = pd.to_datetime(df_h['DATE'], format = \\\"%Y-%m-%dT%H:%M:%S\\\")\\n\\n    #df_h['HourlyPrecipitation'] = df_h['HourlyPrecipitation'].replace(['T'], 1e-6)\\n    df_h['HourlyPrecipitation'] = df_h['HourlyPrecipitation'].astype(float)\\n    \\n    df_h['HourlyWindSpeed'] = df_h['HourlyWindSpeed'].fillna(0)\\n    df_h['HourlyPrecipitation'] = df_h['HourlyPrecipitation'].fillna(0)\\n\\n    df_h['DATE_day'] = pd.to_datetime(df_h['DATE'], format = \\\"%Y-%m-%d\\\").dt.date\\n    group = df_h.groupby('DATE_day')\\n    df_d = group.mean()\\n    df_d.rename(columns={\\\"HourlyPrecipitation\\\": \\\"DailyPrecipitation\\\", \\\"HourlyWindSpeed\\\": \\\"DailyAverageWindSpeed\\\"}, inplace = True)\\n    df_d['DailyPrecipitation'] = df_d['DailyPrecipitation'].fillna(0)\\n    #df_h['HourlyPrecipitation'] = df_h['HourlyPrecipitation'].fillna(0)\\n    \\n    \\n    df_h['DATE'] = df_h['DATE_parsed']\\n    df_h.drop(['DATE_parsed','DATE_day'], axis = 1, inplace = True)\\n    \\n    df_d.reset_index(inplace=True)\\n\\n    list_df = [df_h, df_d]\\n    return list_df\";\n",
       "                var nbb_formatted_code = \"# This Weather_transfer()function is used for processing yearly csv file\\n# into hourly weather and calculating daily weather\\n# Please note that calculating daily weather is specific for\\n# 2009-2012's data, because these data do not have daily summery(Their \\\"SOD\\\" row count is much smaller than 365)\\n# For other 2013-2015's data, we only need to fetch the \\\"SOD\\\" report which is for daily\\n# (we have test that \\\"SOD\\\" rows for 2013 to 2015 all have 365 entries, which we assume is sufficient)\\ndef Weather_transfer(csv_file):\\n    df = pd.read_csv(csv_file)\\n\\n    df = df.loc[df[\\\"REPORT_TYPE\\\"] != \\\"SOD  \\\"]\\n    df = df.loc[df[\\\"REPORT_TYPE\\\"] != \\\"SOM  \\\"]\\n\\n    df_h = df[[\\\"DATE\\\", \\\"HourlyPrecipitation\\\", \\\"HourlyWindSpeed\\\"]]\\n\\n    df_h[\\\"HourlyPrecipitation\\\"] = df_h[\\\"HourlyPrecipitation\\\"].apply(delete_str)\\n\\n    df_h[\\\"DATE_parsed\\\"] = pd.to_datetime(df_h[\\\"DATE\\\"], format=\\\"%Y-%m-%dT%H:%M:%S\\\")\\n\\n    # df_h['HourlyPrecipitation'] = df_h['HourlyPrecipitation'].replace(['T'], 1e-6)\\n    df_h[\\\"HourlyPrecipitation\\\"] = df_h[\\\"HourlyPrecipitation\\\"].astype(float)\\n\\n    df_h[\\\"HourlyWindSpeed\\\"] = df_h[\\\"HourlyWindSpeed\\\"].fillna(0)\\n    df_h[\\\"HourlyPrecipitation\\\"] = df_h[\\\"HourlyPrecipitation\\\"].fillna(0)\\n\\n    df_h[\\\"DATE_day\\\"] = pd.to_datetime(df_h[\\\"DATE\\\"], format=\\\"%Y-%m-%d\\\").dt.date\\n    group = df_h.groupby(\\\"DATE_day\\\")\\n    df_d = group.mean()\\n    df_d.rename(\\n        columns={\\n            \\\"HourlyPrecipitation\\\": \\\"DailyPrecipitation\\\",\\n            \\\"HourlyWindSpeed\\\": \\\"DailyAverageWindSpeed\\\",\\n        },\\n        inplace=True,\\n    )\\n    df_d[\\\"DailyPrecipitation\\\"] = df_d[\\\"DailyPrecipitation\\\"].fillna(0)\\n    # df_h['HourlyPrecipitation'] = df_h['HourlyPrecipitation'].fillna(0)\\n\\n    df_h[\\\"DATE\\\"] = df_h[\\\"DATE_parsed\\\"]\\n    df_h.drop([\\\"DATE_parsed\\\", \\\"DATE_day\\\"], axis=1, inplace=True)\\n\\n    df_d.reset_index(inplace=True)\\n\\n    list_df = [df_h, df_d]\\n    return list_df\";\n",
       "                var nbb_cells = Jupyter.notebook.get_cells();\n",
       "                for (var i = 0; i < nbb_cells.length; ++i) {\n",
       "                    if (nbb_cells[i].input_prompt_number == nbb_cell_id) {\n",
       "                        if (nbb_cells[i].get_text() == nbb_unformatted_code) {\n",
       "                             nbb_cells[i].set_text(nbb_formatted_code);\n",
       "                        }\n",
       "                        break;\n",
       "                    }\n",
       "                }\n",
       "            }, 500);\n",
       "            "
      ],
      "text/plain": [
       "<IPython.core.display.Javascript object>"
      ]
     },
     "metadata": {},
     "output_type": "display_data"
    }
   ],
   "source": [
    "# This Weather_transfer()function is used for processing yearly csv file\n",
    "# into hourly weather and calculating daily weather\n",
    "# Please note that calculating daily weather is specific for\n",
    "# 2009-2012's data, because these data do not have daily summery(Their \"SOD\" row count is much smaller than 365)\n",
    "# For other 2013-2015's data, we only need to fetch the \"SOD\" report which is for daily\n",
    "# (we have test that \"SOD\" rows for 2013 to 2015 all have 365 entries, which we assume is sufficient)\n",
    "def Weather_transfer(csv_file):\n",
    "    df = pd.read_csv(csv_file)\n",
    "\n",
    "    df = df.loc[df[\"REPORT_TYPE\"] != \"SOD  \"]\n",
    "    df = df.loc[df[\"REPORT_TYPE\"] != \"SOM  \"]\n",
    "\n",
    "    df_h = df[[\"DATE\", \"HourlyPrecipitation\", \"HourlyWindSpeed\"]]\n",
    "\n",
    "    df_h[\"HourlyPrecipitation\"] = df_h[\"HourlyPrecipitation\"].apply(delete_str)\n",
    "\n",
    "    df_h[\"DATE_parsed\"] = pd.to_datetime(df_h[\"DATE\"], format=\"%Y-%m-%dT%H:%M:%S\")\n",
    "\n",
    "    # df_h['HourlyPrecipitation'] = df_h['HourlyPrecipitation'].replace(['T'], 1e-6)\n",
    "    df_h[\"HourlyPrecipitation\"] = df_h[\"HourlyPrecipitation\"].astype(float)\n",
    "\n",
    "    df_h[\"HourlyWindSpeed\"] = df_h[\"HourlyWindSpeed\"].fillna(0)\n",
    "    df_h[\"HourlyPrecipitation\"] = df_h[\"HourlyPrecipitation\"].fillna(0)\n",
    "\n",
    "    df_h[\"DATE_day\"] = pd.to_datetime(df_h[\"DATE\"], format=\"%Y-%m-%d\").dt.date\n",
    "    group = df_h.groupby(\"DATE_day\")\n",
    "    df_d = group.mean()\n",
    "    df_d.rename(\n",
    "        columns={\n",
    "            \"HourlyPrecipitation\": \"DailyPrecipitation\",\n",
    "            \"HourlyWindSpeed\": \"DailyAverageWindSpeed\",\n",
    "        },\n",
    "        inplace=True,\n",
    "    )\n",
    "    df_d[\"DailyPrecipitation\"] = df_d[\"DailyPrecipitation\"].fillna(0)\n",
    "    # df_h['HourlyPrecipitation'] = df_h['HourlyPrecipitation'].fillna(0)\n",
    "\n",
    "    df_h[\"DATE\"] = df_h[\"DATE_parsed\"]\n",
    "    df_h.drop([\"DATE_parsed\", \"DATE_day\"], axis=1, inplace=True)\n",
    "\n",
    "    df_d.reset_index(inplace=True)\n",
    "\n",
    "    list_df = [df_h, df_d]\n",
    "    return list_df"
   ]
  },
  {
   "cell_type": "code",
   "execution_count": 92,
   "id": "eefa65ab",
   "metadata": {},
   "outputs": [
    {
     "data": {
      "application/javascript": [
       "\n",
       "            setTimeout(function() {\n",
       "                var nbb_cell_id = 92;\n",
       "                var nbb_unformatted_code = \"#This get_daily() function is specific for year from 2013 to 2015\\n#As their SOD daily summery is compelete and reliable\\ndef get_daily(csv_file):\\n    weather_df = pd.read_csv(csv_file)\\n    df_daily = weather_df.loc[weather_df['REPORT_TYPE'] == 'SOD  '][['DATE', 'DailyPrecipitation', 'DailyAverageWindSpeed']]\\n    df_daily['DailyPrecipitation'] = df_daily['DailyPrecipitation'].apply(delete_str)\\n    df_daily['DailyPrecipitation'] = df_daily['DailyPrecipitation'].astype(float)\\n    df_daily['DailyAverageWindSpeed'] = df_daily['DailyAverageWindSpeed'].astype(float)\\n    \\n    df_daily['DailyAverageWindSpeed'] = df_daily['DailyAverageWindSpeed'].fillna(0)\\n    \\n    df_daily['Date'] = pd.to_datetime(df_daily['DATE'], format = \\\"%Y-%m-%dT%H:%M:%S\\\").dt.date\\n    df_daily['DATE'] = df_daily['Date']\\n    df_daily = df_daily.drop(['Date'], axis = 1)\\n    df_daily.rename({'DATE' : 'DATE_day'}, axis = 1, inplace = True)\\n    #df_daily.set_index(['DATE_day'], inplace = True)\\n    df_daily.reindex(columns = ['DATE_day', 'DailyPrecipitation', 'DailyAverageWindSpeed'])\\n    \\n    df_daily.reset_index(inplace=True)\\n    df_daily = df_daily.drop(['index'], axis = 1)\\n    return df_daily\";\n",
       "                var nbb_formatted_code = \"# This get_daily() function is specific for year from 2013 to 2015\\n# As their SOD daily summery is compelete and reliable\\ndef get_daily(csv_file):\\n    weather_df = pd.read_csv(csv_file)\\n    df_daily = weather_df.loc[weather_df[\\\"REPORT_TYPE\\\"] == \\\"SOD  \\\"][\\n        [\\\"DATE\\\", \\\"DailyPrecipitation\\\", \\\"DailyAverageWindSpeed\\\"]\\n    ]\\n    df_daily[\\\"DailyPrecipitation\\\"] = df_daily[\\\"DailyPrecipitation\\\"].apply(delete_str)\\n    df_daily[\\\"DailyPrecipitation\\\"] = df_daily[\\\"DailyPrecipitation\\\"].astype(float)\\n    df_daily[\\\"DailyAverageWindSpeed\\\"] = df_daily[\\\"DailyAverageWindSpeed\\\"].astype(float)\\n\\n    df_daily[\\\"DailyAverageWindSpeed\\\"] = df_daily[\\\"DailyAverageWindSpeed\\\"].fillna(0)\\n\\n    df_daily[\\\"Date\\\"] = pd.to_datetime(\\n        df_daily[\\\"DATE\\\"], format=\\\"%Y-%m-%dT%H:%M:%S\\\"\\n    ).dt.date\\n    df_daily[\\\"DATE\\\"] = df_daily[\\\"Date\\\"]\\n    df_daily = df_daily.drop([\\\"Date\\\"], axis=1)\\n    df_daily.rename({\\\"DATE\\\": \\\"DATE_day\\\"}, axis=1, inplace=True)\\n    # df_daily.set_index(['DATE_day'], inplace = True)\\n    df_daily.reindex(\\n        columns=[\\\"DATE_day\\\", \\\"DailyPrecipitation\\\", \\\"DailyAverageWindSpeed\\\"]\\n    )\\n\\n    df_daily.reset_index(inplace=True)\\n    df_daily = df_daily.drop([\\\"index\\\"], axis=1)\\n    return df_daily\";\n",
       "                var nbb_cells = Jupyter.notebook.get_cells();\n",
       "                for (var i = 0; i < nbb_cells.length; ++i) {\n",
       "                    if (nbb_cells[i].input_prompt_number == nbb_cell_id) {\n",
       "                        if (nbb_cells[i].get_text() == nbb_unformatted_code) {\n",
       "                             nbb_cells[i].set_text(nbb_formatted_code);\n",
       "                        }\n",
       "                        break;\n",
       "                    }\n",
       "                }\n",
       "            }, 500);\n",
       "            "
      ],
      "text/plain": [
       "<IPython.core.display.Javascript object>"
      ]
     },
     "metadata": {},
     "output_type": "display_data"
    }
   ],
   "source": [
    "# This get_daily() function is specific for year from 2013 to 2015\n",
    "# As their SOD daily summery is compelete and reliable\n",
    "def get_daily(csv_file):\n",
    "    weather_df = pd.read_csv(csv_file)\n",
    "    df_daily = weather_df.loc[weather_df[\"REPORT_TYPE\"] == \"SOD  \"][\n",
    "        [\"DATE\", \"DailyPrecipitation\", \"DailyAverageWindSpeed\"]\n",
    "    ]\n",
    "    df_daily[\"DailyPrecipitation\"] = df_daily[\"DailyPrecipitation\"].apply(delete_str)\n",
    "    df_daily[\"DailyPrecipitation\"] = df_daily[\"DailyPrecipitation\"].astype(float)\n",
    "    df_daily[\"DailyAverageWindSpeed\"] = df_daily[\"DailyAverageWindSpeed\"].astype(float)\n",
    "\n",
    "    df_daily[\"DailyAverageWindSpeed\"] = df_daily[\"DailyAverageWindSpeed\"].fillna(0)\n",
    "\n",
    "    df_daily[\"Date\"] = pd.to_datetime(\n",
    "        df_daily[\"DATE\"], format=\"%Y-%m-%dT%H:%M:%S\"\n",
    "    ).dt.date\n",
    "    df_daily[\"DATE\"] = df_daily[\"Date\"]\n",
    "    df_daily = df_daily.drop([\"Date\"], axis=1)\n",
    "    df_daily.rename({\"DATE\": \"DATE_day\"}, axis=1, inplace=True)\n",
    "    # df_daily.set_index(['DATE_day'], inplace = True)\n",
    "    df_daily.reindex(\n",
    "        columns=[\"DATE_day\", \"DailyPrecipitation\", \"DailyAverageWindSpeed\"]\n",
    "    )\n",
    "\n",
    "    df_daily.reset_index(inplace=True)\n",
    "    df_daily = df_daily.drop([\"index\"], axis=1)\n",
    "    return df_daily"
   ]
  },
  {
   "cell_type": "code",
   "execution_count": 93,
   "id": "51a9c6fb",
   "metadata": {},
   "outputs": [
    {
     "data": {
      "application/javascript": [
       "\n",
       "            setTimeout(function() {\n",
       "                var nbb_cell_id = 93;\n",
       "                var nbb_unformatted_code = \"#This get_sun function is for getting the sunrise and sunset time for everyday of 2009 to 2015\\ndef get_sun(csv_file):\\n    weather_df_09 = pd.read_csv(csv_file)\\n    df = weather_df_09.loc[weather_df_09['REPORT_TYPE'] == 'SOD  '][['DATE', 'Sunrise', 'Sunset']]\\n    df['Sunrise'] = '0' + df['Sunrise'].astype(int).astype(str) \\n    df['Sunset'] = df['Sunset'].astype(int).astype(str)\\n    df['DATE_day'] = pd.to_datetime(weather_df_09['DATE'], format = \\\"%Y-%m-%d\\\").dt.date\\n    df['DATE_Sunrise_str'] = df['DATE_day'].astype(str) + '0' + df['Sunrise'].astype(int).astype(str)\\n    df['DATE_Sunset_str'] = df['DATE_day'].astype(str) + df['Sunset'].astype(int).astype(str) \\n    df['Sunrise_Time'] = pd.to_datetime(df['DATE_Sunrise_str'], format = \\\"%Y-%m-%d%H%M\\\")\\n    df['Sunset_Time'] = pd.to_datetime(df['DATE_Sunset_str'], format = \\\"%Y-%m-%d%H%M\\\")\\n    df_sun = df[['Sunrise_Time', 'Sunset_Time']]\\n    \\n    df_sun.reset_index(inplace=True)\\n    df_sun = df_sun.drop(['index'], axis = 1)\\n    return df_sun\";\n",
       "                var nbb_formatted_code = \"# This get_sun function is for getting the sunrise and sunset time for everyday of 2009 to 2015\\ndef get_sun(csv_file):\\n    weather_df_09 = pd.read_csv(csv_file)\\n    df = weather_df_09.loc[weather_df_09[\\\"REPORT_TYPE\\\"] == \\\"SOD  \\\"][\\n        [\\\"DATE\\\", \\\"Sunrise\\\", \\\"Sunset\\\"]\\n    ]\\n    df[\\\"Sunrise\\\"] = \\\"0\\\" + df[\\\"Sunrise\\\"].astype(int).astype(str)\\n    df[\\\"Sunset\\\"] = df[\\\"Sunset\\\"].astype(int).astype(str)\\n    df[\\\"DATE_day\\\"] = pd.to_datetime(weather_df_09[\\\"DATE\\\"], format=\\\"%Y-%m-%d\\\").dt.date\\n    df[\\\"DATE_Sunrise_str\\\"] = (\\n        df[\\\"DATE_day\\\"].astype(str) + \\\"0\\\" + df[\\\"Sunrise\\\"].astype(int).astype(str)\\n    )\\n    df[\\\"DATE_Sunset_str\\\"] = df[\\\"DATE_day\\\"].astype(str) + df[\\\"Sunset\\\"].astype(\\n        int\\n    ).astype(str)\\n    df[\\\"Sunrise_Time\\\"] = pd.to_datetime(df[\\\"DATE_Sunrise_str\\\"], format=\\\"%Y-%m-%d%H%M\\\")\\n    df[\\\"Sunset_Time\\\"] = pd.to_datetime(df[\\\"DATE_Sunset_str\\\"], format=\\\"%Y-%m-%d%H%M\\\")\\n    df_sun = df[[\\\"Sunrise_Time\\\", \\\"Sunset_Time\\\"]]\\n\\n    df_sun.reset_index(inplace=True)\\n    df_sun = df_sun.drop([\\\"index\\\"], axis=1)\\n    return df_sun\";\n",
       "                var nbb_cells = Jupyter.notebook.get_cells();\n",
       "                for (var i = 0; i < nbb_cells.length; ++i) {\n",
       "                    if (nbb_cells[i].input_prompt_number == nbb_cell_id) {\n",
       "                        if (nbb_cells[i].get_text() == nbb_unformatted_code) {\n",
       "                             nbb_cells[i].set_text(nbb_formatted_code);\n",
       "                        }\n",
       "                        break;\n",
       "                    }\n",
       "                }\n",
       "            }, 500);\n",
       "            "
      ],
      "text/plain": [
       "<IPython.core.display.Javascript object>"
      ]
     },
     "metadata": {},
     "output_type": "display_data"
    }
   ],
   "source": [
    "# This get_sun function is for getting the sunrise and sunset time for everyday of 2009 to 2015\n",
    "def get_sun(csv_file):\n",
    "    weather_df_09 = pd.read_csv(csv_file)\n",
    "    df = weather_df_09.loc[weather_df_09[\"REPORT_TYPE\"] == \"SOD  \"][\n",
    "        [\"DATE\", \"Sunrise\", \"Sunset\"]\n",
    "    ]\n",
    "    df[\"Sunrise\"] = \"0\" + df[\"Sunrise\"].astype(int).astype(str)\n",
    "    df[\"Sunset\"] = df[\"Sunset\"].astype(int).astype(str)\n",
    "    df[\"DATE_day\"] = pd.to_datetime(weather_df_09[\"DATE\"], format=\"%Y-%m-%d\").dt.date\n",
    "    df[\"DATE_Sunrise_str\"] = (\n",
    "        df[\"DATE_day\"].astype(str) + \"0\" + df[\"Sunrise\"].astype(int).astype(str)\n",
    "    )\n",
    "    df[\"DATE_Sunset_str\"] = df[\"DATE_day\"].astype(str) + df[\"Sunset\"].astype(\n",
    "        int\n",
    "    ).astype(str)\n",
    "    df[\"Sunrise_Time\"] = pd.to_datetime(df[\"DATE_Sunrise_str\"], format=\"%Y-%m-%d%H%M\")\n",
    "    df[\"Sunset_Time\"] = pd.to_datetime(df[\"DATE_Sunset_str\"], format=\"%Y-%m-%d%H%M\")\n",
    "    df_sun = df[[\"Sunrise_Time\", \"Sunset_Time\"]]\n",
    "\n",
    "    df_sun.reset_index(inplace=True)\n",
    "    df_sun = df_sun.drop([\"index\"], axis=1)\n",
    "    return df_sun"
   ]
  },
  {
   "cell_type": "code",
   "execution_count": 94,
   "id": "890a4bc5",
   "metadata": {},
   "outputs": [
    {
     "name": "stderr",
     "output_type": "stream",
     "text": [
      "<ipython-input-91-f775f1c5a688>:8: DtypeWarning: Columns (9,13) have mixed types. Specify dtype option on import or set low_memory=False.\n",
      "  df = pd.read_csv(csv_file)\n",
      "<ipython-input-91-f775f1c5a688>:15: SettingWithCopyWarning: \n",
      "A value is trying to be set on a copy of a slice from a DataFrame.\n",
      "Try using .loc[row_indexer,col_indexer] = value instead\n",
      "\n",
      "See the caveats in the documentation: https://pandas.pydata.org/pandas-docs/stable/user_guide/indexing.html#returning-a-view-versus-a-copy\n",
      "  df_h['HourlyPrecipitation'] = df_h['HourlyPrecipitation'].apply(delete_str)\n",
      "<ipython-input-91-f775f1c5a688>:17: SettingWithCopyWarning: \n",
      "A value is trying to be set on a copy of a slice from a DataFrame.\n",
      "Try using .loc[row_indexer,col_indexer] = value instead\n",
      "\n",
      "See the caveats in the documentation: https://pandas.pydata.org/pandas-docs/stable/user_guide/indexing.html#returning-a-view-versus-a-copy\n",
      "  df_h['DATE_parsed'] = pd.to_datetime(df_h['DATE'], format = \"%Y-%m-%dT%H:%M:%S\")\n",
      "<ipython-input-91-f775f1c5a688>:20: SettingWithCopyWarning: \n",
      "A value is trying to be set on a copy of a slice from a DataFrame.\n",
      "Try using .loc[row_indexer,col_indexer] = value instead\n",
      "\n",
      "See the caveats in the documentation: https://pandas.pydata.org/pandas-docs/stable/user_guide/indexing.html#returning-a-view-versus-a-copy\n",
      "  df_h['HourlyPrecipitation'] = df_h['HourlyPrecipitation'].astype(float)\n",
      "<ipython-input-91-f775f1c5a688>:22: SettingWithCopyWarning: \n",
      "A value is trying to be set on a copy of a slice from a DataFrame.\n",
      "Try using .loc[row_indexer,col_indexer] = value instead\n",
      "\n",
      "See the caveats in the documentation: https://pandas.pydata.org/pandas-docs/stable/user_guide/indexing.html#returning-a-view-versus-a-copy\n",
      "  df_h['HourlyWindSpeed'] = df_h['HourlyWindSpeed'].fillna(0)\n",
      "<ipython-input-91-f775f1c5a688>:23: SettingWithCopyWarning: \n",
      "A value is trying to be set on a copy of a slice from a DataFrame.\n",
      "Try using .loc[row_indexer,col_indexer] = value instead\n",
      "\n",
      "See the caveats in the documentation: https://pandas.pydata.org/pandas-docs/stable/user_guide/indexing.html#returning-a-view-versus-a-copy\n",
      "  df_h['HourlyPrecipitation'] = df_h['HourlyPrecipitation'].fillna(0)\n",
      "<ipython-input-91-f775f1c5a688>:25: SettingWithCopyWarning: \n",
      "A value is trying to be set on a copy of a slice from a DataFrame.\n",
      "Try using .loc[row_indexer,col_indexer] = value instead\n",
      "\n",
      "See the caveats in the documentation: https://pandas.pydata.org/pandas-docs/stable/user_guide/indexing.html#returning-a-view-versus-a-copy\n",
      "  df_h['DATE_day'] = pd.to_datetime(df_h['DATE'], format = \"%Y-%m-%d\").dt.date\n",
      "<ipython-input-91-f775f1c5a688>:27: FutureWarning: The default value of numeric_only in DataFrameGroupBy.mean is deprecated. In a future version, numeric_only will default to False. Either specify numeric_only or select only columns which should be valid for the function.\n",
      "  df_d = group.mean()\n",
      "<ipython-input-91-f775f1c5a688>:33: SettingWithCopyWarning: \n",
      "A value is trying to be set on a copy of a slice from a DataFrame.\n",
      "Try using .loc[row_indexer,col_indexer] = value instead\n",
      "\n",
      "See the caveats in the documentation: https://pandas.pydata.org/pandas-docs/stable/user_guide/indexing.html#returning-a-view-versus-a-copy\n",
      "  df_h['DATE'] = df_h['DATE_parsed']\n",
      "<ipython-input-91-f775f1c5a688>:34: SettingWithCopyWarning: \n",
      "A value is trying to be set on a copy of a slice from a DataFrame\n",
      "\n",
      "See the caveats in the documentation: https://pandas.pydata.org/pandas-docs/stable/user_guide/indexing.html#returning-a-view-versus-a-copy\n",
      "  df_h.drop(['DATE_parsed','DATE_day'], axis = 1, inplace = True)\n",
      "<ipython-input-91-f775f1c5a688>:8: DtypeWarning: Columns (8,9,10,17) have mixed types. Specify dtype option on import or set low_memory=False.\n",
      "  df = pd.read_csv(csv_file)\n",
      "<ipython-input-91-f775f1c5a688>:15: SettingWithCopyWarning: \n",
      "A value is trying to be set on a copy of a slice from a DataFrame.\n",
      "Try using .loc[row_indexer,col_indexer] = value instead\n",
      "\n",
      "See the caveats in the documentation: https://pandas.pydata.org/pandas-docs/stable/user_guide/indexing.html#returning-a-view-versus-a-copy\n",
      "  df_h['HourlyPrecipitation'] = df_h['HourlyPrecipitation'].apply(delete_str)\n",
      "<ipython-input-91-f775f1c5a688>:17: SettingWithCopyWarning: \n",
      "A value is trying to be set on a copy of a slice from a DataFrame.\n",
      "Try using .loc[row_indexer,col_indexer] = value instead\n",
      "\n",
      "See the caveats in the documentation: https://pandas.pydata.org/pandas-docs/stable/user_guide/indexing.html#returning-a-view-versus-a-copy\n",
      "  df_h['DATE_parsed'] = pd.to_datetime(df_h['DATE'], format = \"%Y-%m-%dT%H:%M:%S\")\n",
      "<ipython-input-91-f775f1c5a688>:20: SettingWithCopyWarning: \n",
      "A value is trying to be set on a copy of a slice from a DataFrame.\n",
      "Try using .loc[row_indexer,col_indexer] = value instead\n",
      "\n",
      "See the caveats in the documentation: https://pandas.pydata.org/pandas-docs/stable/user_guide/indexing.html#returning-a-view-versus-a-copy\n",
      "  df_h['HourlyPrecipitation'] = df_h['HourlyPrecipitation'].astype(float)\n",
      "<ipython-input-91-f775f1c5a688>:22: SettingWithCopyWarning: \n",
      "A value is trying to be set on a copy of a slice from a DataFrame.\n",
      "Try using .loc[row_indexer,col_indexer] = value instead\n",
      "\n",
      "See the caveats in the documentation: https://pandas.pydata.org/pandas-docs/stable/user_guide/indexing.html#returning-a-view-versus-a-copy\n",
      "  df_h['HourlyWindSpeed'] = df_h['HourlyWindSpeed'].fillna(0)\n",
      "<ipython-input-91-f775f1c5a688>:23: SettingWithCopyWarning: \n",
      "A value is trying to be set on a copy of a slice from a DataFrame.\n",
      "Try using .loc[row_indexer,col_indexer] = value instead\n",
      "\n",
      "See the caveats in the documentation: https://pandas.pydata.org/pandas-docs/stable/user_guide/indexing.html#returning-a-view-versus-a-copy\n",
      "  df_h['HourlyPrecipitation'] = df_h['HourlyPrecipitation'].fillna(0)\n",
      "<ipython-input-91-f775f1c5a688>:25: SettingWithCopyWarning: \n",
      "A value is trying to be set on a copy of a slice from a DataFrame.\n",
      "Try using .loc[row_indexer,col_indexer] = value instead\n",
      "\n",
      "See the caveats in the documentation: https://pandas.pydata.org/pandas-docs/stable/user_guide/indexing.html#returning-a-view-versus-a-copy\n",
      "  df_h['DATE_day'] = pd.to_datetime(df_h['DATE'], format = \"%Y-%m-%d\").dt.date\n",
      "<ipython-input-91-f775f1c5a688>:27: FutureWarning: The default value of numeric_only in DataFrameGroupBy.mean is deprecated. In a future version, numeric_only will default to False. Either specify numeric_only or select only columns which should be valid for the function.\n",
      "  df_d = group.mean()\n",
      "<ipython-input-91-f775f1c5a688>:33: SettingWithCopyWarning: \n",
      "A value is trying to be set on a copy of a slice from a DataFrame.\n",
      "Try using .loc[row_indexer,col_indexer] = value instead\n",
      "\n",
      "See the caveats in the documentation: https://pandas.pydata.org/pandas-docs/stable/user_guide/indexing.html#returning-a-view-versus-a-copy\n",
      "  df_h['DATE'] = df_h['DATE_parsed']\n",
      "<ipython-input-91-f775f1c5a688>:34: SettingWithCopyWarning: \n",
      "A value is trying to be set on a copy of a slice from a DataFrame\n",
      "\n",
      "See the caveats in the documentation: https://pandas.pydata.org/pandas-docs/stable/user_guide/indexing.html#returning-a-view-versus-a-copy\n",
      "  df_h.drop(['DATE_parsed','DATE_day'], axis = 1, inplace = True)\n",
      "<ipython-input-91-f775f1c5a688>:8: DtypeWarning: Columns (10) have mixed types. Specify dtype option on import or set low_memory=False.\n",
      "  df = pd.read_csv(csv_file)\n",
      "<ipython-input-91-f775f1c5a688>:15: SettingWithCopyWarning: \n",
      "A value is trying to be set on a copy of a slice from a DataFrame.\n",
      "Try using .loc[row_indexer,col_indexer] = value instead\n",
      "\n",
      "See the caveats in the documentation: https://pandas.pydata.org/pandas-docs/stable/user_guide/indexing.html#returning-a-view-versus-a-copy\n",
      "  df_h['HourlyPrecipitation'] = df_h['HourlyPrecipitation'].apply(delete_str)\n",
      "<ipython-input-91-f775f1c5a688>:17: SettingWithCopyWarning: \n",
      "A value is trying to be set on a copy of a slice from a DataFrame.\n",
      "Try using .loc[row_indexer,col_indexer] = value instead\n",
      "\n",
      "See the caveats in the documentation: https://pandas.pydata.org/pandas-docs/stable/user_guide/indexing.html#returning-a-view-versus-a-copy\n",
      "  df_h['DATE_parsed'] = pd.to_datetime(df_h['DATE'], format = \"%Y-%m-%dT%H:%M:%S\")\n",
      "<ipython-input-91-f775f1c5a688>:20: SettingWithCopyWarning: \n",
      "A value is trying to be set on a copy of a slice from a DataFrame.\n",
      "Try using .loc[row_indexer,col_indexer] = value instead\n",
      "\n",
      "See the caveats in the documentation: https://pandas.pydata.org/pandas-docs/stable/user_guide/indexing.html#returning-a-view-versus-a-copy\n",
      "  df_h['HourlyPrecipitation'] = df_h['HourlyPrecipitation'].astype(float)\n",
      "<ipython-input-91-f775f1c5a688>:22: SettingWithCopyWarning: \n",
      "A value is trying to be set on a copy of a slice from a DataFrame.\n",
      "Try using .loc[row_indexer,col_indexer] = value instead\n",
      "\n",
      "See the caveats in the documentation: https://pandas.pydata.org/pandas-docs/stable/user_guide/indexing.html#returning-a-view-versus-a-copy\n",
      "  df_h['HourlyWindSpeed'] = df_h['HourlyWindSpeed'].fillna(0)\n",
      "<ipython-input-91-f775f1c5a688>:23: SettingWithCopyWarning: \n",
      "A value is trying to be set on a copy of a slice from a DataFrame.\n",
      "Try using .loc[row_indexer,col_indexer] = value instead\n",
      "\n",
      "See the caveats in the documentation: https://pandas.pydata.org/pandas-docs/stable/user_guide/indexing.html#returning-a-view-versus-a-copy\n",
      "  df_h['HourlyPrecipitation'] = df_h['HourlyPrecipitation'].fillna(0)\n",
      "<ipython-input-91-f775f1c5a688>:25: SettingWithCopyWarning: \n",
      "A value is trying to be set on a copy of a slice from a DataFrame.\n",
      "Try using .loc[row_indexer,col_indexer] = value instead\n",
      "\n",
      "See the caveats in the documentation: https://pandas.pydata.org/pandas-docs/stable/user_guide/indexing.html#returning-a-view-versus-a-copy\n",
      "  df_h['DATE_day'] = pd.to_datetime(df_h['DATE'], format = \"%Y-%m-%d\").dt.date\n",
      "<ipython-input-91-f775f1c5a688>:27: FutureWarning: The default value of numeric_only in DataFrameGroupBy.mean is deprecated. In a future version, numeric_only will default to False. Either specify numeric_only or select only columns which should be valid for the function.\n",
      "  df_d = group.mean()\n",
      "<ipython-input-91-f775f1c5a688>:33: SettingWithCopyWarning: \n",
      "A value is trying to be set on a copy of a slice from a DataFrame.\n",
      "Try using .loc[row_indexer,col_indexer] = value instead\n",
      "\n",
      "See the caveats in the documentation: https://pandas.pydata.org/pandas-docs/stable/user_guide/indexing.html#returning-a-view-versus-a-copy\n",
      "  df_h['DATE'] = df_h['DATE_parsed']\n",
      "<ipython-input-91-f775f1c5a688>:34: SettingWithCopyWarning: \n",
      "A value is trying to be set on a copy of a slice from a DataFrame\n",
      "\n",
      "See the caveats in the documentation: https://pandas.pydata.org/pandas-docs/stable/user_guide/indexing.html#returning-a-view-versus-a-copy\n",
      "  df_h.drop(['DATE_parsed','DATE_day'], axis = 1, inplace = True)\n",
      "<ipython-input-91-f775f1c5a688>:8: DtypeWarning: Columns (7,8,9,10,17,18,42,65) have mixed types. Specify dtype option on import or set low_memory=False.\n",
      "  df = pd.read_csv(csv_file)\n",
      "<ipython-input-91-f775f1c5a688>:15: SettingWithCopyWarning: \n",
      "A value is trying to be set on a copy of a slice from a DataFrame.\n",
      "Try using .loc[row_indexer,col_indexer] = value instead\n",
      "\n",
      "See the caveats in the documentation: https://pandas.pydata.org/pandas-docs/stable/user_guide/indexing.html#returning-a-view-versus-a-copy\n",
      "  df_h['HourlyPrecipitation'] = df_h['HourlyPrecipitation'].apply(delete_str)\n",
      "<ipython-input-91-f775f1c5a688>:17: SettingWithCopyWarning: \n",
      "A value is trying to be set on a copy of a slice from a DataFrame.\n",
      "Try using .loc[row_indexer,col_indexer] = value instead\n",
      "\n",
      "See the caveats in the documentation: https://pandas.pydata.org/pandas-docs/stable/user_guide/indexing.html#returning-a-view-versus-a-copy\n",
      "  df_h['DATE_parsed'] = pd.to_datetime(df_h['DATE'], format = \"%Y-%m-%dT%H:%M:%S\")\n",
      "<ipython-input-91-f775f1c5a688>:20: SettingWithCopyWarning: \n",
      "A value is trying to be set on a copy of a slice from a DataFrame.\n",
      "Try using .loc[row_indexer,col_indexer] = value instead\n",
      "\n",
      "See the caveats in the documentation: https://pandas.pydata.org/pandas-docs/stable/user_guide/indexing.html#returning-a-view-versus-a-copy\n",
      "  df_h['HourlyPrecipitation'] = df_h['HourlyPrecipitation'].astype(float)\n",
      "<ipython-input-91-f775f1c5a688>:22: SettingWithCopyWarning: \n",
      "A value is trying to be set on a copy of a slice from a DataFrame.\n",
      "Try using .loc[row_indexer,col_indexer] = value instead\n",
      "\n",
      "See the caveats in the documentation: https://pandas.pydata.org/pandas-docs/stable/user_guide/indexing.html#returning-a-view-versus-a-copy\n",
      "  df_h['HourlyWindSpeed'] = df_h['HourlyWindSpeed'].fillna(0)\n",
      "<ipython-input-91-f775f1c5a688>:23: SettingWithCopyWarning: \n",
      "A value is trying to be set on a copy of a slice from a DataFrame.\n",
      "Try using .loc[row_indexer,col_indexer] = value instead\n",
      "\n",
      "See the caveats in the documentation: https://pandas.pydata.org/pandas-docs/stable/user_guide/indexing.html#returning-a-view-versus-a-copy\n",
      "  df_h['HourlyPrecipitation'] = df_h['HourlyPrecipitation'].fillna(0)\n",
      "<ipython-input-91-f775f1c5a688>:25: SettingWithCopyWarning: \n",
      "A value is trying to be set on a copy of a slice from a DataFrame.\n",
      "Try using .loc[row_indexer,col_indexer] = value instead\n",
      "\n",
      "See the caveats in the documentation: https://pandas.pydata.org/pandas-docs/stable/user_guide/indexing.html#returning-a-view-versus-a-copy\n",
      "  df_h['DATE_day'] = pd.to_datetime(df_h['DATE'], format = \"%Y-%m-%d\").dt.date\n",
      "<ipython-input-91-f775f1c5a688>:27: FutureWarning: The default value of numeric_only in DataFrameGroupBy.mean is deprecated. In a future version, numeric_only will default to False. Either specify numeric_only or select only columns which should be valid for the function.\n",
      "  df_d = group.mean()\n",
      "<ipython-input-91-f775f1c5a688>:33: SettingWithCopyWarning: \n",
      "A value is trying to be set on a copy of a slice from a DataFrame.\n",
      "Try using .loc[row_indexer,col_indexer] = value instead\n",
      "\n",
      "See the caveats in the documentation: https://pandas.pydata.org/pandas-docs/stable/user_guide/indexing.html#returning-a-view-versus-a-copy\n",
      "  df_h['DATE'] = df_h['DATE_parsed']\n",
      "<ipython-input-91-f775f1c5a688>:34: SettingWithCopyWarning: \n",
      "A value is trying to be set on a copy of a slice from a DataFrame\n",
      "\n",
      "See the caveats in the documentation: https://pandas.pydata.org/pandas-docs/stable/user_guide/indexing.html#returning-a-view-versus-a-copy\n",
      "  df_h.drop(['DATE_parsed','DATE_day'], axis = 1, inplace = True)\n"
     ]
    },
    {
     "name": "stderr",
     "output_type": "stream",
     "text": [
      "<ipython-input-91-f775f1c5a688>:8: DtypeWarning: Columns (17,78) have mixed types. Specify dtype option on import or set low_memory=False.\n",
      "  df = pd.read_csv(csv_file)\n",
      "<ipython-input-91-f775f1c5a688>:15: SettingWithCopyWarning: \n",
      "A value is trying to be set on a copy of a slice from a DataFrame.\n",
      "Try using .loc[row_indexer,col_indexer] = value instead\n",
      "\n",
      "See the caveats in the documentation: https://pandas.pydata.org/pandas-docs/stable/user_guide/indexing.html#returning-a-view-versus-a-copy\n",
      "  df_h['HourlyPrecipitation'] = df_h['HourlyPrecipitation'].apply(delete_str)\n",
      "<ipython-input-91-f775f1c5a688>:17: SettingWithCopyWarning: \n",
      "A value is trying to be set on a copy of a slice from a DataFrame.\n",
      "Try using .loc[row_indexer,col_indexer] = value instead\n",
      "\n",
      "See the caveats in the documentation: https://pandas.pydata.org/pandas-docs/stable/user_guide/indexing.html#returning-a-view-versus-a-copy\n",
      "  df_h['DATE_parsed'] = pd.to_datetime(df_h['DATE'], format = \"%Y-%m-%dT%H:%M:%S\")\n",
      "<ipython-input-91-f775f1c5a688>:20: SettingWithCopyWarning: \n",
      "A value is trying to be set on a copy of a slice from a DataFrame.\n",
      "Try using .loc[row_indexer,col_indexer] = value instead\n",
      "\n",
      "See the caveats in the documentation: https://pandas.pydata.org/pandas-docs/stable/user_guide/indexing.html#returning-a-view-versus-a-copy\n",
      "  df_h['HourlyPrecipitation'] = df_h['HourlyPrecipitation'].astype(float)\n",
      "<ipython-input-91-f775f1c5a688>:22: SettingWithCopyWarning: \n",
      "A value is trying to be set on a copy of a slice from a DataFrame.\n",
      "Try using .loc[row_indexer,col_indexer] = value instead\n",
      "\n",
      "See the caveats in the documentation: https://pandas.pydata.org/pandas-docs/stable/user_guide/indexing.html#returning-a-view-versus-a-copy\n",
      "  df_h['HourlyWindSpeed'] = df_h['HourlyWindSpeed'].fillna(0)\n",
      "<ipython-input-91-f775f1c5a688>:23: SettingWithCopyWarning: \n",
      "A value is trying to be set on a copy of a slice from a DataFrame.\n",
      "Try using .loc[row_indexer,col_indexer] = value instead\n",
      "\n",
      "See the caveats in the documentation: https://pandas.pydata.org/pandas-docs/stable/user_guide/indexing.html#returning-a-view-versus-a-copy\n",
      "  df_h['HourlyPrecipitation'] = df_h['HourlyPrecipitation'].fillna(0)\n",
      "<ipython-input-91-f775f1c5a688>:25: SettingWithCopyWarning: \n",
      "A value is trying to be set on a copy of a slice from a DataFrame.\n",
      "Try using .loc[row_indexer,col_indexer] = value instead\n",
      "\n",
      "See the caveats in the documentation: https://pandas.pydata.org/pandas-docs/stable/user_guide/indexing.html#returning-a-view-versus-a-copy\n",
      "  df_h['DATE_day'] = pd.to_datetime(df_h['DATE'], format = \"%Y-%m-%d\").dt.date\n",
      "<ipython-input-91-f775f1c5a688>:27: FutureWarning: The default value of numeric_only in DataFrameGroupBy.mean is deprecated. In a future version, numeric_only will default to False. Either specify numeric_only or select only columns which should be valid for the function.\n",
      "  df_d = group.mean()\n",
      "<ipython-input-91-f775f1c5a688>:33: SettingWithCopyWarning: \n",
      "A value is trying to be set on a copy of a slice from a DataFrame.\n",
      "Try using .loc[row_indexer,col_indexer] = value instead\n",
      "\n",
      "See the caveats in the documentation: https://pandas.pydata.org/pandas-docs/stable/user_guide/indexing.html#returning-a-view-versus-a-copy\n",
      "  df_h['DATE'] = df_h['DATE_parsed']\n",
      "<ipython-input-91-f775f1c5a688>:34: SettingWithCopyWarning: \n",
      "A value is trying to be set on a copy of a slice from a DataFrame\n",
      "\n",
      "See the caveats in the documentation: https://pandas.pydata.org/pandas-docs/stable/user_guide/indexing.html#returning-a-view-versus-a-copy\n",
      "  df_h.drop(['DATE_parsed','DATE_day'], axis = 1, inplace = True)\n",
      "<ipython-input-92-7a2a41cfcd0f>:4: DtypeWarning: Columns (17,78) have mixed types. Specify dtype option on import or set low_memory=False.\n",
      "  weather_df = pd.read_csv(csv_file)\n",
      "<ipython-input-91-f775f1c5a688>:8: DtypeWarning: Columns (8,9,17,18,78) have mixed types. Specify dtype option on import or set low_memory=False.\n",
      "  df = pd.read_csv(csv_file)\n",
      "<ipython-input-91-f775f1c5a688>:15: SettingWithCopyWarning: \n",
      "A value is trying to be set on a copy of a slice from a DataFrame.\n",
      "Try using .loc[row_indexer,col_indexer] = value instead\n",
      "\n",
      "See the caveats in the documentation: https://pandas.pydata.org/pandas-docs/stable/user_guide/indexing.html#returning-a-view-versus-a-copy\n",
      "  df_h['HourlyPrecipitation'] = df_h['HourlyPrecipitation'].apply(delete_str)\n",
      "<ipython-input-91-f775f1c5a688>:17: SettingWithCopyWarning: \n",
      "A value is trying to be set on a copy of a slice from a DataFrame.\n",
      "Try using .loc[row_indexer,col_indexer] = value instead\n",
      "\n",
      "See the caveats in the documentation: https://pandas.pydata.org/pandas-docs/stable/user_guide/indexing.html#returning-a-view-versus-a-copy\n",
      "  df_h['DATE_parsed'] = pd.to_datetime(df_h['DATE'], format = \"%Y-%m-%dT%H:%M:%S\")\n",
      "<ipython-input-91-f775f1c5a688>:20: SettingWithCopyWarning: \n",
      "A value is trying to be set on a copy of a slice from a DataFrame.\n",
      "Try using .loc[row_indexer,col_indexer] = value instead\n",
      "\n",
      "See the caveats in the documentation: https://pandas.pydata.org/pandas-docs/stable/user_guide/indexing.html#returning-a-view-versus-a-copy\n",
      "  df_h['HourlyPrecipitation'] = df_h['HourlyPrecipitation'].astype(float)\n",
      "<ipython-input-91-f775f1c5a688>:22: SettingWithCopyWarning: \n",
      "A value is trying to be set on a copy of a slice from a DataFrame.\n",
      "Try using .loc[row_indexer,col_indexer] = value instead\n",
      "\n",
      "See the caveats in the documentation: https://pandas.pydata.org/pandas-docs/stable/user_guide/indexing.html#returning-a-view-versus-a-copy\n",
      "  df_h['HourlyWindSpeed'] = df_h['HourlyWindSpeed'].fillna(0)\n",
      "<ipython-input-91-f775f1c5a688>:23: SettingWithCopyWarning: \n",
      "A value is trying to be set on a copy of a slice from a DataFrame.\n",
      "Try using .loc[row_indexer,col_indexer] = value instead\n",
      "\n",
      "See the caveats in the documentation: https://pandas.pydata.org/pandas-docs/stable/user_guide/indexing.html#returning-a-view-versus-a-copy\n",
      "  df_h['HourlyPrecipitation'] = df_h['HourlyPrecipitation'].fillna(0)\n",
      "<ipython-input-91-f775f1c5a688>:25: SettingWithCopyWarning: \n",
      "A value is trying to be set on a copy of a slice from a DataFrame.\n",
      "Try using .loc[row_indexer,col_indexer] = value instead\n",
      "\n",
      "See the caveats in the documentation: https://pandas.pydata.org/pandas-docs/stable/user_guide/indexing.html#returning-a-view-versus-a-copy\n",
      "  df_h['DATE_day'] = pd.to_datetime(df_h['DATE'], format = \"%Y-%m-%d\").dt.date\n",
      "<ipython-input-91-f775f1c5a688>:27: FutureWarning: The default value of numeric_only in DataFrameGroupBy.mean is deprecated. In a future version, numeric_only will default to False. Either specify numeric_only or select only columns which should be valid for the function.\n",
      "  df_d = group.mean()\n",
      "<ipython-input-91-f775f1c5a688>:33: SettingWithCopyWarning: \n",
      "A value is trying to be set on a copy of a slice from a DataFrame.\n",
      "Try using .loc[row_indexer,col_indexer] = value instead\n",
      "\n",
      "See the caveats in the documentation: https://pandas.pydata.org/pandas-docs/stable/user_guide/indexing.html#returning-a-view-versus-a-copy\n",
      "  df_h['DATE'] = df_h['DATE_parsed']\n",
      "<ipython-input-91-f775f1c5a688>:34: SettingWithCopyWarning: \n",
      "A value is trying to be set on a copy of a slice from a DataFrame\n",
      "\n",
      "See the caveats in the documentation: https://pandas.pydata.org/pandas-docs/stable/user_guide/indexing.html#returning-a-view-versus-a-copy\n",
      "  df_h.drop(['DATE_parsed','DATE_day'], axis = 1, inplace = True)\n",
      "<ipython-input-92-7a2a41cfcd0f>:4: DtypeWarning: Columns (8,9,17,18,78) have mixed types. Specify dtype option on import or set low_memory=False.\n",
      "  weather_df = pd.read_csv(csv_file)\n",
      "<ipython-input-91-f775f1c5a688>:8: DtypeWarning: Columns (10,41,78) have mixed types. Specify dtype option on import or set low_memory=False.\n",
      "  df = pd.read_csv(csv_file)\n",
      "<ipython-input-91-f775f1c5a688>:15: SettingWithCopyWarning: \n",
      "A value is trying to be set on a copy of a slice from a DataFrame.\n",
      "Try using .loc[row_indexer,col_indexer] = value instead\n",
      "\n",
      "See the caveats in the documentation: https://pandas.pydata.org/pandas-docs/stable/user_guide/indexing.html#returning-a-view-versus-a-copy\n",
      "  df_h['HourlyPrecipitation'] = df_h['HourlyPrecipitation'].apply(delete_str)\n",
      "<ipython-input-91-f775f1c5a688>:17: SettingWithCopyWarning: \n",
      "A value is trying to be set on a copy of a slice from a DataFrame.\n",
      "Try using .loc[row_indexer,col_indexer] = value instead\n",
      "\n",
      "See the caveats in the documentation: https://pandas.pydata.org/pandas-docs/stable/user_guide/indexing.html#returning-a-view-versus-a-copy\n",
      "  df_h['DATE_parsed'] = pd.to_datetime(df_h['DATE'], format = \"%Y-%m-%dT%H:%M:%S\")\n",
      "<ipython-input-91-f775f1c5a688>:20: SettingWithCopyWarning: \n",
      "A value is trying to be set on a copy of a slice from a DataFrame.\n",
      "Try using .loc[row_indexer,col_indexer] = value instead\n",
      "\n",
      "See the caveats in the documentation: https://pandas.pydata.org/pandas-docs/stable/user_guide/indexing.html#returning-a-view-versus-a-copy\n",
      "  df_h['HourlyPrecipitation'] = df_h['HourlyPrecipitation'].astype(float)\n",
      "<ipython-input-91-f775f1c5a688>:22: SettingWithCopyWarning: \n",
      "A value is trying to be set on a copy of a slice from a DataFrame.\n",
      "Try using .loc[row_indexer,col_indexer] = value instead\n",
      "\n",
      "See the caveats in the documentation: https://pandas.pydata.org/pandas-docs/stable/user_guide/indexing.html#returning-a-view-versus-a-copy\n",
      "  df_h['HourlyWindSpeed'] = df_h['HourlyWindSpeed'].fillna(0)\n",
      "<ipython-input-91-f775f1c5a688>:23: SettingWithCopyWarning: \n",
      "A value is trying to be set on a copy of a slice from a DataFrame.\n",
      "Try using .loc[row_indexer,col_indexer] = value instead\n",
      "\n",
      "See the caveats in the documentation: https://pandas.pydata.org/pandas-docs/stable/user_guide/indexing.html#returning-a-view-versus-a-copy\n",
      "  df_h['HourlyPrecipitation'] = df_h['HourlyPrecipitation'].fillna(0)\n",
      "<ipython-input-91-f775f1c5a688>:25: SettingWithCopyWarning: \n",
      "A value is trying to be set on a copy of a slice from a DataFrame.\n",
      "Try using .loc[row_indexer,col_indexer] = value instead\n",
      "\n",
      "See the caveats in the documentation: https://pandas.pydata.org/pandas-docs/stable/user_guide/indexing.html#returning-a-view-versus-a-copy\n",
      "  df_h['DATE_day'] = pd.to_datetime(df_h['DATE'], format = \"%Y-%m-%d\").dt.date\n",
      "<ipython-input-91-f775f1c5a688>:27: FutureWarning: The default value of numeric_only in DataFrameGroupBy.mean is deprecated. In a future version, numeric_only will default to False. Either specify numeric_only or select only columns which should be valid for the function.\n",
      "  df_d = group.mean()\n",
      "<ipython-input-91-f775f1c5a688>:33: SettingWithCopyWarning: \n",
      "A value is trying to be set on a copy of a slice from a DataFrame.\n",
      "Try using .loc[row_indexer,col_indexer] = value instead\n",
      "\n",
      "See the caveats in the documentation: https://pandas.pydata.org/pandas-docs/stable/user_guide/indexing.html#returning-a-view-versus-a-copy\n",
      "  df_h['DATE'] = df_h['DATE_parsed']\n",
      "<ipython-input-91-f775f1c5a688>:34: SettingWithCopyWarning: \n",
      "A value is trying to be set on a copy of a slice from a DataFrame\n",
      "\n",
      "See the caveats in the documentation: https://pandas.pydata.org/pandas-docs/stable/user_guide/indexing.html#returning-a-view-versus-a-copy\n",
      "  df_h.drop(['DATE_parsed','DATE_day'], axis = 1, inplace = True)\n",
      "<ipython-input-92-7a2a41cfcd0f>:4: DtypeWarning: Columns (10,41,78) have mixed types. Specify dtype option on import or set low_memory=False.\n",
      "  weather_df = pd.read_csv(csv_file)\n"
     ]
    },
    {
     "data": {
      "application/javascript": [
       "\n",
       "            setTimeout(function() {\n",
       "                var nbb_cell_id = 94;\n",
       "                var nbb_unformatted_code = \"#Here we apply the functions to get a list of yearly generated dataframes\\n#Finally we stack the df one on another to get 2012-2015 data\\n#Note that Here is for hourly and daily weather\\nls_09 = Weather_transfer('2009_weather.csv')\\nls_10 = Weather_transfer('2010_weather.csv')\\nls_11 = Weather_transfer('2011_weather.csv')\\nls_12 = Weather_transfer('2012_weather.csv')\\nls_13 = [Weather_transfer('2013_weather.csv')[0], get_daily('2013_weather.csv')]\\nls_14 = [Weather_transfer('2014_weather.csv')[0], get_daily('2014_weather.csv')]\\nls_15 = [Weather_transfer('2015_weather.csv')[0], get_daily('2015_weather.csv')]\\nname_lst = [ls_09, ls_10, ls_11, ls_12, ls_13, ls_14, ls_15]\\nweather_hour = pd.DataFrame()\\nweather_day = pd.DataFrame()\\nfor i in range(7):\\n    weather_hour = pd.concat([weather_hour,name_lst[i][0]], axis = 0)\\n    weather_day = pd.concat([weather_day,name_lst[i][1]], axis = 0)\";\n",
       "                var nbb_formatted_code = \"# Here we apply the functions to get a list of yearly generated dataframes\\n# Finally we stack the df one on another to get 2012-2015 data\\n# Note that Here is for hourly and daily weather\\nls_09 = Weather_transfer(\\\"2009_weather.csv\\\")\\nls_10 = Weather_transfer(\\\"2010_weather.csv\\\")\\nls_11 = Weather_transfer(\\\"2011_weather.csv\\\")\\nls_12 = Weather_transfer(\\\"2012_weather.csv\\\")\\nls_13 = [Weather_transfer(\\\"2013_weather.csv\\\")[0], get_daily(\\\"2013_weather.csv\\\")]\\nls_14 = [Weather_transfer(\\\"2014_weather.csv\\\")[0], get_daily(\\\"2014_weather.csv\\\")]\\nls_15 = [Weather_transfer(\\\"2015_weather.csv\\\")[0], get_daily(\\\"2015_weather.csv\\\")]\\nname_lst = [ls_09, ls_10, ls_11, ls_12, ls_13, ls_14, ls_15]\\nweather_hour = pd.DataFrame()\\nweather_day = pd.DataFrame()\\nfor i in range(7):\\n    weather_hour = pd.concat([weather_hour, name_lst[i][0]], axis=0)\\n    weather_day = pd.concat([weather_day, name_lst[i][1]], axis=0)\";\n",
       "                var nbb_cells = Jupyter.notebook.get_cells();\n",
       "                for (var i = 0; i < nbb_cells.length; ++i) {\n",
       "                    if (nbb_cells[i].input_prompt_number == nbb_cell_id) {\n",
       "                        if (nbb_cells[i].get_text() == nbb_unformatted_code) {\n",
       "                             nbb_cells[i].set_text(nbb_formatted_code);\n",
       "                        }\n",
       "                        break;\n",
       "                    }\n",
       "                }\n",
       "            }, 500);\n",
       "            "
      ],
      "text/plain": [
       "<IPython.core.display.Javascript object>"
      ]
     },
     "metadata": {},
     "output_type": "display_data"
    }
   ],
   "source": [
    "# Here we apply the functions to get a list of yearly generated dataframes\n",
    "# Finally we stack the df one on another to get 2012-2015 data\n",
    "# Note that Here is for hourly and daily weather\n",
    "ls_09 = Weather_transfer(\"2009_weather.csv\")\n",
    "ls_10 = Weather_transfer(\"2010_weather.csv\")\n",
    "ls_11 = Weather_transfer(\"2011_weather.csv\")\n",
    "ls_12 = Weather_transfer(\"2012_weather.csv\")\n",
    "ls_13 = [Weather_transfer(\"2013_weather.csv\")[0], get_daily(\"2013_weather.csv\")]\n",
    "ls_14 = [Weather_transfer(\"2014_weather.csv\")[0], get_daily(\"2014_weather.csv\")]\n",
    "ls_15 = [Weather_transfer(\"2015_weather.csv\")[0], get_daily(\"2015_weather.csv\")]\n",
    "name_lst = [ls_09, ls_10, ls_11, ls_12, ls_13, ls_14, ls_15]\n",
    "weather_hour = pd.DataFrame()\n",
    "weather_day = pd.DataFrame()\n",
    "for i in range(7):\n",
    "    weather_hour = pd.concat([weather_hour, name_lst[i][0]], axis=0)\n",
    "    weather_day = pd.concat([weather_day, name_lst[i][1]], axis=0)"
   ]
  },
  {
   "cell_type": "code",
   "execution_count": 95,
   "id": "5a2eaa13",
   "metadata": {},
   "outputs": [
    {
     "name": "stderr",
     "output_type": "stream",
     "text": [
      "<ipython-input-93-deade00a99a5>:3: DtypeWarning: Columns (9,13) have mixed types. Specify dtype option on import or set low_memory=False.\n",
      "  weather_df_09 = pd.read_csv(csv_file)\n",
      "<ipython-input-93-deade00a99a5>:3: DtypeWarning: Columns (8,9,10,17) have mixed types. Specify dtype option on import or set low_memory=False.\n",
      "  weather_df_09 = pd.read_csv(csv_file)\n",
      "<ipython-input-93-deade00a99a5>:3: DtypeWarning: Columns (10) have mixed types. Specify dtype option on import or set low_memory=False.\n",
      "  weather_df_09 = pd.read_csv(csv_file)\n",
      "<ipython-input-93-deade00a99a5>:3: DtypeWarning: Columns (7,8,9,10,17,18,42,65) have mixed types. Specify dtype option on import or set low_memory=False.\n",
      "  weather_df_09 = pd.read_csv(csv_file)\n",
      "<ipython-input-93-deade00a99a5>:3: DtypeWarning: Columns (17,78) have mixed types. Specify dtype option on import or set low_memory=False.\n",
      "  weather_df_09 = pd.read_csv(csv_file)\n",
      "<ipython-input-93-deade00a99a5>:3: DtypeWarning: Columns (8,9,17,18,78) have mixed types. Specify dtype option on import or set low_memory=False.\n",
      "  weather_df_09 = pd.read_csv(csv_file)\n",
      "<ipython-input-93-deade00a99a5>:3: DtypeWarning: Columns (10,41,78) have mixed types. Specify dtype option on import or set low_memory=False.\n",
      "  weather_df_09 = pd.read_csv(csv_file)\n"
     ]
    },
    {
     "data": {
      "application/javascript": [
       "\n",
       "            setTimeout(function() {\n",
       "                var nbb_cell_id = 95;\n",
       "                var nbb_unformatted_code = \"#Same process as before but different function\\n#Note that Here is only for daily sunset and sunrise\\nsun_09 = get_sun('2009_weather.csv')\\nsun_10 = get_sun('2010_weather.csv')\\nsun_11 = get_sun('2011_weather.csv')\\nsun_12 = get_sun('2012_weather.csv')\\nsun_13 = get_sun('2013_weather.csv')\\nsun_14 = get_sun('2014_weather.csv')\\nsun_15 = get_sun('2015_weather.csv')\\nsun_lst = [sun_09, sun_10, sun_11, sun_12, sun_13, sun_14, sun_15]\\nsun_time = pd.DataFrame()\\nfor i in range(7):\\n    sun_time = pd.concat([sun_time,sun_lst[i]],axis = 0)\";\n",
       "                var nbb_formatted_code = \"# Same process as before but different function\\n# Note that Here is only for daily sunset and sunrise\\nsun_09 = get_sun(\\\"2009_weather.csv\\\")\\nsun_10 = get_sun(\\\"2010_weather.csv\\\")\\nsun_11 = get_sun(\\\"2011_weather.csv\\\")\\nsun_12 = get_sun(\\\"2012_weather.csv\\\")\\nsun_13 = get_sun(\\\"2013_weather.csv\\\")\\nsun_14 = get_sun(\\\"2014_weather.csv\\\")\\nsun_15 = get_sun(\\\"2015_weather.csv\\\")\\nsun_lst = [sun_09, sun_10, sun_11, sun_12, sun_13, sun_14, sun_15]\\nsun_time = pd.DataFrame()\\nfor i in range(7):\\n    sun_time = pd.concat([sun_time, sun_lst[i]], axis=0)\";\n",
       "                var nbb_cells = Jupyter.notebook.get_cells();\n",
       "                for (var i = 0; i < nbb_cells.length; ++i) {\n",
       "                    if (nbb_cells[i].input_prompt_number == nbb_cell_id) {\n",
       "                        if (nbb_cells[i].get_text() == nbb_unformatted_code) {\n",
       "                             nbb_cells[i].set_text(nbb_formatted_code);\n",
       "                        }\n",
       "                        break;\n",
       "                    }\n",
       "                }\n",
       "            }, 500);\n",
       "            "
      ],
      "text/plain": [
       "<IPython.core.display.Javascript object>"
      ]
     },
     "metadata": {},
     "output_type": "display_data"
    }
   ],
   "source": [
    "# Same process as before but different function\n",
    "# Note that Here is only for daily sunset and sunrise\n",
    "sun_09 = get_sun(\"2009_weather.csv\")\n",
    "sun_10 = get_sun(\"2010_weather.csv\")\n",
    "sun_11 = get_sun(\"2011_weather.csv\")\n",
    "sun_12 = get_sun(\"2012_weather.csv\")\n",
    "sun_13 = get_sun(\"2013_weather.csv\")\n",
    "sun_14 = get_sun(\"2014_weather.csv\")\n",
    "sun_15 = get_sun(\"2015_weather.csv\")\n",
    "sun_lst = [sun_09, sun_10, sun_11, sun_12, sun_13, sun_14, sun_15]\n",
    "sun_time = pd.DataFrame()\n",
    "for i in range(7):\n",
    "    sun_time = pd.concat([sun_time, sun_lst[i]], axis=0)"
   ]
  },
  {
   "cell_type": "code",
   "execution_count": 96,
   "id": "bd0569fb",
   "metadata": {},
   "outputs": [
    {
     "data": {
      "application/javascript": [
       "\n",
       "            setTimeout(function() {\n",
       "                var nbb_cell_id = 96;\n",
       "                var nbb_unformatted_code = \"weather_hour = reset_drop(weather_hour)\\nweather_day = reset_drop(weather_day)\\nsun_time = reset_drop(sun_time)\";\n",
       "                var nbb_formatted_code = \"weather_hour = reset_drop(weather_hour)\\nweather_day = reset_drop(weather_day)\\nsun_time = reset_drop(sun_time)\";\n",
       "                var nbb_cells = Jupyter.notebook.get_cells();\n",
       "                for (var i = 0; i < nbb_cells.length; ++i) {\n",
       "                    if (nbb_cells[i].input_prompt_number == nbb_cell_id) {\n",
       "                        if (nbb_cells[i].get_text() == nbb_unformatted_code) {\n",
       "                             nbb_cells[i].set_text(nbb_formatted_code);\n",
       "                        }\n",
       "                        break;\n",
       "                    }\n",
       "                }\n",
       "            }, 500);\n",
       "            "
      ],
      "text/plain": [
       "<IPython.core.display.Javascript object>"
      ]
     },
     "metadata": {},
     "output_type": "display_data"
    }
   ],
   "source": [
    "weather_hour = reset_drop(weather_hour)\n",
    "weather_day = reset_drop(weather_day)\n",
    "sun_time = reset_drop(sun_time)"
   ]
  },
  {
   "cell_type": "markdown",
   "id": "6de8f43c",
   "metadata": {},
   "source": [
    "## Part2 Create SQL database\n",
    "create a database conytaining 5 tables (4 required table and 1 table for sunset and sunrise data)"
   ]
  },
  {
   "cell_type": "code",
   "execution_count": 97,
   "id": "aa205156",
   "metadata": {},
   "outputs": [
    {
     "data": {
      "application/javascript": [
       "\n",
       "            setTimeout(function() {\n",
       "                var nbb_cell_id = 97;\n",
       "                var nbb_unformatted_code = \"DATABASE_URL = \\\"sqlite:///project.db\\\"\\nDATABASE_SCHEMA_FILE = \\\"schema.sql\\\"\\nQUERY_DIRECTORY = \\\"queries\\\"\\nengine = db.create_engine(DATABASE_URL)\";\n",
       "                var nbb_formatted_code = \"DATABASE_URL = \\\"sqlite:///project.db\\\"\\nDATABASE_SCHEMA_FILE = \\\"schema.sql\\\"\\nQUERY_DIRECTORY = \\\"queries\\\"\\nengine = db.create_engine(DATABASE_URL)\";\n",
       "                var nbb_cells = Jupyter.notebook.get_cells();\n",
       "                for (var i = 0; i < nbb_cells.length; ++i) {\n",
       "                    if (nbb_cells[i].input_prompt_number == nbb_cell_id) {\n",
       "                        if (nbb_cells[i].get_text() == nbb_unformatted_code) {\n",
       "                             nbb_cells[i].set_text(nbb_formatted_code);\n",
       "                        }\n",
       "                        break;\n",
       "                    }\n",
       "                }\n",
       "            }, 500);\n",
       "            "
      ],
      "text/plain": [
       "<IPython.core.display.Javascript object>"
      ]
     },
     "metadata": {},
     "output_type": "display_data"
    }
   ],
   "source": [
    "DATABASE_URL = \"sqlite:///project.db\"\n",
    "DATABASE_SCHEMA_FILE = \"schema.sql\"\n",
    "QUERY_DIRECTORY = \"queries\"\n",
    "engine = db.create_engine(DATABASE_URL)"
   ]
  },
  {
   "cell_type": "code",
   "execution_count": 98,
   "id": "da9d5513",
   "metadata": {},
   "outputs": [
    {
     "data": {
      "application/javascript": [
       "\n",
       "            setTimeout(function() {\n",
       "                var nbb_cell_id = 98;\n",
       "                var nbb_unformatted_code = \"COMMAND = [\\\"\\\"\\\"\\nDROP TABLE IF EXISTS taxi_trips\\n\\\"\\\"\\\",\\\"\\\"\\\"\\nDROP TABLE IF EXISTS uber_trips\\\"\\\"\\\",\\n\\\"\\\"\\\"\\nDROP TABLE IF EXISTS hourly_weather\\\"\\\"\\\",\\n\\\"\\\"\\\"\\nDROP TABLE IF EXISTS daily_weater\\n\\\"\\\"\\\"]\\nfor i in COMMAND:\\n    engine.execute(i)\";\n",
       "                var nbb_formatted_code = \"COMMAND = [\\n    \\\"\\\"\\\"\\nDROP TABLE IF EXISTS taxi_trips\\n\\\"\\\"\\\",\\n    \\\"\\\"\\\"\\nDROP TABLE IF EXISTS uber_trips\\\"\\\"\\\",\\n    \\\"\\\"\\\"\\nDROP TABLE IF EXISTS hourly_weather\\\"\\\"\\\",\\n    \\\"\\\"\\\"\\nDROP TABLE IF EXISTS daily_weater\\n\\\"\\\"\\\",\\n]\\nfor i in COMMAND:\\n    engine.execute(i)\";\n",
       "                var nbb_cells = Jupyter.notebook.get_cells();\n",
       "                for (var i = 0; i < nbb_cells.length; ++i) {\n",
       "                    if (nbb_cells[i].input_prompt_number == nbb_cell_id) {\n",
       "                        if (nbb_cells[i].get_text() == nbb_unformatted_code) {\n",
       "                             nbb_cells[i].set_text(nbb_formatted_code);\n",
       "                        }\n",
       "                        break;\n",
       "                    }\n",
       "                }\n",
       "            }, 500);\n",
       "            "
      ],
      "text/plain": [
       "<IPython.core.display.Javascript object>"
      ]
     },
     "metadata": {},
     "output_type": "display_data"
    }
   ],
   "source": [
    "COMMAND = [\n",
    "    \"\"\"\n",
    "DROP TABLE IF EXISTS taxi_trips\n",
    "\"\"\",\n",
    "    \"\"\"\n",
    "DROP TABLE IF EXISTS uber_trips\"\"\",\n",
    "    \"\"\"\n",
    "DROP TABLE IF EXISTS hourly_weather\"\"\",\n",
    "    \"\"\"\n",
    "DROP TABLE IF EXISTS daily_weater\n",
    "\"\"\",\n",
    "]\n",
    "for i in COMMAND:\n",
    "    engine.execute(i)"
   ]
  },
  {
   "cell_type": "code",
   "execution_count": 99,
   "id": "5bd7c8be",
   "metadata": {},
   "outputs": [
    {
     "data": {
      "application/javascript": [
       "\n",
       "            setTimeout(function() {\n",
       "                var nbb_cell_id = 99;\n",
       "                var nbb_unformatted_code = \"#Create our 5 tables\\nHOURLY_WEATHER_SCHEMA = \\\"\\\"\\\"\\nCREATE TABLE IF NO EXITS hourly_weather\\n(\\n    id INTERGER PRIMARY KEY,\\n    DATE DATE,\\n    HourlyPrecipitation FLOAT,\\n    HourlyWindSpeed FLOAT\\n)\\n\\\"\\\"\\\"\\n\\nDAILY_WEATHER_SCHEMA = \\\"\\\"\\\"\\nCREATE TABLE IF NO EXITS daily_weather\\n(\\n    id INTERGER PRIMARY KEY,\\n    DATE_day DATE,\\n    DailyPrecipitation FLOAT,\\n    DailyAverageWindSpeed FLOAT,\\n)\\n\\\"\\\"\\\"\\n\\nTAXI_TRIPS_SCHEMA = \\\"\\\"\\\"\\nCREATE TABLE IF NO EXITS taxi_trips\\n(\\n    id INTERGER PRIMARY KEY,\\n    pickup_datetime DATETIME,\\n    tip_amount FLOAT,\\n    pickup_longitude FLOAT,\\n    pickup_latitude FLOAT,\\n    dropoff_longitude FLOAT,\\n    dropoff_latitude FLOAT,\\n    distance FLOAT\\n)\\n\\\"\\\"\\\"\\n\\nUBER_TRIPS_SCHEMA = \\\"\\\"\\\"\\nCREATE TABLE IF NO EXITS uber_trips\\n(\\n    id INTERGER PRIMARY KEY,\\n    pickup_datetime FLOAT,\\n    pickup_longitude FLOAT,\\n    pickup_latitude FLOAT,\\n    dropoff_longitude FLOAT,\\n    dropoff_latitude FLOAT,\\n    distance FLOAT\\n)\\n\\\"\\\"\\\"\\n\\nSUN_TIME_SCHEMA = \\\"\\\"\\\"\\nCREATE TABLE IF NO EXITS sun_time\\n(\\n    id INTERGER PRIMARY KEY,\\n    Sunrise_Time DATETIME,\\n    Sunset_Time DATETIME\\n)\\n\\\"\\\"\\\"\";\n",
       "                var nbb_formatted_code = \"# Create our 5 tables\\nHOURLY_WEATHER_SCHEMA = \\\"\\\"\\\"\\nCREATE TABLE IF NO EXITS hourly_weather\\n(\\n    id INTERGER PRIMARY KEY,\\n    DATE DATE,\\n    HourlyPrecipitation FLOAT,\\n    HourlyWindSpeed FLOAT\\n)\\n\\\"\\\"\\\"\\n\\nDAILY_WEATHER_SCHEMA = \\\"\\\"\\\"\\nCREATE TABLE IF NO EXITS daily_weather\\n(\\n    id INTERGER PRIMARY KEY,\\n    DATE_day DATE,\\n    DailyPrecipitation FLOAT,\\n    DailyAverageWindSpeed FLOAT,\\n)\\n\\\"\\\"\\\"\\n\\nTAXI_TRIPS_SCHEMA = \\\"\\\"\\\"\\nCREATE TABLE IF NO EXITS taxi_trips\\n(\\n    id INTERGER PRIMARY KEY,\\n    pickup_datetime DATETIME,\\n    tip_amount FLOAT,\\n    pickup_longitude FLOAT,\\n    pickup_latitude FLOAT,\\n    dropoff_longitude FLOAT,\\n    dropoff_latitude FLOAT,\\n    distance FLOAT\\n)\\n\\\"\\\"\\\"\\n\\nUBER_TRIPS_SCHEMA = \\\"\\\"\\\"\\nCREATE TABLE IF NO EXITS uber_trips\\n(\\n    id INTERGER PRIMARY KEY,\\n    pickup_datetime FLOAT,\\n    pickup_longitude FLOAT,\\n    pickup_latitude FLOAT,\\n    dropoff_longitude FLOAT,\\n    dropoff_latitude FLOAT,\\n    distance FLOAT\\n)\\n\\\"\\\"\\\"\\n\\nSUN_TIME_SCHEMA = \\\"\\\"\\\"\\nCREATE TABLE IF NO EXITS sun_time\\n(\\n    id INTERGER PRIMARY KEY,\\n    Sunrise_Time DATETIME,\\n    Sunset_Time DATETIME\\n)\\n\\\"\\\"\\\"\";\n",
       "                var nbb_cells = Jupyter.notebook.get_cells();\n",
       "                for (var i = 0; i < nbb_cells.length; ++i) {\n",
       "                    if (nbb_cells[i].input_prompt_number == nbb_cell_id) {\n",
       "                        if (nbb_cells[i].get_text() == nbb_unformatted_code) {\n",
       "                             nbb_cells[i].set_text(nbb_formatted_code);\n",
       "                        }\n",
       "                        break;\n",
       "                    }\n",
       "                }\n",
       "            }, 500);\n",
       "            "
      ],
      "text/plain": [
       "<IPython.core.display.Javascript object>"
      ]
     },
     "metadata": {},
     "output_type": "display_data"
    }
   ],
   "source": [
    "# Create our 5 tables\n",
    "HOURLY_WEATHER_SCHEMA = \"\"\"\n",
    "CREATE TABLE IF NO EXITS hourly_weather\n",
    "(\n",
    "    id INTERGER PRIMARY KEY,\n",
    "    DATE DATE,\n",
    "    HourlyPrecipitation FLOAT,\n",
    "    HourlyWindSpeed FLOAT\n",
    ")\n",
    "\"\"\"\n",
    "\n",
    "DAILY_WEATHER_SCHEMA = \"\"\"\n",
    "CREATE TABLE IF NO EXITS daily_weather\n",
    "(\n",
    "    id INTERGER PRIMARY KEY,\n",
    "    DATE_day DATE,\n",
    "    DailyPrecipitation FLOAT,\n",
    "    DailyAverageWindSpeed FLOAT,\n",
    ")\n",
    "\"\"\"\n",
    "\n",
    "TAXI_TRIPS_SCHEMA = \"\"\"\n",
    "CREATE TABLE IF NO EXITS taxi_trips\n",
    "(\n",
    "    id INTERGER PRIMARY KEY,\n",
    "    pickup_datetime DATETIME,\n",
    "    tip_amount FLOAT,\n",
    "    pickup_longitude FLOAT,\n",
    "    pickup_latitude FLOAT,\n",
    "    dropoff_longitude FLOAT,\n",
    "    dropoff_latitude FLOAT,\n",
    "    distance FLOAT\n",
    ")\n",
    "\"\"\"\n",
    "\n",
    "UBER_TRIPS_SCHEMA = \"\"\"\n",
    "CREATE TABLE IF NO EXITS uber_trips\n",
    "(\n",
    "    id INTERGER PRIMARY KEY,\n",
    "    pickup_datetime FLOAT,\n",
    "    pickup_longitude FLOAT,\n",
    "    pickup_latitude FLOAT,\n",
    "    dropoff_longitude FLOAT,\n",
    "    dropoff_latitude FLOAT,\n",
    "    distance FLOAT\n",
    ")\n",
    "\"\"\"\n",
    "\n",
    "SUN_TIME_SCHEMA = \"\"\"\n",
    "CREATE TABLE IF NO EXITS sun_time\n",
    "(\n",
    "    id INTERGER PRIMARY KEY,\n",
    "    Sunrise_Time DATETIME,\n",
    "    Sunset_Time DATETIME\n",
    ")\n",
    "\"\"\""
   ]
  },
  {
   "cell_type": "code",
   "execution_count": 100,
   "id": "80006089",
   "metadata": {},
   "outputs": [
    {
     "data": {
      "application/javascript": [
       "\n",
       "            setTimeout(function() {\n",
       "                var nbb_cell_id = 100;\n",
       "                var nbb_unformatted_code = \"#Create the required schema.sql file\\nwith open(DATABASE_SCHEMA_FILE, \\\"w\\\") as f:\\n    f.write(HOURLY_WEATHER_SCHEMA)\\n    f.write(DAILY_WEATHER_SCHEMA)\\n    f.write(TAXI_TRIPS_SCHEMA)\\n    f.write(UBER_TRIPS_SCHEMA)\\n    f.write(SUN_TIME_SCHEMA)\";\n",
       "                var nbb_formatted_code = \"# Create the required schema.sql file\\nwith open(DATABASE_SCHEMA_FILE, \\\"w\\\") as f:\\n    f.write(HOURLY_WEATHER_SCHEMA)\\n    f.write(DAILY_WEATHER_SCHEMA)\\n    f.write(TAXI_TRIPS_SCHEMA)\\n    f.write(UBER_TRIPS_SCHEMA)\\n    f.write(SUN_TIME_SCHEMA)\";\n",
       "                var nbb_cells = Jupyter.notebook.get_cells();\n",
       "                for (var i = 0; i < nbb_cells.length; ++i) {\n",
       "                    if (nbb_cells[i].input_prompt_number == nbb_cell_id) {\n",
       "                        if (nbb_cells[i].get_text() == nbb_unformatted_code) {\n",
       "                             nbb_cells[i].set_text(nbb_formatted_code);\n",
       "                        }\n",
       "                        break;\n",
       "                    }\n",
       "                }\n",
       "            }, 500);\n",
       "            "
      ],
      "text/plain": [
       "<IPython.core.display.Javascript object>"
      ]
     },
     "metadata": {},
     "output_type": "display_data"
    }
   ],
   "source": [
    "# Create the required schema.sql file\n",
    "with open(DATABASE_SCHEMA_FILE, \"w\") as f:\n",
    "    f.write(HOURLY_WEATHER_SCHEMA)\n",
    "    f.write(DAILY_WEATHER_SCHEMA)\n",
    "    f.write(TAXI_TRIPS_SCHEMA)\n",
    "    f.write(UBER_TRIPS_SCHEMA)\n",
    "    f.write(SUN_TIME_SCHEMA)"
   ]
  },
  {
   "cell_type": "code",
   "execution_count": 101,
   "id": "d537ec86",
   "metadata": {},
   "outputs": [
    {
     "data": {
      "application/javascript": [
       "\n",
       "            setTimeout(function() {\n",
       "                var nbb_cell_id = 101;\n",
       "                var nbb_unformatted_code = \"# Create the tables with the schema files\\nwith engine.connect() as connection:\\n    pass\";\n",
       "                var nbb_formatted_code = \"# Create the tables with the schema files\\nwith engine.connect() as connection:\\n    pass\";\n",
       "                var nbb_cells = Jupyter.notebook.get_cells();\n",
       "                for (var i = 0; i < nbb_cells.length; ++i) {\n",
       "                    if (nbb_cells[i].input_prompt_number == nbb_cell_id) {\n",
       "                        if (nbb_cells[i].get_text() == nbb_unformatted_code) {\n",
       "                             nbb_cells[i].set_text(nbb_formatted_code);\n",
       "                        }\n",
       "                        break;\n",
       "                    }\n",
       "                }\n",
       "            }, 500);\n",
       "            "
      ],
      "text/plain": [
       "<IPython.core.display.Javascript object>"
      ]
     },
     "metadata": {},
     "output_type": "display_data"
    }
   ],
   "source": [
    "# Create the tables with the schema files\n",
    "with engine.connect() as connection:\n",
    "    pass"
   ]
  },
  {
   "cell_type": "markdown",
   "id": "231358d8",
   "metadata": {},
   "source": [
    "## Add data into database\n",
    "add cleaned data to the table we create above"
   ]
  },
  {
   "cell_type": "code",
   "execution_count": 102,
   "id": "b1f2a173",
   "metadata": {},
   "outputs": [
    {
     "data": {
      "application/javascript": [
       "\n",
       "            setTimeout(function() {\n",
       "                var nbb_cell_id = 102;\n",
       "                var nbb_unformatted_code = \"def write_dataframes_to_table(table_to_df_dict):\\n    add = list(table_to_df_dict.items())\\n    for i in range(len(add)):\\n        add[i][1].to_sql(add[i][0],engine)\\n        print('added', add[i][0])\";\n",
       "                var nbb_formatted_code = \"def write_dataframes_to_table(table_to_df_dict):\\n    add = list(table_to_df_dict.items())\\n    for i in range(len(add)):\\n        add[i][1].to_sql(add[i][0], engine)\\n        print(\\\"added\\\", add[i][0])\";\n",
       "                var nbb_cells = Jupyter.notebook.get_cells();\n",
       "                for (var i = 0; i < nbb_cells.length; ++i) {\n",
       "                    if (nbb_cells[i].input_prompt_number == nbb_cell_id) {\n",
       "                        if (nbb_cells[i].get_text() == nbb_unformatted_code) {\n",
       "                             nbb_cells[i].set_text(nbb_formatted_code);\n",
       "                        }\n",
       "                        break;\n",
       "                    }\n",
       "                }\n",
       "            }, 500);\n",
       "            "
      ],
      "text/plain": [
       "<IPython.core.display.Javascript object>"
      ]
     },
     "metadata": {},
     "output_type": "display_data"
    }
   ],
   "source": [
    "def write_dataframes_to_table(table_to_df_dict):\n",
    "    add = list(table_to_df_dict.items())\n",
    "    for i in range(len(add)):\n",
    "        add[i][1].to_sql(add[i][0], engine)\n",
    "        print(\"added\", add[i][0])"
   ]
  },
  {
   "cell_type": "code",
   "execution_count": 103,
   "id": "45d1e5a7",
   "metadata": {},
   "outputs": [
    {
     "data": {
      "application/javascript": [
       "\n",
       "            setTimeout(function() {\n",
       "                var nbb_cell_id = 103;\n",
       "                var nbb_unformatted_code = \"map_table_name_to_dataframe = {\\n    \\\"taxi_trips\\\": yellow_taxi,\\n    \\\"uber_trips\\\": uber_data,\\n    \\\"hourly_weather\\\": weather_hour,\\n    \\\"daily_weather\\\": weather_day,\\n    \\\"sun_time\\\":sun_time,\\n}\";\n",
       "                var nbb_formatted_code = \"map_table_name_to_dataframe = {\\n    \\\"taxi_trips\\\": yellow_taxi,\\n    \\\"uber_trips\\\": uber_data,\\n    \\\"hourly_weather\\\": weather_hour,\\n    \\\"daily_weather\\\": weather_day,\\n    \\\"sun_time\\\": sun_time,\\n}\";\n",
       "                var nbb_cells = Jupyter.notebook.get_cells();\n",
       "                for (var i = 0; i < nbb_cells.length; ++i) {\n",
       "                    if (nbb_cells[i].input_prompt_number == nbb_cell_id) {\n",
       "                        if (nbb_cells[i].get_text() == nbb_unformatted_code) {\n",
       "                             nbb_cells[i].set_text(nbb_formatted_code);\n",
       "                        }\n",
       "                        break;\n",
       "                    }\n",
       "                }\n",
       "            }, 500);\n",
       "            "
      ],
      "text/plain": [
       "<IPython.core.display.Javascript object>"
      ]
     },
     "metadata": {},
     "output_type": "display_data"
    }
   ],
   "source": [
    "map_table_name_to_dataframe = {\n",
    "    \"taxi_trips\": yellow_taxi,\n",
    "    \"uber_trips\": uber_data,\n",
    "    \"hourly_weather\": weather_hour,\n",
    "    \"daily_weather\": weather_day,\n",
    "    \"sun_time\": sun_time,\n",
    "}"
   ]
  },
  {
   "cell_type": "code",
   "execution_count": 104,
   "id": "9934c088",
   "metadata": {},
   "outputs": [
    {
     "name": "stdout",
     "output_type": "stream",
     "text": [
      "added taxi_trips\n",
      "added uber_trips\n",
      "added hourly_weather\n",
      "added daily_weather\n",
      "added sun_time\n"
     ]
    },
    {
     "data": {
      "application/javascript": [
       "\n",
       "            setTimeout(function() {\n",
       "                var nbb_cell_id = 104;\n",
       "                var nbb_unformatted_code = \"write_dataframes_to_table(map_table_name_to_dataframe)\";\n",
       "                var nbb_formatted_code = \"write_dataframes_to_table(map_table_name_to_dataframe)\";\n",
       "                var nbb_cells = Jupyter.notebook.get_cells();\n",
       "                for (var i = 0; i < nbb_cells.length; ++i) {\n",
       "                    if (nbb_cells[i].input_prompt_number == nbb_cell_id) {\n",
       "                        if (nbb_cells[i].get_text() == nbb_unformatted_code) {\n",
       "                             nbb_cells[i].set_text(nbb_formatted_code);\n",
       "                        }\n",
       "                        break;\n",
       "                    }\n",
       "                }\n",
       "            }, 500);\n",
       "            "
      ],
      "text/plain": [
       "<IPython.core.display.Javascript object>"
      ]
     },
     "metadata": {},
     "output_type": "display_data"
    }
   ],
   "source": [
    "write_dataframes_to_table(map_table_name_to_dataframe)"
   ]
  },
  {
   "cell_type": "code",
   "execution_count": 110,
   "id": "55c4c8e7",
   "metadata": {},
   "outputs": [
    {
     "data": {
      "text/html": [
       "<div>\n",
       "<style scoped>\n",
       "    .dataframe tbody tr th:only-of-type {\n",
       "        vertical-align: middle;\n",
       "    }\n",
       "\n",
       "    .dataframe tbody tr th {\n",
       "        vertical-align: top;\n",
       "    }\n",
       "\n",
       "    .dataframe thead th {\n",
       "        text-align: right;\n",
       "    }\n",
       "</style>\n",
       "<table border=\"1\" class=\"dataframe\">\n",
       "  <thead>\n",
       "    <tr style=\"text-align: right;\">\n",
       "      <th></th>\n",
       "      <th>index</th>\n",
       "      <th>DATE_day</th>\n",
       "      <th>DailyPrecipitation</th>\n",
       "      <th>DailyAverageWindSpeed</th>\n",
       "    </tr>\n",
       "  </thead>\n",
       "  <tbody>\n",
       "    <tr>\n",
       "      <th>0</th>\n",
       "      <td>0</td>\n",
       "      <td>2009-01-01</td>\n",
       "      <td>0.000000</td>\n",
       "      <td>11.041667</td>\n",
       "    </tr>\n",
       "    <tr>\n",
       "      <th>1</th>\n",
       "      <td>1</td>\n",
       "      <td>2009-01-02</td>\n",
       "      <td>0.000029</td>\n",
       "      <td>6.806452</td>\n",
       "    </tr>\n",
       "    <tr>\n",
       "      <th>2</th>\n",
       "      <td>2</td>\n",
       "      <td>2009-01-03</td>\n",
       "      <td>0.000004</td>\n",
       "      <td>9.875000</td>\n",
       "    </tr>\n",
       "    <tr>\n",
       "      <th>3</th>\n",
       "      <td>3</td>\n",
       "      <td>2009-01-04</td>\n",
       "      <td>0.000000</td>\n",
       "      <td>7.370370</td>\n",
       "    </tr>\n",
       "    <tr>\n",
       "      <th>4</th>\n",
       "      <td>4</td>\n",
       "      <td>2009-01-05</td>\n",
       "      <td>0.000004</td>\n",
       "      <td>6.925926</td>\n",
       "    </tr>\n",
       "  </tbody>\n",
       "</table>\n",
       "</div>"
      ],
      "text/plain": [
       "   index   DATE_day  DailyPrecipitation  DailyAverageWindSpeed\n",
       "0      0 2009-01-01            0.000000              11.041667\n",
       "1      1 2009-01-02            0.000029               6.806452\n",
       "2      2 2009-01-03            0.000004               9.875000\n",
       "3      3 2009-01-04            0.000000               7.370370\n",
       "4      4 2009-01-05            0.000004               6.925926"
      ]
     },
     "execution_count": 110,
     "metadata": {},
     "output_type": "execute_result"
    },
    {
     "data": {
      "application/javascript": [
       "\n",
       "            setTimeout(function() {\n",
       "                var nbb_cell_id = 110;\n",
       "                var nbb_unformatted_code = \"# check the data\\npd.read_sql(\\\"daily_weather\\\", engine).head()\";\n",
       "                var nbb_formatted_code = \"# check the data\\npd.read_sql(\\\"daily_weather\\\", engine).head()\";\n",
       "                var nbb_cells = Jupyter.notebook.get_cells();\n",
       "                for (var i = 0; i < nbb_cells.length; ++i) {\n",
       "                    if (nbb_cells[i].input_prompt_number == nbb_cell_id) {\n",
       "                        if (nbb_cells[i].get_text() == nbb_unformatted_code) {\n",
       "                             nbb_cells[i].set_text(nbb_formatted_code);\n",
       "                        }\n",
       "                        break;\n",
       "                    }\n",
       "                }\n",
       "            }, 500);\n",
       "            "
      ],
      "text/plain": [
       "<IPython.core.display.Javascript object>"
      ]
     },
     "metadata": {},
     "output_type": "display_data"
    }
   ],
   "source": [
    "# check the data\n",
    "pd.read_sql(\"daily_weather\", engine).head()"
   ]
  },
  {
   "cell_type": "code",
   "execution_count": 109,
   "id": "899351c8",
   "metadata": {},
   "outputs": [
    {
     "data": {
      "text/html": [
       "<div>\n",
       "<style scoped>\n",
       "    .dataframe tbody tr th:only-of-type {\n",
       "        vertical-align: middle;\n",
       "    }\n",
       "\n",
       "    .dataframe tbody tr th {\n",
       "        vertical-align: top;\n",
       "    }\n",
       "\n",
       "    .dataframe thead th {\n",
       "        text-align: right;\n",
       "    }\n",
       "</style>\n",
       "<table border=\"1\" class=\"dataframe\">\n",
       "  <thead>\n",
       "    <tr style=\"text-align: right;\">\n",
       "      <th></th>\n",
       "      <th>index</th>\n",
       "      <th>pickup_datetime</th>\n",
       "      <th>tip_amount</th>\n",
       "      <th>pickup_longitude</th>\n",
       "      <th>pickup_latitude</th>\n",
       "      <th>dropoff_longitude</th>\n",
       "      <th>dropoff_latitude</th>\n",
       "      <th>distance</th>\n",
       "    </tr>\n",
       "  </thead>\n",
       "  <tbody>\n",
       "    <tr>\n",
       "      <th>0</th>\n",
       "      <td>0</td>\n",
       "      <td>2015-07-24 13:15:37</td>\n",
       "      <td>1.75</td>\n",
       "      <td>-74.016079</td>\n",
       "      <td>40.712038</td>\n",
       "      <td>-74.007880</td>\n",
       "      <td>40.717772</td>\n",
       "      <td>0.941031</td>\n",
       "    </tr>\n",
       "    <tr>\n",
       "      <th>1</th>\n",
       "      <td>1</td>\n",
       "      <td>2015-10-26 08:09:29</td>\n",
       "      <td>1.76</td>\n",
       "      <td>-73.989844</td>\n",
       "      <td>40.762252</td>\n",
       "      <td>-73.972356</td>\n",
       "      <td>40.756687</td>\n",
       "      <td>1.600848</td>\n",
       "    </tr>\n",
       "    <tr>\n",
       "      <th>2</th>\n",
       "      <td>2</td>\n",
       "      <td>2015-03-09 20:51:37</td>\n",
       "      <td>2.26</td>\n",
       "      <td>-73.988786</td>\n",
       "      <td>40.753512</td>\n",
       "      <td>-73.987645</td>\n",
       "      <td>40.775965</td>\n",
       "      <td>2.495198</td>\n",
       "    </tr>\n",
       "    <tr>\n",
       "      <th>3</th>\n",
       "      <td>3</td>\n",
       "      <td>2015-03-21 15:27:02</td>\n",
       "      <td>4.89</td>\n",
       "      <td>-73.940772</td>\n",
       "      <td>40.818257</td>\n",
       "      <td>-73.965553</td>\n",
       "      <td>40.782478</td>\n",
       "      <td>4.490106</td>\n",
       "    </tr>\n",
       "    <tr>\n",
       "      <th>4</th>\n",
       "      <td>4</td>\n",
       "      <td>2015-10-02 09:54:44</td>\n",
       "      <td>2.95</td>\n",
       "      <td>-73.992437</td>\n",
       "      <td>40.748497</td>\n",
       "      <td>-73.997380</td>\n",
       "      <td>40.728340</td>\n",
       "      <td>2.276986</td>\n",
       "    </tr>\n",
       "  </tbody>\n",
       "</table>\n",
       "</div>"
      ],
      "text/plain": [
       "   index     pickup_datetime  tip_amount  pickup_longitude  pickup_latitude  \\\n",
       "0      0 2015-07-24 13:15:37        1.75        -74.016079        40.712038   \n",
       "1      1 2015-10-26 08:09:29        1.76        -73.989844        40.762252   \n",
       "2      2 2015-03-09 20:51:37        2.26        -73.988786        40.753512   \n",
       "3      3 2015-03-21 15:27:02        4.89        -73.940772        40.818257   \n",
       "4      4 2015-10-02 09:54:44        2.95        -73.992437        40.748497   \n",
       "\n",
       "   dropoff_longitude  dropoff_latitude  distance  \n",
       "0         -74.007880         40.717772  0.941031  \n",
       "1         -73.972356         40.756687  1.600848  \n",
       "2         -73.987645         40.775965  2.495198  \n",
       "3         -73.965553         40.782478  4.490106  \n",
       "4         -73.997380         40.728340  2.276986  "
      ]
     },
     "execution_count": 109,
     "metadata": {},
     "output_type": "execute_result"
    },
    {
     "data": {
      "application/javascript": [
       "\n",
       "            setTimeout(function() {\n",
       "                var nbb_cell_id = 109;\n",
       "                var nbb_unformatted_code = \"pd.read_sql(\\\"taxi_trips\\\", engine).head()\";\n",
       "                var nbb_formatted_code = \"pd.read_sql(\\\"taxi_trips\\\", engine).head()\";\n",
       "                var nbb_cells = Jupyter.notebook.get_cells();\n",
       "                for (var i = 0; i < nbb_cells.length; ++i) {\n",
       "                    if (nbb_cells[i].input_prompt_number == nbb_cell_id) {\n",
       "                        if (nbb_cells[i].get_text() == nbb_unformatted_code) {\n",
       "                             nbb_cells[i].set_text(nbb_formatted_code);\n",
       "                        }\n",
       "                        break;\n",
       "                    }\n",
       "                }\n",
       "            }, 500);\n",
       "            "
      ],
      "text/plain": [
       "<IPython.core.display.Javascript object>"
      ]
     },
     "metadata": {},
     "output_type": "display_data"
    }
   ],
   "source": [
    "pd.read_sql(\"taxi_trips\", engine).head()"
   ]
  },
  {
   "cell_type": "markdown",
   "id": "fdd8b7af",
   "metadata": {},
   "source": [
    "## Part3 Understanding the Data"
   ]
  },
  {
   "cell_type": "code",
   "execution_count": 151,
   "id": "01d50c9c",
   "metadata": {},
   "outputs": [
    {
     "data": {
      "application/javascript": [
       "\n",
       "            setTimeout(function() {\n",
       "                var nbb_cell_id = 151;\n",
       "                var nbb_unformatted_code = \"def write_query_to_file(query, outfile):\\n    QUERY_FILE = f'{outfile}.sql'\\n    with open(QUERY_FILE, \\\"w\\\") as f:\\n        f.write(query)\";\n",
       "                var nbb_formatted_code = \"def write_query_to_file(query, outfile):\\n    QUERY_FILE = f\\\"{outfile}.sql\\\"\\n    with open(QUERY_FILE, \\\"w\\\") as f:\\n        f.write(query)\";\n",
       "                var nbb_cells = Jupyter.notebook.get_cells();\n",
       "                for (var i = 0; i < nbb_cells.length; ++i) {\n",
       "                    if (nbb_cells[i].input_prompt_number == nbb_cell_id) {\n",
       "                        if (nbb_cells[i].get_text() == nbb_unformatted_code) {\n",
       "                             nbb_cells[i].set_text(nbb_formatted_code);\n",
       "                        }\n",
       "                        break;\n",
       "                    }\n",
       "                }\n",
       "            }, 500);\n",
       "            "
      ],
      "text/plain": [
       "<IPython.core.display.Javascript object>"
      ]
     },
     "metadata": {},
     "output_type": "display_data"
    }
   ],
   "source": [
    "def write_query_to_file(query, outfile):\n",
    "    QUERY_FILE = f\"{outfile}.sql\"\n",
    "    with open(QUERY_FILE, \"w\") as f:\n",
    "        f.write(query)"
   ]
  },
  {
   "cell_type": "markdown",
   "id": "fd2173bf",
   "metadata": {},
   "source": [
    "### Q1\n",
    "For 01-2009 through 06-2015, what hour of the day was the most popular to take a yellow taxi? The result should have 24 bins."
   ]
  },
  {
   "cell_type": "code",
   "execution_count": 107,
   "id": "4fc900d1",
   "metadata": {},
   "outputs": [
    {
     "data": {
      "application/javascript": [
       "\n",
       "            setTimeout(function() {\n",
       "                var nbb_cell_id = 107;\n",
       "                var nbb_unformatted_code = \"QUERY_1 = \\\"\\\"\\\"\\nSELECT COUNT(*) AS trips, strftime('%H', pickup_datetime) AS hour\\nFROM taxi_trips\\nWHERE pickup_datetime <'2015-07-01 00:00:00'\\nGROUP BY hour\\nORDER BY trips\\n\\\"\\\"\\\"\\nresult1 = engine.execute(QUERY_1).fetchall()\";\n",
       "                var nbb_formatted_code = \"QUERY_1 = \\\"\\\"\\\"\\nSELECT COUNT(*) AS trips, strftime('%H', pickup_datetime) AS hour\\nFROM taxi_trips\\nWHERE pickup_datetime <'2015-07-01 00:00:00'\\nGROUP BY hour\\nORDER BY trips\\n\\\"\\\"\\\"\\nresult1 = engine.execute(QUERY_1).fetchall()\";\n",
       "                var nbb_cells = Jupyter.notebook.get_cells();\n",
       "                for (var i = 0; i < nbb_cells.length; ++i) {\n",
       "                    if (nbb_cells[i].input_prompt_number == nbb_cell_id) {\n",
       "                        if (nbb_cells[i].get_text() == nbb_unformatted_code) {\n",
       "                             nbb_cells[i].set_text(nbb_formatted_code);\n",
       "                        }\n",
       "                        break;\n",
       "                    }\n",
       "                }\n",
       "            }, 500);\n",
       "            "
      ],
      "text/plain": [
       "<IPython.core.display.Javascript object>"
      ]
     },
     "metadata": {},
     "output_type": "display_data"
    }
   ],
   "source": [
    "QUERY_1 = \"\"\"\n",
    "SELECT COUNT(*) AS trips, strftime('%H', pickup_datetime) AS hour\n",
    "FROM taxi_trips\n",
    "WHERE pickup_datetime <'2015-07-01 00:00:00'\n",
    "GROUP BY hour\n",
    "ORDER BY trips\n",
    "\"\"\"\n",
    "result1 = engine.execute(QUERY_1).fetchall()"
   ]
  },
  {
   "cell_type": "code",
   "execution_count": 153,
   "id": "ad5fadfb",
   "metadata": {
    "scrolled": true
   },
   "outputs": [
    {
     "data": {
      "application/javascript": [
       "\n",
       "            setTimeout(function() {\n",
       "                var nbb_cell_id = 153;\n",
       "                var nbb_unformatted_code = \"write_query_to_file(QUERY_1, \\\"most_popular_hour_taxi\\\")\";\n",
       "                var nbb_formatted_code = \"write_query_to_file(QUERY_1, \\\"most_popular_hour_taxi\\\")\";\n",
       "                var nbb_cells = Jupyter.notebook.get_cells();\n",
       "                for (var i = 0; i < nbb_cells.length; ++i) {\n",
       "                    if (nbb_cells[i].input_prompt_number == nbb_cell_id) {\n",
       "                        if (nbb_cells[i].get_text() == nbb_unformatted_code) {\n",
       "                             nbb_cells[i].set_text(nbb_formatted_code);\n",
       "                        }\n",
       "                        break;\n",
       "                    }\n",
       "                }\n",
       "            }, 500);\n",
       "            "
      ],
      "text/plain": [
       "<IPython.core.display.Javascript object>"
      ]
     },
     "metadata": {},
     "output_type": "display_data"
    }
   ],
   "source": [
    "write_query_to_file(QUERY_1, \"most_popular_hour_taxi\")"
   ]
  },
  {
   "cell_type": "markdown",
   "id": "2f9f79f2",
   "metadata": {},
   "source": [
    "### Q2\n",
    "For the same time frame, what day of the week was the most popular to take an uber? The result should have 7 bins."
   ]
  },
  {
   "cell_type": "code",
   "execution_count": 111,
   "id": "515703ae",
   "metadata": {},
   "outputs": [
    {
     "data": {
      "application/javascript": [
       "\n",
       "            setTimeout(function() {\n",
       "                var nbb_cell_id = 111;\n",
       "                var nbb_unformatted_code = \"QUERY_2 = \\\"\\\"\\\"\\nSELECT COUNT(*) AS trips, strftime('%w', pickup_datetime) AS WeekNumber\\nFROM uber_trips\\nGROUP BY WeekNumber\\nORDER BY trips\\n\\\"\\\"\\\"\\nresult2 = engine.execute(QUERY_2).fetchall()\";\n",
       "                var nbb_formatted_code = \"QUERY_2 = \\\"\\\"\\\"\\nSELECT COUNT(*) AS trips, strftime('%w', pickup_datetime) AS WeekNumber\\nFROM uber_trips\\nGROUP BY WeekNumber\\nORDER BY trips\\n\\\"\\\"\\\"\\nresult2 = engine.execute(QUERY_2).fetchall()\";\n",
       "                var nbb_cells = Jupyter.notebook.get_cells();\n",
       "                for (var i = 0; i < nbb_cells.length; ++i) {\n",
       "                    if (nbb_cells[i].input_prompt_number == nbb_cell_id) {\n",
       "                        if (nbb_cells[i].get_text() == nbb_unformatted_code) {\n",
       "                             nbb_cells[i].set_text(nbb_formatted_code);\n",
       "                        }\n",
       "                        break;\n",
       "                    }\n",
       "                }\n",
       "            }, 500);\n",
       "            "
      ],
      "text/plain": [
       "<IPython.core.display.Javascript object>"
      ]
     },
     "metadata": {},
     "output_type": "display_data"
    }
   ],
   "source": [
    "QUERY_2 = \"\"\"\n",
    "SELECT COUNT(*) AS trips, strftime('%w', pickup_datetime) AS WeekNumber\n",
    "FROM uber_trips\n",
    "GROUP BY WeekNumber\n",
    "ORDER BY trips\n",
    "\"\"\"\n",
    "result2 = engine.execute(QUERY_2).fetchall()"
   ]
  },
  {
   "cell_type": "code",
   "execution_count": 154,
   "id": "90882d65",
   "metadata": {},
   "outputs": [
    {
     "data": {
      "application/javascript": [
       "\n",
       "            setTimeout(function() {\n",
       "                var nbb_cell_id = 154;\n",
       "                var nbb_unformatted_code = \"write_query_to_file(QUERY_2, \\\"most_popular_dayofweek_uber\\\")\";\n",
       "                var nbb_formatted_code = \"write_query_to_file(QUERY_2, \\\"most_popular_dayofweek_uber\\\")\";\n",
       "                var nbb_cells = Jupyter.notebook.get_cells();\n",
       "                for (var i = 0; i < nbb_cells.length; ++i) {\n",
       "                    if (nbb_cells[i].input_prompt_number == nbb_cell_id) {\n",
       "                        if (nbb_cells[i].get_text() == nbb_unformatted_code) {\n",
       "                             nbb_cells[i].set_text(nbb_formatted_code);\n",
       "                        }\n",
       "                        break;\n",
       "                    }\n",
       "                }\n",
       "            }, 500);\n",
       "            "
      ],
      "text/plain": [
       "<IPython.core.display.Javascript object>"
      ]
     },
     "metadata": {},
     "output_type": "display_data"
    }
   ],
   "source": [
    "write_query_to_file(QUERY_2, \"most_popular_dayofweek_uber\")"
   ]
  },
  {
   "cell_type": "markdown",
   "id": "6b960150",
   "metadata": {},
   "source": [
    "### Q3\n",
    "What is the 95% percentile of distance traveled for all hired trips during July 2013?"
   ]
  },
  {
   "cell_type": "code",
   "execution_count": 112,
   "id": "8d334d97",
   "metadata": {},
   "outputs": [
    {
     "data": {
      "application/javascript": [
       "\n",
       "            setTimeout(function() {\n",
       "                var nbb_cell_id = 112;\n",
       "                var nbb_unformatted_code = \"QUERY_3 = \\\"\\\"\\\"\\nWITH allrides AS(\\nSELECT distance FROM taxi_trips\\nWHERE pickup_datetime BETWEEN '2013-07-01 00:00:00' AND '2013-07-31 23:59:59'\\nUNION ALL\\nSELECT distance FROM uber_trips\\nWHERE pickup_datetime BETWEEN '2013-07-01 00:00:00' AND '2013-07-31 23:59:59')\\n\\nSELECT distance\\nFROM allrides\\n\\nORDER BY distance ASC\\n\\nLIMIT 1\\nOFFSET (\\nSELECT COUNT(*)\\nFROM allrides) * (95) / 100 - 1\\n\\\"\\\"\\\"\\nresult3 = engine.execute(QUERY_3).fetchall()\";\n",
       "                var nbb_formatted_code = \"QUERY_3 = \\\"\\\"\\\"\\nWITH allrides AS(\\nSELECT distance FROM taxi_trips\\nWHERE pickup_datetime BETWEEN '2013-07-01 00:00:00' AND '2013-07-31 23:59:59'\\nUNION ALL\\nSELECT distance FROM uber_trips\\nWHERE pickup_datetime BETWEEN '2013-07-01 00:00:00' AND '2013-07-31 23:59:59')\\n\\nSELECT distance\\nFROM allrides\\n\\nORDER BY distance ASC\\n\\nLIMIT 1\\nOFFSET (\\nSELECT COUNT(*)\\nFROM allrides) * (95) / 100 - 1\\n\\\"\\\"\\\"\\nresult3 = engine.execute(QUERY_3).fetchall()\";\n",
       "                var nbb_cells = Jupyter.notebook.get_cells();\n",
       "                for (var i = 0; i < nbb_cells.length; ++i) {\n",
       "                    if (nbb_cells[i].input_prompt_number == nbb_cell_id) {\n",
       "                        if (nbb_cells[i].get_text() == nbb_unformatted_code) {\n",
       "                             nbb_cells[i].set_text(nbb_formatted_code);\n",
       "                        }\n",
       "                        break;\n",
       "                    }\n",
       "                }\n",
       "            }, 500);\n",
       "            "
      ],
      "text/plain": [
       "<IPython.core.display.Javascript object>"
      ]
     },
     "metadata": {},
     "output_type": "display_data"
    }
   ],
   "source": [
    "QUERY_3 = \"\"\"\n",
    "WITH allrides AS(\n",
    "SELECT distance FROM taxi_trips\n",
    "WHERE pickup_datetime BETWEEN '2013-07-01 00:00:00' AND '2013-07-31 23:59:59'\n",
    "UNION ALL\n",
    "SELECT distance FROM uber_trips\n",
    "WHERE pickup_datetime BETWEEN '2013-07-01 00:00:00' AND '2013-07-31 23:59:59')\n",
    "\n",
    "SELECT distance\n",
    "FROM allrides\n",
    "\n",
    "ORDER BY distance ASC\n",
    "\n",
    "LIMIT 1\n",
    "OFFSET (\n",
    "SELECT COUNT(*)\n",
    "FROM allrides) * (95) / 100 - 1\n",
    "\"\"\"\n",
    "result3 = engine.execute(QUERY_3).fetchall()"
   ]
  },
  {
   "cell_type": "code",
   "execution_count": 155,
   "id": "09148a84",
   "metadata": {},
   "outputs": [
    {
     "data": {
      "application/javascript": [
       "\n",
       "            setTimeout(function() {\n",
       "                var nbb_cell_id = 155;\n",
       "                var nbb_unformatted_code = \"write_query_to_file(QUERY_3, \\\"percentile95_distance_allrides\\\")\";\n",
       "                var nbb_formatted_code = \"write_query_to_file(QUERY_3, \\\"percentile95_distance_allrides\\\")\";\n",
       "                var nbb_cells = Jupyter.notebook.get_cells();\n",
       "                for (var i = 0; i < nbb_cells.length; ++i) {\n",
       "                    if (nbb_cells[i].input_prompt_number == nbb_cell_id) {\n",
       "                        if (nbb_cells[i].get_text() == nbb_unformatted_code) {\n",
       "                             nbb_cells[i].set_text(nbb_formatted_code);\n",
       "                        }\n",
       "                        break;\n",
       "                    }\n",
       "                }\n",
       "            }, 500);\n",
       "            "
      ],
      "text/plain": [
       "<IPython.core.display.Javascript object>"
      ]
     },
     "metadata": {},
     "output_type": "display_data"
    }
   ],
   "source": [
    "write_query_to_file(QUERY_3, \"percentile95_distance_allrides\")"
   ]
  },
  {
   "cell_type": "markdown",
   "id": "aed54aab",
   "metadata": {},
   "source": [
    "### Q4\n",
    "What were the top 10 days with the highest number of hired rides for 2009, and what\n",
    "was the average distance for each day?"
   ]
  },
  {
   "cell_type": "code",
   "execution_count": 113,
   "id": "c7b15c2c",
   "metadata": {},
   "outputs": [
    {
     "data": {
      "application/javascript": [
       "\n",
       "            setTimeout(function() {\n",
       "                var nbb_cell_id = 113;\n",
       "                var nbb_unformatted_code = \"QUERY_4 = \\\"\\\"\\\"\\nWITH allrides AS(\\nSELECT pickup_datetime, distance FROM taxi_trips\\nWHERE pickup_datetime between '2009-01-01 00:00:00' AND '2009-12-31 23:59:59'\\nUNION ALL\\nSELECT pickup_datetime, distance FROM uber_trips\\nWHERE pickup_datetime between '2009-01-01 00:00:00' AND '2009-12-31 23:59:59')\\n\\nSELECT date(pickup_datetime) AS day, AVG(distance) AS mean_dist, COUNT(*) AS trips\\nFROM allrides\\n\\nGROUP BY day\\nORDER BY trips DESC\\nLIMIT 10\\n\\\"\\\"\\\"\\nresult4 = engine.execute(QUERY_4).fetchall()\";\n",
       "                var nbb_formatted_code = \"QUERY_4 = \\\"\\\"\\\"\\nWITH allrides AS(\\nSELECT pickup_datetime, distance FROM taxi_trips\\nWHERE pickup_datetime between '2009-01-01 00:00:00' AND '2009-12-31 23:59:59'\\nUNION ALL\\nSELECT pickup_datetime, distance FROM uber_trips\\nWHERE pickup_datetime between '2009-01-01 00:00:00' AND '2009-12-31 23:59:59')\\n\\nSELECT date(pickup_datetime) AS day, AVG(distance) AS mean_dist, COUNT(*) AS trips\\nFROM allrides\\n\\nGROUP BY day\\nORDER BY trips DESC\\nLIMIT 10\\n\\\"\\\"\\\"\\nresult4 = engine.execute(QUERY_4).fetchall()\";\n",
       "                var nbb_cells = Jupyter.notebook.get_cells();\n",
       "                for (var i = 0; i < nbb_cells.length; ++i) {\n",
       "                    if (nbb_cells[i].input_prompt_number == nbb_cell_id) {\n",
       "                        if (nbb_cells[i].get_text() == nbb_unformatted_code) {\n",
       "                             nbb_cells[i].set_text(nbb_formatted_code);\n",
       "                        }\n",
       "                        break;\n",
       "                    }\n",
       "                }\n",
       "            }, 500);\n",
       "            "
      ],
      "text/plain": [
       "<IPython.core.display.Javascript object>"
      ]
     },
     "metadata": {},
     "output_type": "display_data"
    }
   ],
   "source": [
    "QUERY_4 = \"\"\"\n",
    "WITH allrides AS(\n",
    "SELECT pickup_datetime, distance FROM taxi_trips\n",
    "WHERE pickup_datetime between '2009-01-01 00:00:00' AND '2009-12-31 23:59:59'\n",
    "UNION ALL\n",
    "SELECT pickup_datetime, distance FROM uber_trips\n",
    "WHERE pickup_datetime between '2009-01-01 00:00:00' AND '2009-12-31 23:59:59')\n",
    "\n",
    "SELECT date(pickup_datetime) AS day, AVG(distance) AS mean_dist, COUNT(*) AS trips\n",
    "FROM allrides\n",
    "\n",
    "GROUP BY day\n",
    "ORDER BY trips DESC\n",
    "LIMIT 10\n",
    "\"\"\"\n",
    "result4 = engine.execute(QUERY_4).fetchall()"
   ]
  },
  {
   "cell_type": "code",
   "execution_count": 156,
   "id": "9b67f315",
   "metadata": {},
   "outputs": [
    {
     "data": {
      "application/javascript": [
       "\n",
       "            setTimeout(function() {\n",
       "                var nbb_cell_id = 156;\n",
       "                var nbb_unformatted_code = \"write_query_to_file(QUERY_4, \\\"top_10_rides_2009\\\")\";\n",
       "                var nbb_formatted_code = \"write_query_to_file(QUERY_4, \\\"top_10_rides_2009\\\")\";\n",
       "                var nbb_cells = Jupyter.notebook.get_cells();\n",
       "                for (var i = 0; i < nbb_cells.length; ++i) {\n",
       "                    if (nbb_cells[i].input_prompt_number == nbb_cell_id) {\n",
       "                        if (nbb_cells[i].get_text() == nbb_unformatted_code) {\n",
       "                             nbb_cells[i].set_text(nbb_formatted_code);\n",
       "                        }\n",
       "                        break;\n",
       "                    }\n",
       "                }\n",
       "            }, 500);\n",
       "            "
      ],
      "text/plain": [
       "<IPython.core.display.Javascript object>"
      ]
     },
     "metadata": {},
     "output_type": "display_data"
    }
   ],
   "source": [
    "write_query_to_file(QUERY_4, \"top_10_rides_2009\")"
   ]
  },
  {
   "cell_type": "markdown",
   "id": "93b0b402",
   "metadata": {},
   "source": [
    "### Q5\n",
    "Which 10 days in 2014 were the windiest on average, and how many hired trips were\n",
    "made on those days?"
   ]
  },
  {
   "cell_type": "code",
   "execution_count": 114,
   "id": "55157a21",
   "metadata": {},
   "outputs": [
    {
     "data": {
      "application/javascript": [
       "\n",
       "            setTimeout(function() {\n",
       "                var nbb_cell_id = 114;\n",
       "                var nbb_unformatted_code = \"QUERY_5 = \\\"\\\"\\\"\\nWITH all_rides AS (\\nSELECT pickup_datetime\\nFROM taxi_trips\\nUNION ALL\\nSELECT pickup_datetime\\nFROM uber_trips\\n)\\nSELECT date(pickup_datetime) AS date, COUNT(*)\\nFROM all_rides\\nGROUP BY date\\nHAVING date IN (SELECT date(DATE)\\n                FROM daily_weather\\n                WHERE DATE BETWEEN '2014-01-01' AND '2014-12-31'\\n                ORDER BY DailyAverageWindSpeed DESC\\n                LIMIT 10)\\nLIMIT 10;\\n\\\"\\\"\\\"\\nresult5 = engine.execute(QUERY_5).fetchall()\";\n",
       "                var nbb_formatted_code = \"QUERY_5 = \\\"\\\"\\\"\\nWITH all_rides AS (\\nSELECT pickup_datetime\\nFROM taxi_trips\\nUNION ALL\\nSELECT pickup_datetime\\nFROM uber_trips\\n)\\nSELECT date(pickup_datetime) AS date, COUNT(*)\\nFROM all_rides\\nGROUP BY date\\nHAVING date IN (SELECT date(DATE)\\n                FROM daily_weather\\n                WHERE DATE BETWEEN '2014-01-01' AND '2014-12-31'\\n                ORDER BY DailyAverageWindSpeed DESC\\n                LIMIT 10)\\nLIMIT 10;\\n\\\"\\\"\\\"\\nresult5 = engine.execute(QUERY_5).fetchall()\";\n",
       "                var nbb_cells = Jupyter.notebook.get_cells();\n",
       "                for (var i = 0; i < nbb_cells.length; ++i) {\n",
       "                    if (nbb_cells[i].input_prompt_number == nbb_cell_id) {\n",
       "                        if (nbb_cells[i].get_text() == nbb_unformatted_code) {\n",
       "                             nbb_cells[i].set_text(nbb_formatted_code);\n",
       "                        }\n",
       "                        break;\n",
       "                    }\n",
       "                }\n",
       "            }, 500);\n",
       "            "
      ],
      "text/plain": [
       "<IPython.core.display.Javascript object>"
      ]
     },
     "metadata": {},
     "output_type": "display_data"
    }
   ],
   "source": [
    "QUERY_5 = \"\"\"\n",
    "WITH all_rides AS (\n",
    "SELECT pickup_datetime\n",
    "FROM taxi_trips\n",
    "UNION ALL\n",
    "SELECT pickup_datetime\n",
    "FROM uber_trips\n",
    ")\n",
    "SELECT date(pickup_datetime) AS date, COUNT(*)\n",
    "FROM all_rides\n",
    "GROUP BY date\n",
    "HAVING date IN (SELECT date(DATE)\n",
    "                FROM daily_weather\n",
    "                WHERE DATE BETWEEN '2014-01-01' AND '2014-12-31'\n",
    "                ORDER BY DailyAverageWindSpeed DESC\n",
    "                LIMIT 10)\n",
    "LIMIT 10;\n",
    "\"\"\"\n",
    "result5 = engine.execute(QUERY_5).fetchall()"
   ]
  },
  {
   "cell_type": "code",
   "execution_count": 157,
   "id": "b3882c4a",
   "metadata": {},
   "outputs": [
    {
     "data": {
      "application/javascript": [
       "\n",
       "            setTimeout(function() {\n",
       "                var nbb_cell_id = 157;\n",
       "                var nbb_unformatted_code = \"write_query_to_file(QUERY_5, \\\"top_10_windest_2014\\\")\";\n",
       "                var nbb_formatted_code = \"write_query_to_file(QUERY_5, \\\"top_10_windest_2014\\\")\";\n",
       "                var nbb_cells = Jupyter.notebook.get_cells();\n",
       "                for (var i = 0; i < nbb_cells.length; ++i) {\n",
       "                    if (nbb_cells[i].input_prompt_number == nbb_cell_id) {\n",
       "                        if (nbb_cells[i].get_text() == nbb_unformatted_code) {\n",
       "                             nbb_cells[i].set_text(nbb_formatted_code);\n",
       "                        }\n",
       "                        break;\n",
       "                    }\n",
       "                }\n",
       "            }, 500);\n",
       "            "
      ],
      "text/plain": [
       "<IPython.core.display.Javascript object>"
      ]
     },
     "metadata": {},
     "output_type": "display_data"
    }
   ],
   "source": [
    "write_query_to_file(QUERY_5, \"top_10_windest_2014\")"
   ]
  },
  {
   "cell_type": "markdown",
   "id": "86522d0f",
   "metadata": {},
   "source": [
    "### Q6\n",
    "During Hurricane Sandy in NYC (Oct 29-30, 2012), plus the week leading up and the\n",
    "week after, how many trips were taken each hour, and for each hour, how much precipitation did NYC receive and what was the sustained wind speed? There should be an entry for every single hour, even if no rides were taken, no precipitation was measured, or there was no wind."
   ]
  },
  {
   "cell_type": "code",
   "execution_count": 115,
   "id": "611eae31",
   "metadata": {},
   "outputs": [
    {
     "data": {
      "application/javascript": [
       "\n",
       "            setTimeout(function() {\n",
       "                var nbb_cell_id = 115;\n",
       "                var nbb_unformatted_code = \"QUERY_6 = \\\"\\\"\\\"\\nWITH all_rides AS (\\nSELECT strftime('%m/%d/%Y %H', pickup_datetime) as ride_to_hour\\nFROM taxi_trips\\nWHERE pickup_datetime BETWEEN '2012-10-22' AND '2012-11-07'\\nUNION ALL\\nSELECT strftime('%m/%d/%Y %H', pickup_datetime) as ride_to_hour\\nFROM uber_trips\\nWHERE pickup_datetime BETWEEN '2012-10-22' AND '2012-11-07')\\n\\nSELECT strftime('%m/%d/%Y %H', DATE) AS weather_to_hour,\\nCOALESCE(COUNT(all_rides.ride_to_hour), 0) AS rides_count,\\nHourlyPrecipitation,\\nHourlyWindSpeed\\n\\nFROM hourly_weather\\nLEFT OUTER JOIN all_rides\\nON weather_to_hour = ride_to_hour\\nWHERE hourly_weather.DATE BETWEEN '2012-10-22' AND '2012-11-07'\\nGROUP BY weather_to_hour\\n\\n\\n\\\"\\\"\\\"\\nresult6 = engine.execute(QUERY_6).fetchall()\";\n",
       "                var nbb_formatted_code = \"QUERY_6 = \\\"\\\"\\\"\\nWITH all_rides AS (\\nSELECT strftime('%m/%d/%Y %H', pickup_datetime) as ride_to_hour\\nFROM taxi_trips\\nWHERE pickup_datetime BETWEEN '2012-10-22' AND '2012-11-07'\\nUNION ALL\\nSELECT strftime('%m/%d/%Y %H', pickup_datetime) as ride_to_hour\\nFROM uber_trips\\nWHERE pickup_datetime BETWEEN '2012-10-22' AND '2012-11-07')\\n\\nSELECT strftime('%m/%d/%Y %H', DATE) AS weather_to_hour,\\nCOALESCE(COUNT(all_rides.ride_to_hour), 0) AS rides_count,\\nHourlyPrecipitation,\\nHourlyWindSpeed\\n\\nFROM hourly_weather\\nLEFT OUTER JOIN all_rides\\nON weather_to_hour = ride_to_hour\\nWHERE hourly_weather.DATE BETWEEN '2012-10-22' AND '2012-11-07'\\nGROUP BY weather_to_hour\\n\\n\\n\\\"\\\"\\\"\\nresult6 = engine.execute(QUERY_6).fetchall()\";\n",
       "                var nbb_cells = Jupyter.notebook.get_cells();\n",
       "                for (var i = 0; i < nbb_cells.length; ++i) {\n",
       "                    if (nbb_cells[i].input_prompt_number == nbb_cell_id) {\n",
       "                        if (nbb_cells[i].get_text() == nbb_unformatted_code) {\n",
       "                             nbb_cells[i].set_text(nbb_formatted_code);\n",
       "                        }\n",
       "                        break;\n",
       "                    }\n",
       "                }\n",
       "            }, 500);\n",
       "            "
      ],
      "text/plain": [
       "<IPython.core.display.Javascript object>"
      ]
     },
     "metadata": {},
     "output_type": "display_data"
    }
   ],
   "source": [
    "QUERY_6 = \"\"\"\n",
    "WITH all_rides AS (\n",
    "SELECT strftime('%m/%d/%Y %H', pickup_datetime) as ride_to_hour\n",
    "FROM taxi_trips\n",
    "WHERE pickup_datetime BETWEEN '2012-10-22' AND '2012-11-07'\n",
    "UNION ALL\n",
    "SELECT strftime('%m/%d/%Y %H', pickup_datetime) as ride_to_hour\n",
    "FROM uber_trips\n",
    "WHERE pickup_datetime BETWEEN '2012-10-22' AND '2012-11-07')\n",
    "\n",
    "SELECT strftime('%m/%d/%Y %H', DATE) AS weather_to_hour,\n",
    "COALESCE(COUNT(all_rides.ride_to_hour), 0) AS rides_count,\n",
    "HourlyPrecipitation,\n",
    "HourlyWindSpeed\n",
    "\n",
    "FROM hourly_weather\n",
    "LEFT OUTER JOIN all_rides\n",
    "ON weather_to_hour = ride_to_hour\n",
    "WHERE hourly_weather.DATE BETWEEN '2012-10-22' AND '2012-11-07'\n",
    "GROUP BY weather_to_hour\n",
    "\n",
    "\n",
    "\"\"\"\n",
    "result6 = engine.execute(QUERY_6).fetchall()"
   ]
  },
  {
   "cell_type": "code",
   "execution_count": 158,
   "id": "f1a140de",
   "metadata": {},
   "outputs": [
    {
     "data": {
      "application/javascript": [
       "\n",
       "            setTimeout(function() {\n",
       "                var nbb_cell_id = 158;\n",
       "                var nbb_unformatted_code = \"write_query_to_file(QUERY_6, \\\"HS_hourly_combine\\\")\";\n",
       "                var nbb_formatted_code = \"write_query_to_file(QUERY_6, \\\"HS_hourly_combine\\\")\";\n",
       "                var nbb_cells = Jupyter.notebook.get_cells();\n",
       "                for (var i = 0; i < nbb_cells.length; ++i) {\n",
       "                    if (nbb_cells[i].input_prompt_number == nbb_cell_id) {\n",
       "                        if (nbb_cells[i].get_text() == nbb_unformatted_code) {\n",
       "                             nbb_cells[i].set_text(nbb_formatted_code);\n",
       "                        }\n",
       "                        break;\n",
       "                    }\n",
       "                }\n",
       "            }, 500);\n",
       "            "
      ],
      "text/plain": [
       "<IPython.core.display.Javascript object>"
      ]
     },
     "metadata": {},
     "output_type": "display_data"
    }
   ],
   "source": [
    "write_query_to_file(QUERY_6, \"HS_hourly_combine\")"
   ]
  },
  {
   "cell_type": "markdown",
   "id": "d864fe09",
   "metadata": {},
   "source": [
    "## Part4 "
   ]
  },
  {
   "cell_type": "markdown",
   "id": "0ce28db9",
   "metadata": {},
   "source": [
    "### P1\n",
    "Create an appropriate visualization for the first query/question in part 3."
   ]
  },
  {
   "cell_type": "code",
   "execution_count": 116,
   "id": "5951704c",
   "metadata": {},
   "outputs": [
    {
     "data": {
      "application/javascript": [
       "\n",
       "            setTimeout(function() {\n",
       "                var nbb_cell_id = 116;\n",
       "                var nbb_unformatted_code = \"P1 = pd.DataFrame(result1)\";\n",
       "                var nbb_formatted_code = \"P1 = pd.DataFrame(result1)\";\n",
       "                var nbb_cells = Jupyter.notebook.get_cells();\n",
       "                for (var i = 0; i < nbb_cells.length; ++i) {\n",
       "                    if (nbb_cells[i].input_prompt_number == nbb_cell_id) {\n",
       "                        if (nbb_cells[i].get_text() == nbb_unformatted_code) {\n",
       "                             nbb_cells[i].set_text(nbb_formatted_code);\n",
       "                        }\n",
       "                        break;\n",
       "                    }\n",
       "                }\n",
       "            }, 500);\n",
       "            "
      ],
      "text/plain": [
       "<IPython.core.display.Javascript object>"
      ]
     },
     "metadata": {},
     "output_type": "display_data"
    }
   ],
   "source": [
    "P1 = pd.DataFrame(result1)"
   ]
  },
  {
   "cell_type": "code",
   "execution_count": 117,
   "id": "68588bb0",
   "metadata": {},
   "outputs": [
    {
     "data": {
      "text/plain": [
       "<AxesSubplot:xlabel='hour'>"
      ]
     },
     "execution_count": 117,
     "metadata": {},
     "output_type": "execute_result"
    },
    {
     "data": {
      "text/plain": [
       "<Figure size 500x500 with 0 Axes>"
      ]
     },
     "metadata": {},
     "output_type": "display_data"
    },
    {
     "data": {
      "image/png": "[encoded data removed]",
      "text/plain": [
       "<Figure size 432x288 with 1 Axes>"
      ]
     },
     "metadata": {
      "needs_background": "light"
     },
     "output_type": "display_data"
    },
    {
     "data": {
      "application/javascript": [
       "\n",
       "            setTimeout(function() {\n",
       "                var nbb_cell_id = 117;\n",
       "                var nbb_unformatted_code = \"plt.figure(figsize = (5,5),dpi=100)\\nP1.groupby(['hour']).mean().plot.bar()\";\n",
       "                var nbb_formatted_code = \"plt.figure(figsize=(5, 5), dpi=100)\\nP1.groupby([\\\"hour\\\"]).mean().plot.bar()\";\n",
       "                var nbb_cells = Jupyter.notebook.get_cells();\n",
       "                for (var i = 0; i < nbb_cells.length; ++i) {\n",
       "                    if (nbb_cells[i].input_prompt_number == nbb_cell_id) {\n",
       "                        if (nbb_cells[i].get_text() == nbb_unformatted_code) {\n",
       "                             nbb_cells[i].set_text(nbb_formatted_code);\n",
       "                        }\n",
       "                        break;\n",
       "                    }\n",
       "                }\n",
       "            }, 500);\n",
       "            "
      ],
      "text/plain": [
       "<IPython.core.display.Javascript object>"
      ]
     },
     "metadata": {},
     "output_type": "display_data"
    }
   ],
   "source": [
    "plt.figure(figsize=(5, 5), dpi=100)\n",
    "P1.groupby([\"hour\"]).mean().plot.bar()"
   ]
  },
  {
   "cell_type": "markdown",
   "id": "ea14df09",
   "metadata": {},
   "source": [
    "### P2\n",
    "Create a visualization that shows the average distance traveled per month (regardless of\n",
    "year - so group by each month) for both taxis and Ubers combined. Include the 90%\n",
    "confidence interval around the mean in the visualization."
   ]
  },
  {
   "cell_type": "code",
   "execution_count": 118,
   "id": "10c1c9fc",
   "metadata": {},
   "outputs": [
    {
     "data": {
      "application/javascript": [
       "\n",
       "            setTimeout(function() {\n",
       "                var nbb_cell_id = 118;\n",
       "                var nbb_unformatted_code = \"QUERY_p2 = \\\"\\\"\\\"\\nSELECT strftime('%m', pickup_datetime) AS month, distance FROM taxi_trips\\nUNION ALL\\nSELECT strftime('%m', pickup_datetime) AS month, distance FROM uber_trips\\n\\\"\\\"\\\"\\nresult_p2 = engine.execute(QUERY_p2).fetchall()\";\n",
       "                var nbb_formatted_code = \"QUERY_p2 = \\\"\\\"\\\"\\nSELECT strftime('%m', pickup_datetime) AS month, distance FROM taxi_trips\\nUNION ALL\\nSELECT strftime('%m', pickup_datetime) AS month, distance FROM uber_trips\\n\\\"\\\"\\\"\\nresult_p2 = engine.execute(QUERY_p2).fetchall()\";\n",
       "                var nbb_cells = Jupyter.notebook.get_cells();\n",
       "                for (var i = 0; i < nbb_cells.length; ++i) {\n",
       "                    if (nbb_cells[i].input_prompt_number == nbb_cell_id) {\n",
       "                        if (nbb_cells[i].get_text() == nbb_unformatted_code) {\n",
       "                             nbb_cells[i].set_text(nbb_formatted_code);\n",
       "                        }\n",
       "                        break;\n",
       "                    }\n",
       "                }\n",
       "            }, 500);\n",
       "            "
      ],
      "text/plain": [
       "<IPython.core.display.Javascript object>"
      ]
     },
     "metadata": {},
     "output_type": "display_data"
    }
   ],
   "source": [
    "QUERY_p2 = \"\"\"\n",
    "SELECT strftime('%m', pickup_datetime) AS month, distance FROM taxi_trips\n",
    "UNION ALL\n",
    "SELECT strftime('%m', pickup_datetime) AS month, distance FROM uber_trips\n",
    "\"\"\"\n",
    "result_p2 = engine.execute(QUERY_p2).fetchall()"
   ]
  },
  {
   "cell_type": "code",
   "execution_count": 119,
   "id": "e5c114f1",
   "metadata": {},
   "outputs": [
    {
     "data": {
      "application/javascript": [
       "\n",
       "            setTimeout(function() {\n",
       "                var nbb_cell_id = 119;\n",
       "                var nbb_unformatted_code = \"P2 = pd.DataFrame(result_p2)\\nP2['month'] = P2['month'].astype('int64')\";\n",
       "                var nbb_formatted_code = \"P2 = pd.DataFrame(result_p2)\\nP2[\\\"month\\\"] = P2[\\\"month\\\"].astype(\\\"int64\\\")\";\n",
       "                var nbb_cells = Jupyter.notebook.get_cells();\n",
       "                for (var i = 0; i < nbb_cells.length; ++i) {\n",
       "                    if (nbb_cells[i].input_prompt_number == nbb_cell_id) {\n",
       "                        if (nbb_cells[i].get_text() == nbb_unformatted_code) {\n",
       "                             nbb_cells[i].set_text(nbb_formatted_code);\n",
       "                        }\n",
       "                        break;\n",
       "                    }\n",
       "                }\n",
       "            }, 500);\n",
       "            "
      ],
      "text/plain": [
       "<IPython.core.display.Javascript object>"
      ]
     },
     "metadata": {},
     "output_type": "display_data"
    }
   ],
   "source": [
    "P2 = pd.DataFrame(result_p2)\n",
    "P2[\"month\"] = P2[\"month\"].astype(\"int64\")"
   ]
  },
  {
   "cell_type": "code",
   "execution_count": 120,
   "id": "ea0f3fe4",
   "metadata": {},
   "outputs": [
    {
     "data": {
      "text/plain": [
       "<AxesSubplot:xlabel='month', ylabel='distance'>"
      ]
     },
     "execution_count": 120,
     "metadata": {},
     "output_type": "execute_result"
    },
    {
     "data": {
      "image/png": "[encoded data removed]",
      "text/plain": [
       "<Figure size 400x400 with 1 Axes>"
      ]
     },
     "metadata": {
      "needs_background": "light"
     },
     "output_type": "display_data"
    },
    {
     "data": {
      "application/javascript": [
       "\n",
       "            setTimeout(function() {\n",
       "                var nbb_cell_id = 120;\n",
       "                var nbb_unformatted_code = \"plt.figure(figsize = (4,4),dpi=100)\\nsns.regplot(x =P2['month'], y = P2['distance'], ci=90 )\";\n",
       "                var nbb_formatted_code = \"plt.figure(figsize=(4, 4), dpi=100)\\nsns.regplot(x=P2[\\\"month\\\"], y=P2[\\\"distance\\\"], ci=90)\";\n",
       "                var nbb_cells = Jupyter.notebook.get_cells();\n",
       "                for (var i = 0; i < nbb_cells.length; ++i) {\n",
       "                    if (nbb_cells[i].input_prompt_number == nbb_cell_id) {\n",
       "                        if (nbb_cells[i].get_text() == nbb_unformatted_code) {\n",
       "                             nbb_cells[i].set_text(nbb_formatted_code);\n",
       "                        }\n",
       "                        break;\n",
       "                    }\n",
       "                }\n",
       "            }, 500);\n",
       "            "
      ],
      "text/plain": [
       "<IPython.core.display.Javascript object>"
      ]
     },
     "metadata": {},
     "output_type": "display_data"
    }
   ],
   "source": [
    "plt.figure(figsize=(4, 4), dpi=100)\n",
    "sns.regplot(x=P2[\"month\"], y=P2[\"distance\"], ci=90)"
   ]
  },
  {
   "cell_type": "markdown",
   "id": "031d67f0",
   "metadata": {},
   "source": [
    "### P3\n",
    "Define three lat/long coordinate boxes around the three major New York airports: LGA,\n",
    "JFK, and EWR (you can use bboxfinder to help). Create a visualization that compares\n",
    "what day of the week was most popular for drop offs for each airport."
   ]
  },
  {
   "cell_type": "markdown",
   "id": "322b649e",
   "metadata": {},
   "source": [
    "* *Bar chart for EWR Airport*"
   ]
  },
  {
   "cell_type": "code",
   "execution_count": 121,
   "id": "fc68083e",
   "metadata": {},
   "outputs": [
    {
     "data": {
      "application/javascript": [
       "\n",
       "            setTimeout(function() {\n",
       "                var nbb_cell_id = 121;\n",
       "                var nbb_unformatted_code = \"#EWR(-74.200974,40.671395)(-74.148617,40.709662)\\nQUERY_p3_EWR = \\\"\\\"\\\"\\nWITH allrides AS(\\nSELECT pickup_datetime, dropoff_longitude, dropoff_latitude FROM taxi_trips\\nWHERE dropoff_longitude <=  '-74.148617'\\nAND dropoff_longitude >= '-74.200974'\\nAND dropoff_latitude<= '40.709662'\\nAND dropoff_latitude>= '40.671395'\\nUNION ALL\\nSELECT pickup_datetime, dropoff_longitude, dropoff_latitude FROM uber_trips\\nWHERE dropoff_longitude <= '-74.148617'\\nAND dropoff_longitude >= '-74.200974'\\nAND dropoff_latitude<= '40.709662'\\nAND dropoff_latitude>= '40.671395')\\n\\nSELECT COUNT(*) AS trips, strftime('%w', pickup_datetime) AS WeekNumber\\nFROM allrides\\nGROUP BY WeekNumber\\n\\n\\\"\\\"\\\"\\nresult_p3_EWR = engine.execute(QUERY_p3_EWR).fetchall()\";\n",
       "                var nbb_formatted_code = \"# EWR(-74.200974,40.671395)(-74.148617,40.709662)\\nQUERY_p3_EWR = \\\"\\\"\\\"\\nWITH allrides AS(\\nSELECT pickup_datetime, dropoff_longitude, dropoff_latitude FROM taxi_trips\\nWHERE dropoff_longitude <=  '-74.148617'\\nAND dropoff_longitude >= '-74.200974'\\nAND dropoff_latitude<= '40.709662'\\nAND dropoff_latitude>= '40.671395'\\nUNION ALL\\nSELECT pickup_datetime, dropoff_longitude, dropoff_latitude FROM uber_trips\\nWHERE dropoff_longitude <= '-74.148617'\\nAND dropoff_longitude >= '-74.200974'\\nAND dropoff_latitude<= '40.709662'\\nAND dropoff_latitude>= '40.671395')\\n\\nSELECT COUNT(*) AS trips, strftime('%w', pickup_datetime) AS WeekNumber\\nFROM allrides\\nGROUP BY WeekNumber\\n\\n\\\"\\\"\\\"\\nresult_p3_EWR = engine.execute(QUERY_p3_EWR).fetchall()\";\n",
       "                var nbb_cells = Jupyter.notebook.get_cells();\n",
       "                for (var i = 0; i < nbb_cells.length; ++i) {\n",
       "                    if (nbb_cells[i].input_prompt_number == nbb_cell_id) {\n",
       "                        if (nbb_cells[i].get_text() == nbb_unformatted_code) {\n",
       "                             nbb_cells[i].set_text(nbb_formatted_code);\n",
       "                        }\n",
       "                        break;\n",
       "                    }\n",
       "                }\n",
       "            }, 500);\n",
       "            "
      ],
      "text/plain": [
       "<IPython.core.display.Javascript object>"
      ]
     },
     "metadata": {},
     "output_type": "display_data"
    }
   ],
   "source": [
    "# EWR(-74.200974,40.671395)(-74.148617,40.709662)\n",
    "QUERY_p3_EWR = \"\"\"\n",
    "WITH allrides AS(\n",
    "SELECT pickup_datetime, dropoff_longitude, dropoff_latitude FROM taxi_trips\n",
    "WHERE dropoff_longitude <=  '-74.148617'\n",
    "AND dropoff_longitude >= '-74.200974'\n",
    "AND dropoff_latitude<= '40.709662'\n",
    "AND dropoff_latitude>= '40.671395'\n",
    "UNION ALL\n",
    "SELECT pickup_datetime, dropoff_longitude, dropoff_latitude FROM uber_trips\n",
    "WHERE dropoff_longitude <= '-74.148617'\n",
    "AND dropoff_longitude >= '-74.200974'\n",
    "AND dropoff_latitude<= '40.709662'\n",
    "AND dropoff_latitude>= '40.671395')\n",
    "\n",
    "SELECT COUNT(*) AS trips, strftime('%w', pickup_datetime) AS WeekNumber\n",
    "FROM allrides\n",
    "GROUP BY WeekNumber\n",
    "\n",
    "\"\"\"\n",
    "result_p3_EWR = engine.execute(QUERY_p3_EWR).fetchall()"
   ]
  },
  {
   "cell_type": "code",
   "execution_count": 122,
   "id": "bf7e269b",
   "metadata": {},
   "outputs": [
    {
     "data": {
      "text/plain": [
       "<AxesSubplot:xlabel='WeekNumber', ylabel='trips'>"
      ]
     },
     "execution_count": 122,
     "metadata": {},
     "output_type": "execute_result"
    },
    {
     "data": {
      "image/png": "[encoded data removed]",
      "text/plain": [
       "<Figure size 300x300 with 1 Axes>"
      ]
     },
     "metadata": {
      "needs_background": "light"
     },
     "output_type": "display_data"
    },
    {
     "data": {
      "application/javascript": [
       "\n",
       "            setTimeout(function() {\n",
       "                var nbb_cell_id = 122;\n",
       "                var nbb_unformatted_code = \"EWR = pd.DataFrame(result_p3_EWR)\\nplt.figure(figsize = (3,3),dpi=100)\\nsns.barplot(data=EWR, x=\\\"WeekNumber\\\", y=\\\"trips\\\")\";\n",
       "                var nbb_formatted_code = \"EWR = pd.DataFrame(result_p3_EWR)\\nplt.figure(figsize=(3, 3), dpi=100)\\nsns.barplot(data=EWR, x=\\\"WeekNumber\\\", y=\\\"trips\\\")\";\n",
       "                var nbb_cells = Jupyter.notebook.get_cells();\n",
       "                for (var i = 0; i < nbb_cells.length; ++i) {\n",
       "                    if (nbb_cells[i].input_prompt_number == nbb_cell_id) {\n",
       "                        if (nbb_cells[i].get_text() == nbb_unformatted_code) {\n",
       "                             nbb_cells[i].set_text(nbb_formatted_code);\n",
       "                        }\n",
       "                        break;\n",
       "                    }\n",
       "                }\n",
       "            }, 500);\n",
       "            "
      ],
      "text/plain": [
       "<IPython.core.display.Javascript object>"
      ]
     },
     "metadata": {},
     "output_type": "display_data"
    }
   ],
   "source": [
    "EWR = pd.DataFrame(result_p3_EWR)\n",
    "plt.figure(figsize=(3, 3), dpi=100)\n",
    "sns.barplot(data=EWR, x=\"WeekNumber\", y=\"trips\")"
   ]
  },
  {
   "cell_type": "markdown",
   "id": "2b1b25c3",
   "metadata": {},
   "source": [
    "* *Bar chart for LGA Airport*"
   ]
  },
  {
   "cell_type": "code",
   "execution_count": 123,
   "id": "257ab95f",
   "metadata": {},
   "outputs": [
    {
     "data": {
      "application/javascript": [
       "\n",
       "            setTimeout(function() {\n",
       "                var nbb_cell_id = 123;\n",
       "                var nbb_unformatted_code = \"#LGA(-73.886919,40.765136)(-73.860655,40.780281)\\nQUERY_p3_LGA = \\\"\\\"\\\"\\nWITH allrides AS(\\nSELECT pickup_datetime, dropoff_longitude, dropoff_latitude FROM taxi_trips\\nWHERE dropoff_longitude <=  '-73.860655'\\nAND dropoff_longitude >= '-73.886919'\\nAND dropoff_latitude<= '40.780281'\\nAND dropoff_latitude>= '40.765136'\\nUNION ALL\\nSELECT pickup_datetime, dropoff_longitude, dropoff_latitude FROM uber_trips\\nWHERE dropoff_longitude <= '-73.860655'\\nAND dropoff_longitude >= '-73.886919'\\nAND dropoff_latitude<= '40.780281'\\nAND dropoff_latitude>= '40.765136')\\n\\nSELECT COUNT(*) AS trips, strftime('%w', pickup_datetime) AS WeekNumber\\nFROM allrides\\nGROUP BY WeekNumber\\n\\n\\\"\\\"\\\"\\nresult_p3_LGA = engine.execute(QUERY_p3_LGA).fetchall()\";\n",
       "                var nbb_formatted_code = \"# LGA(-73.886919,40.765136)(-73.860655,40.780281)\\nQUERY_p3_LGA = \\\"\\\"\\\"\\nWITH allrides AS(\\nSELECT pickup_datetime, dropoff_longitude, dropoff_latitude FROM taxi_trips\\nWHERE dropoff_longitude <=  '-73.860655'\\nAND dropoff_longitude >= '-73.886919'\\nAND dropoff_latitude<= '40.780281'\\nAND dropoff_latitude>= '40.765136'\\nUNION ALL\\nSELECT pickup_datetime, dropoff_longitude, dropoff_latitude FROM uber_trips\\nWHERE dropoff_longitude <= '-73.860655'\\nAND dropoff_longitude >= '-73.886919'\\nAND dropoff_latitude<= '40.780281'\\nAND dropoff_latitude>= '40.765136')\\n\\nSELECT COUNT(*) AS trips, strftime('%w', pickup_datetime) AS WeekNumber\\nFROM allrides\\nGROUP BY WeekNumber\\n\\n\\\"\\\"\\\"\\nresult_p3_LGA = engine.execute(QUERY_p3_LGA).fetchall()\";\n",
       "                var nbb_cells = Jupyter.notebook.get_cells();\n",
       "                for (var i = 0; i < nbb_cells.length; ++i) {\n",
       "                    if (nbb_cells[i].input_prompt_number == nbb_cell_id) {\n",
       "                        if (nbb_cells[i].get_text() == nbb_unformatted_code) {\n",
       "                             nbb_cells[i].set_text(nbb_formatted_code);\n",
       "                        }\n",
       "                        break;\n",
       "                    }\n",
       "                }\n",
       "            }, 500);\n",
       "            "
      ],
      "text/plain": [
       "<IPython.core.display.Javascript object>"
      ]
     },
     "metadata": {},
     "output_type": "display_data"
    }
   ],
   "source": [
    "# LGA(-73.886919,40.765136)(-73.860655,40.780281)\n",
    "QUERY_p3_LGA = \"\"\"\n",
    "WITH allrides AS(\n",
    "SELECT pickup_datetime, dropoff_longitude, dropoff_latitude FROM taxi_trips\n",
    "WHERE dropoff_longitude <=  '-73.860655'\n",
    "AND dropoff_longitude >= '-73.886919'\n",
    "AND dropoff_latitude<= '40.780281'\n",
    "AND dropoff_latitude>= '40.765136'\n",
    "UNION ALL\n",
    "SELECT pickup_datetime, dropoff_longitude, dropoff_latitude FROM uber_trips\n",
    "WHERE dropoff_longitude <= '-73.860655'\n",
    "AND dropoff_longitude >= '-73.886919'\n",
    "AND dropoff_latitude<= '40.780281'\n",
    "AND dropoff_latitude>= '40.765136')\n",
    "\n",
    "SELECT COUNT(*) AS trips, strftime('%w', pickup_datetime) AS WeekNumber\n",
    "FROM allrides\n",
    "GROUP BY WeekNumber\n",
    "\n",
    "\"\"\"\n",
    "result_p3_LGA = engine.execute(QUERY_p3_LGA).fetchall()"
   ]
  },
  {
   "cell_type": "code",
   "execution_count": 124,
   "id": "b906c743",
   "metadata": {},
   "outputs": [
    {
     "data": {
      "text/plain": [
       "<AxesSubplot:xlabel='WeekNumber', ylabel='trips'>"
      ]
     },
     "execution_count": 124,
     "metadata": {},
     "output_type": "execute_result"
    },
    {
     "data": {
      "image/png": "[encoded data removed]",
      "text/plain": [
       "<Figure size 300x300 with 1 Axes>"
      ]
     },
     "metadata": {
      "needs_background": "light"
     },
     "output_type": "display_data"
    },
    {
     "data": {
      "application/javascript": [
       "\n",
       "            setTimeout(function() {\n",
       "                var nbb_cell_id = 124;\n",
       "                var nbb_unformatted_code = \"LGA = pd.DataFrame(result_p3_LGA)\\nplt.figure(figsize = (3,3),dpi=100)\\nsns.barplot(data=LGA, x=\\\"WeekNumber\\\", y=\\\"trips\\\")\";\n",
       "                var nbb_formatted_code = \"LGA = pd.DataFrame(result_p3_LGA)\\nplt.figure(figsize=(3, 3), dpi=100)\\nsns.barplot(data=LGA, x=\\\"WeekNumber\\\", y=\\\"trips\\\")\";\n",
       "                var nbb_cells = Jupyter.notebook.get_cells();\n",
       "                for (var i = 0; i < nbb_cells.length; ++i) {\n",
       "                    if (nbb_cells[i].input_prompt_number == nbb_cell_id) {\n",
       "                        if (nbb_cells[i].get_text() == nbb_unformatted_code) {\n",
       "                             nbb_cells[i].set_text(nbb_formatted_code);\n",
       "                        }\n",
       "                        break;\n",
       "                    }\n",
       "                }\n",
       "            }, 500);\n",
       "            "
      ],
      "text/plain": [
       "<IPython.core.display.Javascript object>"
      ]
     },
     "metadata": {},
     "output_type": "display_data"
    }
   ],
   "source": [
    "LGA = pd.DataFrame(result_p3_LGA)\n",
    "plt.figure(figsize=(3, 3), dpi=100)\n",
    "sns.barplot(data=LGA, x=\"WeekNumber\", y=\"trips\")"
   ]
  },
  {
   "cell_type": "markdown",
   "id": "37d182b4",
   "metadata": {},
   "source": [
    "* *Bar chart for JFK Airport*"
   ]
  },
  {
   "cell_type": "code",
   "execution_count": 125,
   "id": "153a68e1",
   "metadata": {},
   "outputs": [
    {
     "data": {
      "application/javascript": [
       "\n",
       "            setTimeout(function() {\n",
       "                var nbb_cell_id = 125;\n",
       "                var nbb_unformatted_code = \"#JFK(-73.816109,40.676342)(-73.768387,40.620728)\\nQUERY_p3_JFK = \\\"\\\"\\\"\\nWITH allrides AS(\\nSELECT pickup_datetime, dropoff_longitude, dropoff_latitude FROM taxi_trips\\nWHERE dropoff_longitude <=  '-73.768387'\\nAND dropoff_longitude >= '-73.816109'\\nAND dropoff_latitude<= '40.676342'\\nAND dropoff_latitude>= '40.620728'\\nUNION ALL\\nSELECT pickup_datetime, dropoff_longitude, dropoff_latitude FROM uber_trips\\nWHERE dropoff_longitude <= '-73.768387'\\nAND dropoff_longitude >= '-73.816109'\\nAND dropoff_latitude<= '40.676342'\\nAND dropoff_latitude>= '40.620728')\\n\\nSELECT COUNT(*) AS trips, strftime('%w', pickup_datetime) AS WeekNumber\\nFROM allrides\\nGROUP BY WeekNumber\\n\\n\\\"\\\"\\\"\\nresult_p3_JFK = engine.execute(QUERY_p3_JFK).fetchall()\";\n",
       "                var nbb_formatted_code = \"# JFK(-73.816109,40.676342)(-73.768387,40.620728)\\nQUERY_p3_JFK = \\\"\\\"\\\"\\nWITH allrides AS(\\nSELECT pickup_datetime, dropoff_longitude, dropoff_latitude FROM taxi_trips\\nWHERE dropoff_longitude <=  '-73.768387'\\nAND dropoff_longitude >= '-73.816109'\\nAND dropoff_latitude<= '40.676342'\\nAND dropoff_latitude>= '40.620728'\\nUNION ALL\\nSELECT pickup_datetime, dropoff_longitude, dropoff_latitude FROM uber_trips\\nWHERE dropoff_longitude <= '-73.768387'\\nAND dropoff_longitude >= '-73.816109'\\nAND dropoff_latitude<= '40.676342'\\nAND dropoff_latitude>= '40.620728')\\n\\nSELECT COUNT(*) AS trips, strftime('%w', pickup_datetime) AS WeekNumber\\nFROM allrides\\nGROUP BY WeekNumber\\n\\n\\\"\\\"\\\"\\nresult_p3_JFK = engine.execute(QUERY_p3_JFK).fetchall()\";\n",
       "                var nbb_cells = Jupyter.notebook.get_cells();\n",
       "                for (var i = 0; i < nbb_cells.length; ++i) {\n",
       "                    if (nbb_cells[i].input_prompt_number == nbb_cell_id) {\n",
       "                        if (nbb_cells[i].get_text() == nbb_unformatted_code) {\n",
       "                             nbb_cells[i].set_text(nbb_formatted_code);\n",
       "                        }\n",
       "                        break;\n",
       "                    }\n",
       "                }\n",
       "            }, 500);\n",
       "            "
      ],
      "text/plain": [
       "<IPython.core.display.Javascript object>"
      ]
     },
     "metadata": {},
     "output_type": "display_data"
    }
   ],
   "source": [
    "# JFK(-73.816109,40.676342)(-73.768387,40.620728)\n",
    "QUERY_p3_JFK = \"\"\"\n",
    "WITH allrides AS(\n",
    "SELECT pickup_datetime, dropoff_longitude, dropoff_latitude FROM taxi_trips\n",
    "WHERE dropoff_longitude <=  '-73.768387'\n",
    "AND dropoff_longitude >= '-73.816109'\n",
    "AND dropoff_latitude<= '40.676342'\n",
    "AND dropoff_latitude>= '40.620728'\n",
    "UNION ALL\n",
    "SELECT pickup_datetime, dropoff_longitude, dropoff_latitude FROM uber_trips\n",
    "WHERE dropoff_longitude <= '-73.768387'\n",
    "AND dropoff_longitude >= '-73.816109'\n",
    "AND dropoff_latitude<= '40.676342'\n",
    "AND dropoff_latitude>= '40.620728')\n",
    "\n",
    "SELECT COUNT(*) AS trips, strftime('%w', pickup_datetime) AS WeekNumber\n",
    "FROM allrides\n",
    "GROUP BY WeekNumber\n",
    "\n",
    "\"\"\"\n",
    "result_p3_JFK = engine.execute(QUERY_p3_JFK).fetchall()"
   ]
  },
  {
   "cell_type": "code",
   "execution_count": 126,
   "id": "14fc2f8d",
   "metadata": {},
   "outputs": [
    {
     "data": {
      "text/plain": [
       "<AxesSubplot:xlabel='WeekNumber', ylabel='trips'>"
      ]
     },
     "execution_count": 126,
     "metadata": {},
     "output_type": "execute_result"
    },
    {
     "data": {
      "image/png": "[encoded data removed]",
      "text/plain": [
       "<Figure size 300x300 with 1 Axes>"
      ]
     },
     "metadata": {
      "needs_background": "light"
     },
     "output_type": "display_data"
    },
    {
     "data": {
      "application/javascript": [
       "\n",
       "            setTimeout(function() {\n",
       "                var nbb_cell_id = 126;\n",
       "                var nbb_unformatted_code = \"JFK = pd.DataFrame(result_p3_JFK)\\nplt.figure(figsize = (3,3),dpi=100)\\nsns.barplot(data=JFK, x=\\\"WeekNumber\\\", y=\\\"trips\\\")\";\n",
       "                var nbb_formatted_code = \"JFK = pd.DataFrame(result_p3_JFK)\\nplt.figure(figsize=(3, 3), dpi=100)\\nsns.barplot(data=JFK, x=\\\"WeekNumber\\\", y=\\\"trips\\\")\";\n",
       "                var nbb_cells = Jupyter.notebook.get_cells();\n",
       "                for (var i = 0; i < nbb_cells.length; ++i) {\n",
       "                    if (nbb_cells[i].input_prompt_number == nbb_cell_id) {\n",
       "                        if (nbb_cells[i].get_text() == nbb_unformatted_code) {\n",
       "                             nbb_cells[i].set_text(nbb_formatted_code);\n",
       "                        }\n",
       "                        break;\n",
       "                    }\n",
       "                }\n",
       "            }, 500);\n",
       "            "
      ],
      "text/plain": [
       "<IPython.core.display.Javascript object>"
      ]
     },
     "metadata": {},
     "output_type": "display_data"
    }
   ],
   "source": [
    "JFK = pd.DataFrame(result_p3_JFK)\n",
    "plt.figure(figsize=(3, 3), dpi=100)\n",
    "sns.barplot(data=JFK, x=\"WeekNumber\", y=\"trips\")"
   ]
  },
  {
   "cell_type": "markdown",
   "id": "6ff1b20e",
   "metadata": {},
   "source": [
    "### P4\n",
    "Create a heatmap of all hired trips over a map of the area. Consider using KeplerGL or another library that helps generate geospatial visualizations."
   ]
  },
  {
   "cell_type": "code",
   "execution_count": 127,
   "id": "4d5a9b55",
   "metadata": {},
   "outputs": [
    {
     "data": {
      "application/javascript": [
       "\n",
       "            setTimeout(function() {\n",
       "                var nbb_cell_id = 127;\n",
       "                var nbb_unformatted_code = \"QUERY_p4 = \\\"\\\"\\\"\\n\\nSELECT pickup_latitude, pickup_longitude FROM taxi_trips\\nUNION ALL\\nSELECT pickup_latitude, pickup_longitude FROM uber_trips\\n\\n\\\"\\\"\\\"\\nresult_p4 = engine.execute(QUERY_p4).fetchall()\";\n",
       "                var nbb_formatted_code = \"QUERY_p4 = \\\"\\\"\\\"\\n\\nSELECT pickup_latitude, pickup_longitude FROM taxi_trips\\nUNION ALL\\nSELECT pickup_latitude, pickup_longitude FROM uber_trips\\n\\n\\\"\\\"\\\"\\nresult_p4 = engine.execute(QUERY_p4).fetchall()\";\n",
       "                var nbb_cells = Jupyter.notebook.get_cells();\n",
       "                for (var i = 0; i < nbb_cells.length; ++i) {\n",
       "                    if (nbb_cells[i].input_prompt_number == nbb_cell_id) {\n",
       "                        if (nbb_cells[i].get_text() == nbb_unformatted_code) {\n",
       "                             nbb_cells[i].set_text(nbb_formatted_code);\n",
       "                        }\n",
       "                        break;\n",
       "                    }\n",
       "                }\n",
       "            }, 500);\n",
       "            "
      ],
      "text/plain": [
       "<IPython.core.display.Javascript object>"
      ]
     },
     "metadata": {},
     "output_type": "display_data"
    }
   ],
   "source": [
    "QUERY_p4 = \"\"\"\n",
    "\n",
    "SELECT pickup_latitude, pickup_longitude FROM taxi_trips\n",
    "UNION ALL\n",
    "SELECT pickup_latitude, pickup_longitude FROM uber_trips\n",
    "\n",
    "\"\"\"\n",
    "result_p4 = engine.execute(QUERY_p4).fetchall()"
   ]
  },
  {
   "cell_type": "code",
   "execution_count": 128,
   "id": "abbf502b",
   "metadata": {},
   "outputs": [
    {
     "data": {
      "text/plain": [
       "True"
      ]
     },
     "execution_count": 128,
     "metadata": {},
     "output_type": "execute_result"
    },
    {
     "data": {
      "application/javascript": [
       "\n",
       "            setTimeout(function() {\n",
       "                var nbb_cell_id = 128;\n",
       "                var nbb_unformatted_code = \"P4 = pd.DataFrame(result_p4)\\n#obtain longitude and latitude and save them\\nLAT_new = P4['pickup_latitude']  #latitude\\nLNG_new = P4['pickup_longitude']  #longitude\\nLOC = []\\n#use zip to construct tuple\\nfor lng,lat in zip(list(LNG_new),list(LAT_new)):\\n    LOC.append([lat, lng])\\n\\nCenter=[np.mean(np.array(LAT_new,dtype='float32')),np.mean(np.array(LNG_new,dtype='float32'))]\\nm=folium.Map(location=Center,zoom_start=8.5)\\nHeatMap(LOC).add_to(m)\\n\\n#save as html file\\nname='heatmap.html'\\nm.save(name)\\n\\nwebbrowser.open(name,new=2)\";\n",
       "                var nbb_formatted_code = \"P4 = pd.DataFrame(result_p4)\\n# obtain longitude and latitude and save them\\nLAT_new = P4[\\\"pickup_latitude\\\"]  # latitude\\nLNG_new = P4[\\\"pickup_longitude\\\"]  # longitude\\nLOC = []\\n# use zip to construct tuple\\nfor lng, lat in zip(list(LNG_new), list(LAT_new)):\\n    LOC.append([lat, lng])\\n\\nCenter = [\\n    np.mean(np.array(LAT_new, dtype=\\\"float32\\\")),\\n    np.mean(np.array(LNG_new, dtype=\\\"float32\\\")),\\n]\\nm = folium.Map(location=Center, zoom_start=8.5)\\nHeatMap(LOC).add_to(m)\\n\\n# save as html file\\nname = \\\"heatmap.html\\\"\\nm.save(name)\\n\\nwebbrowser.open(name, new=2)\";\n",
       "                var nbb_cells = Jupyter.notebook.get_cells();\n",
       "                for (var i = 0; i < nbb_cells.length; ++i) {\n",
       "                    if (nbb_cells[i].input_prompt_number == nbb_cell_id) {\n",
       "                        if (nbb_cells[i].get_text() == nbb_unformatted_code) {\n",
       "                             nbb_cells[i].set_text(nbb_formatted_code);\n",
       "                        }\n",
       "                        break;\n",
       "                    }\n",
       "                }\n",
       "            }, 500);\n",
       "            "
      ],
      "text/plain": [
       "<IPython.core.display.Javascript object>"
      ]
     },
     "metadata": {},
     "output_type": "display_data"
    }
   ],
   "source": [
    "P4 = pd.DataFrame(result_p4)\n",
    "# obtain longitude and latitude and save them\n",
    "LAT_new = P4[\"pickup_latitude\"]  # latitude\n",
    "LNG_new = P4[\"pickup_longitude\"]  # longitude\n",
    "LOC = []\n",
    "# use zip to construct tuple\n",
    "for lng, lat in zip(list(LNG_new), list(LAT_new)):\n",
    "    LOC.append([lat, lng])\n",
    "\n",
    "Center = [\n",
    "    np.mean(np.array(LAT_new, dtype=\"float32\")),\n",
    "    np.mean(np.array(LNG_new, dtype=\"float32\")),\n",
    "]\n",
    "m = folium.Map(location=Center, zoom_start=8.5)\n",
    "HeatMap(LOC).add_to(m)\n",
    "\n",
    "# save as html file\n",
    "name = \"heatmap.html\"\n",
    "m.save(name)\n",
    "\n",
    "webbrowser.open(name, new=2)"
   ]
  },
  {
   "cell_type": "code",
   "execution_count": 130,
   "id": "9af4dca8",
   "metadata": {},
   "outputs": [
    {
     "data": {
      "text/plain": [
       "<matplotlib.image.AxesImage at 0x7f868e19c910>"
      ]
     },
     "execution_count": 130,
     "metadata": {},
     "output_type": "execute_result"
    },
    {
     "data": {
      "image/png": "[encoded data removed]",
      "text/plain": [
       "<Figure size 432x288 with 1 Axes>"
      ]
     },
     "metadata": {
      "needs_background": "light"
     },
     "output_type": "display_data"
    },
    {
     "data": {
      "application/javascript": [
       "\n",
       "            setTimeout(function() {\n",
       "                var nbb_cell_id = 130;\n",
       "                var nbb_unformatted_code = \"# Read Images\\nimg = mpimg.imread(\\\"heatmap.png\\\")\\n# Output Images\\nplt.imshow(img)\";\n",
       "                var nbb_formatted_code = \"# Read Images\\nimg = mpimg.imread(\\\"heatmap.png\\\")\\n# Output Images\\nplt.imshow(img)\";\n",
       "                var nbb_cells = Jupyter.notebook.get_cells();\n",
       "                for (var i = 0; i < nbb_cells.length; ++i) {\n",
       "                    if (nbb_cells[i].input_prompt_number == nbb_cell_id) {\n",
       "                        if (nbb_cells[i].get_text() == nbb_unformatted_code) {\n",
       "                             nbb_cells[i].set_text(nbb_formatted_code);\n",
       "                        }\n",
       "                        break;\n",
       "                    }\n",
       "                }\n",
       "            }, 500);\n",
       "            "
      ],
      "text/plain": [
       "<IPython.core.display.Javascript object>"
      ]
     },
     "metadata": {},
     "output_type": "display_data"
    }
   ],
   "source": [
    "# Read Images\n",
    "img = mpimg.imread(\"heatmap.png\")\n",
    "# Output Images\n",
    "plt.imshow(img)"
   ]
  },
  {
   "cell_type": "markdown",
   "id": "b7d95b52",
   "metadata": {},
   "source": [
    "### P5\n",
    "Create a scatter plot that compares tip amount versus distance."
   ]
  },
  {
   "cell_type": "code",
   "execution_count": 131,
   "id": "9fb2d45f",
   "metadata": {},
   "outputs": [
    {
     "data": {
      "application/javascript": [
       "\n",
       "            setTimeout(function() {\n",
       "                var nbb_cell_id = 131;\n",
       "                var nbb_unformatted_code = \"QUERY_p5 = \\\"\\\"\\\"\\n\\nSELECT tip_amount, distance\\nFROM taxi_trips\\nWHERE tip_amount <= 20\\n\\n\\\"\\\"\\\"\\nresult_p5 = engine.execute(QUERY_p5).fetchall()\";\n",
       "                var nbb_formatted_code = \"QUERY_p5 = \\\"\\\"\\\"\\n\\nSELECT tip_amount, distance\\nFROM taxi_trips\\nWHERE tip_amount <= 20\\n\\n\\\"\\\"\\\"\\nresult_p5 = engine.execute(QUERY_p5).fetchall()\";\n",
       "                var nbb_cells = Jupyter.notebook.get_cells();\n",
       "                for (var i = 0; i < nbb_cells.length; ++i) {\n",
       "                    if (nbb_cells[i].input_prompt_number == nbb_cell_id) {\n",
       "                        if (nbb_cells[i].get_text() == nbb_unformatted_code) {\n",
       "                             nbb_cells[i].set_text(nbb_formatted_code);\n",
       "                        }\n",
       "                        break;\n",
       "                    }\n",
       "                }\n",
       "            }, 500);\n",
       "            "
      ],
      "text/plain": [
       "<IPython.core.display.Javascript object>"
      ]
     },
     "metadata": {},
     "output_type": "display_data"
    }
   ],
   "source": [
    "QUERY_p5 = \"\"\"\n",
    "\n",
    "SELECT tip_amount, distance\n",
    "FROM taxi_trips\n",
    "WHERE tip_amount <= 20\n",
    "\n",
    "\"\"\"\n",
    "result_p5 = engine.execute(QUERY_p5).fetchall()"
   ]
  },
  {
   "cell_type": "code",
   "execution_count": 138,
   "id": "80d38d3f",
   "metadata": {},
   "outputs": [
    {
     "data": {
      "text/plain": [
       "<AxesSubplot:xlabel='distance', ylabel='tip_amount'>"
      ]
     },
     "execution_count": 138,
     "metadata": {},
     "output_type": "execute_result"
    },
    {
     "data": {
      "image/png": "[encoded data removed]",
      "text/plain": [
       "<Figure size 500x500 with 1 Axes>"
      ]
     },
     "metadata": {
      "needs_background": "light"
     },
     "output_type": "display_data"
    },
    {
     "data": {
      "application/javascript": [
       "\n",
       "            setTimeout(function() {\n",
       "                var nbb_cell_id = 138;\n",
       "                var nbb_unformatted_code = \"P5 = pd.DataFrame(result_p5)\\nplt.figure(figsize=(4, 4), dpi=125)\\nsns.scatterplot(data=P5, x=\\\"distance\\\", y=\\\"tip_amount\\\", alpha=0.5)\";\n",
       "                var nbb_formatted_code = \"P5 = pd.DataFrame(result_p5)\\nplt.figure(figsize=(4, 4), dpi=125)\\nsns.scatterplot(data=P5, x=\\\"distance\\\", y=\\\"tip_amount\\\", alpha=0.5)\";\n",
       "                var nbb_cells = Jupyter.notebook.get_cells();\n",
       "                for (var i = 0; i < nbb_cells.length; ++i) {\n",
       "                    if (nbb_cells[i].input_prompt_number == nbb_cell_id) {\n",
       "                        if (nbb_cells[i].get_text() == nbb_unformatted_code) {\n",
       "                             nbb_cells[i].set_text(nbb_formatted_code);\n",
       "                        }\n",
       "                        break;\n",
       "                    }\n",
       "                }\n",
       "            }, 500);\n",
       "            "
      ],
      "text/plain": [
       "<IPython.core.display.Javascript object>"
      ]
     },
     "metadata": {},
     "output_type": "display_data"
    }
   ],
   "source": [
    "P5 = pd.DataFrame(result_p5)\n",
    "plt.figure(figsize=(4, 4), dpi=125)\n",
    "sns.scatterplot(data=P5, x=\"distance\", y=\"tip_amount\", alpha=0.5)"
   ]
  },
  {
   "cell_type": "markdown",
   "id": "1584d6ef",
   "metadata": {},
   "source": [
    "### P6\n",
    "Create another scatter plot that compares tip amount versus precipitation amount."
   ]
  },
  {
   "cell_type": "code",
   "execution_count": 135,
   "id": "ca9c6255",
   "metadata": {},
   "outputs": [
    {
     "data": {
      "application/javascript": [
       "\n",
       "            setTimeout(function() {\n",
       "                var nbb_cell_id = 135;\n",
       "                var nbb_unformatted_code = \"QUERY_p6_1 = \\\"\\\"\\\"\\n\\nSELECT pickup_datetime, tip_amount\\nFROM taxi_trips\\nWHERE tip_amount <= 30\\n\\n\\\"\\\"\\\"\\n\\nQUERY_p6_2 = \\\"\\\"\\\"\\n\\nSELECT DATE_day, DailyPrecipitation\\nFROM daily_weather\\n\\n\\\"\\\"\\\"\\n\\nresult_p6_1 = engine.execute(QUERY_p6_1).fetchall()\\nresult_p6_2 = engine.execute(QUERY_p6_2).fetchall()\";\n",
       "                var nbb_formatted_code = \"QUERY_p6_1 = \\\"\\\"\\\"\\n\\nSELECT pickup_datetime, tip_amount\\nFROM taxi_trips\\nWHERE tip_amount <= 30\\n\\n\\\"\\\"\\\"\\n\\nQUERY_p6_2 = \\\"\\\"\\\"\\n\\nSELECT DATE_day, DailyPrecipitation\\nFROM daily_weather\\n\\n\\\"\\\"\\\"\\n\\nresult_p6_1 = engine.execute(QUERY_p6_1).fetchall()\\nresult_p6_2 = engine.execute(QUERY_p6_2).fetchall()\";\n",
       "                var nbb_cells = Jupyter.notebook.get_cells();\n",
       "                for (var i = 0; i < nbb_cells.length; ++i) {\n",
       "                    if (nbb_cells[i].input_prompt_number == nbb_cell_id) {\n",
       "                        if (nbb_cells[i].get_text() == nbb_unformatted_code) {\n",
       "                             nbb_cells[i].set_text(nbb_formatted_code);\n",
       "                        }\n",
       "                        break;\n",
       "                    }\n",
       "                }\n",
       "            }, 500);\n",
       "            "
      ],
      "text/plain": [
       "<IPython.core.display.Javascript object>"
      ]
     },
     "metadata": {},
     "output_type": "display_data"
    }
   ],
   "source": [
    "QUERY_p6_1 = \"\"\"\n",
    "\n",
    "SELECT pickup_datetime, tip_amount\n",
    "FROM taxi_trips\n",
    "WHERE tip_amount <= 30\n",
    "\n",
    "\"\"\"\n",
    "\n",
    "QUERY_p6_2 = \"\"\"\n",
    "\n",
    "SELECT DATE_day, DailyPrecipitation\n",
    "FROM daily_weather\n",
    "\n",
    "\"\"\"\n",
    "\n",
    "result_p6_1 = engine.execute(QUERY_p6_1).fetchall()\n",
    "result_p6_2 = engine.execute(QUERY_p6_2).fetchall()"
   ]
  },
  {
   "cell_type": "code",
   "execution_count": 136,
   "id": "851e7de6",
   "metadata": {},
   "outputs": [
    {
     "data": {
      "application/javascript": [
       "\n",
       "            setTimeout(function() {\n",
       "                var nbb_cell_id = 136;\n",
       "                var nbb_unformatted_code = \"P6_1 = pd.DataFrame(result_p6_1)\\nP6_2 = pd.DataFrame(result_p6_2)\\nP6_1['day'] = pd.to_datetime(P6_1['pickup_datetime']).dt.day\\nP6_2['day'] = pd.to_datetime(P6_2['DATE_day']).dt.day\";\n",
       "                var nbb_formatted_code = \"P6_1 = pd.DataFrame(result_p6_1)\\nP6_2 = pd.DataFrame(result_p6_2)\\nP6_1[\\\"day\\\"] = pd.to_datetime(P6_1[\\\"pickup_datetime\\\"]).dt.day\\nP6_2[\\\"day\\\"] = pd.to_datetime(P6_2[\\\"DATE_day\\\"]).dt.day\";\n",
       "                var nbb_cells = Jupyter.notebook.get_cells();\n",
       "                for (var i = 0; i < nbb_cells.length; ++i) {\n",
       "                    if (nbb_cells[i].input_prompt_number == nbb_cell_id) {\n",
       "                        if (nbb_cells[i].get_text() == nbb_unformatted_code) {\n",
       "                             nbb_cells[i].set_text(nbb_formatted_code);\n",
       "                        }\n",
       "                        break;\n",
       "                    }\n",
       "                }\n",
       "            }, 500);\n",
       "            "
      ],
      "text/plain": [
       "<IPython.core.display.Javascript object>"
      ]
     },
     "metadata": {},
     "output_type": "display_data"
    }
   ],
   "source": [
    "P6_1 = pd.DataFrame(result_p6_1)\n",
    "P6_2 = pd.DataFrame(result_p6_2)\n",
    "P6_1[\"day\"] = pd.to_datetime(P6_1[\"pickup_datetime\"]).dt.day\n",
    "P6_2[\"day\"] = pd.to_datetime(P6_2[\"DATE_day\"]).dt.day"
   ]
  },
  {
   "cell_type": "code",
   "execution_count": 137,
   "id": "5318d580",
   "metadata": {},
   "outputs": [
    {
     "data": {
      "application/javascript": [
       "\n",
       "            setTimeout(function() {\n",
       "                var nbb_cell_id = 137;\n",
       "                var nbb_unformatted_code = \"P6 = pd.merge(P6_1, P6_2, how='left', on = 'day')\";\n",
       "                var nbb_formatted_code = \"P6 = pd.merge(P6_1, P6_2, how=\\\"left\\\", on=\\\"day\\\")\";\n",
       "                var nbb_cells = Jupyter.notebook.get_cells();\n",
       "                for (var i = 0; i < nbb_cells.length; ++i) {\n",
       "                    if (nbb_cells[i].input_prompt_number == nbb_cell_id) {\n",
       "                        if (nbb_cells[i].get_text() == nbb_unformatted_code) {\n",
       "                             nbb_cells[i].set_text(nbb_formatted_code);\n",
       "                        }\n",
       "                        break;\n",
       "                    }\n",
       "                }\n",
       "            }, 500);\n",
       "            "
      ],
      "text/plain": [
       "<IPython.core.display.Javascript object>"
      ]
     },
     "metadata": {},
     "output_type": "display_data"
    }
   ],
   "source": [
    "P6 = pd.merge(P6_1, P6_2, how=\"left\", on=\"day\")"
   ]
  },
  {
   "cell_type": "code",
   "execution_count": 139,
   "id": "8baa7b6e",
   "metadata": {},
   "outputs": [
    {
     "data": {
      "text/plain": [
       "<AxesSubplot:xlabel='DailyPrecipitation', ylabel='tip_amount'>"
      ]
     },
     "execution_count": 139,
     "metadata": {},
     "output_type": "execute_result"
    },
    {
     "data": {
      "image/png": "[encoded data removed]",
      "text/plain": [
       "<Figure size 500x500 with 1 Axes>"
      ]
     },
     "metadata": {
      "needs_background": "light"
     },
     "output_type": "display_data"
    },
    {
     "data": {
      "application/javascript": [
       "\n",
       "            setTimeout(function() {\n",
       "                var nbb_cell_id = 139;\n",
       "                var nbb_unformatted_code = \"plt.figure(figsize = (4,4),dpi=125)\\nsns.scatterplot(data=P6, x=\\\"DailyPrecipitation\\\", y=\\\"tip_amount\\\", alpha = 0.5)\";\n",
       "                var nbb_formatted_code = \"plt.figure(figsize=(4, 4), dpi=125)\\nsns.scatterplot(data=P6, x=\\\"DailyPrecipitation\\\", y=\\\"tip_amount\\\", alpha=0.5)\";\n",
       "                var nbb_cells = Jupyter.notebook.get_cells();\n",
       "                for (var i = 0; i < nbb_cells.length; ++i) {\n",
       "                    if (nbb_cells[i].input_prompt_number == nbb_cell_id) {\n",
       "                        if (nbb_cells[i].get_text() == nbb_unformatted_code) {\n",
       "                             nbb_cells[i].set_text(nbb_formatted_code);\n",
       "                        }\n",
       "                        break;\n",
       "                    }\n",
       "                }\n",
       "            }, 500);\n",
       "            "
      ],
      "text/plain": [
       "<IPython.core.display.Javascript object>"
      ]
     },
     "metadata": {},
     "output_type": "display_data"
    }
   ],
   "source": [
    "plt.figure(figsize=(4, 4), dpi=125)\n",
    "sns.scatterplot(data=P6, x=\"DailyPrecipitation\", y=\"tip_amount\", alpha=0.5)"
   ]
  },
  {
   "cell_type": "markdown",
   "id": "5f834197",
   "metadata": {},
   "source": [
    "### Extra Credit\n",
    "#### Sun_set\n",
    "For what hour of the sunset time was the most popular to take a taxi in 2014? "
   ]
  },
  {
   "cell_type": "code",
   "execution_count": 140,
   "id": "5f12e160",
   "metadata": {},
   "outputs": [
    {
     "data": {
      "application/javascript": [
       "\n",
       "            setTimeout(function() {\n",
       "                var nbb_cell_id = 140;\n",
       "                var nbb_unformatted_code = \"QUERY_taxi = \\\"\\\"\\\"\\nSELECT COUNT(*) AS trips, strftime('%H', pickup_datetime) AS hour\\nFROM taxi_trips\\nWHERE pickup_datetime Between '2014-01-01 00:00:00' and '2015-01-01 00:00:00'\\nGROUP BY hour\\n\\\"\\\"\\\"\\nresult_taxi = engine.execute(QUERY_taxi).fetchall()\\n\\nQUERY_sun= \\\"\\\"\\\"\\n\\nSELECT strftime('%H', Sunset_Time) AS hour\\nFROM sun_time\\n\\n\\\"\\\"\\\"\\n\\nresult_taxi = engine.execute(QUERY_taxi).fetchall()\\nresult_sun = engine.execute(QUERY_sun).fetchall()\";\n",
       "                var nbb_formatted_code = \"QUERY_taxi = \\\"\\\"\\\"\\nSELECT COUNT(*) AS trips, strftime('%H', pickup_datetime) AS hour\\nFROM taxi_trips\\nWHERE pickup_datetime Between '2014-01-01 00:00:00' and '2015-01-01 00:00:00'\\nGROUP BY hour\\n\\\"\\\"\\\"\\nresult_taxi = engine.execute(QUERY_taxi).fetchall()\\n\\nQUERY_sun = \\\"\\\"\\\"\\n\\nSELECT strftime('%H', Sunset_Time) AS hour\\nFROM sun_time\\n\\n\\\"\\\"\\\"\\n\\nresult_taxi = engine.execute(QUERY_taxi).fetchall()\\nresult_sun = engine.execute(QUERY_sun).fetchall()\";\n",
       "                var nbb_cells = Jupyter.notebook.get_cells();\n",
       "                for (var i = 0; i < nbb_cells.length; ++i) {\n",
       "                    if (nbb_cells[i].input_prompt_number == nbb_cell_id) {\n",
       "                        if (nbb_cells[i].get_text() == nbb_unformatted_code) {\n",
       "                             nbb_cells[i].set_text(nbb_formatted_code);\n",
       "                        }\n",
       "                        break;\n",
       "                    }\n",
       "                }\n",
       "            }, 500);\n",
       "            "
      ],
      "text/plain": [
       "<IPython.core.display.Javascript object>"
      ]
     },
     "metadata": {},
     "output_type": "display_data"
    }
   ],
   "source": [
    "QUERY_taxi = \"\"\"\n",
    "SELECT COUNT(*) AS trips, strftime('%H', pickup_datetime) AS hour\n",
    "FROM taxi_trips\n",
    "WHERE pickup_datetime Between '2014-01-01 00:00:00' and '2015-01-01 00:00:00'\n",
    "GROUP BY hour\n",
    "\"\"\"\n",
    "result_taxi = engine.execute(QUERY_taxi).fetchall()\n",
    "\n",
    "QUERY_sun = \"\"\"\n",
    "\n",
    "SELECT strftime('%H', Sunset_Time) AS hour\n",
    "FROM sun_time\n",
    "\n",
    "\"\"\"\n",
    "\n",
    "result_taxi = engine.execute(QUERY_taxi).fetchall()\n",
    "result_sun = engine.execute(QUERY_sun).fetchall()"
   ]
  },
  {
   "cell_type": "code",
   "execution_count": 141,
   "id": "fe69b46a",
   "metadata": {},
   "outputs": [
    {
     "data": {
      "application/javascript": [
       "\n",
       "            setTimeout(function() {\n",
       "                var nbb_cell_id = 141;\n",
       "                var nbb_unformatted_code = \"P_taxi = pd.DataFrame(result_taxi)\\nP_sun = pd.DataFrame(result_sun)\\nP_sun = pd.merge(P_sun, P_taxi, how = 'left', on = 'hour')\";\n",
       "                var nbb_formatted_code = \"P_taxi = pd.DataFrame(result_taxi)\\nP_sun = pd.DataFrame(result_sun)\\nP_sun = pd.merge(P_sun, P_taxi, how=\\\"left\\\", on=\\\"hour\\\")\";\n",
       "                var nbb_cells = Jupyter.notebook.get_cells();\n",
       "                for (var i = 0; i < nbb_cells.length; ++i) {\n",
       "                    if (nbb_cells[i].input_prompt_number == nbb_cell_id) {\n",
       "                        if (nbb_cells[i].get_text() == nbb_unformatted_code) {\n",
       "                             nbb_cells[i].set_text(nbb_formatted_code);\n",
       "                        }\n",
       "                        break;\n",
       "                    }\n",
       "                }\n",
       "            }, 500);\n",
       "            "
      ],
      "text/plain": [
       "<IPython.core.display.Javascript object>"
      ]
     },
     "metadata": {},
     "output_type": "display_data"
    }
   ],
   "source": [
    "P_taxi = pd.DataFrame(result_taxi)\n",
    "P_sun = pd.DataFrame(result_sun)\n",
    "P_sun = pd.merge(P_sun, P_taxi, how=\"left\", on=\"hour\")"
   ]
  },
  {
   "cell_type": "code",
   "execution_count": 142,
   "id": "ed3ea6e9",
   "metadata": {},
   "outputs": [
    {
     "data": {
      "text/plain": [
       "<AxesSubplot:xlabel='hour'>"
      ]
     },
     "execution_count": 142,
     "metadata": {},
     "output_type": "execute_result"
    },
    {
     "data": {
      "text/plain": [
       "<Figure size 500x500 with 0 Axes>"
      ]
     },
     "metadata": {},
     "output_type": "display_data"
    },
    {
     "data": {
      "image/png": "[encoded data removed]",
      "text/plain": [
       "<Figure size 432x288 with 1 Axes>"
      ]
     },
     "metadata": {
      "needs_background": "light"
     },
     "output_type": "display_data"
    },
    {
     "data": {
      "application/javascript": [
       "\n",
       "            setTimeout(function() {\n",
       "                var nbb_cell_id = 142;\n",
       "                var nbb_unformatted_code = \"plt.figure(figsize = (5,5),dpi=100)\\nP_sun.groupby(['hour']).mean().plot.bar()\";\n",
       "                var nbb_formatted_code = \"plt.figure(figsize=(5, 5), dpi=100)\\nP_sun.groupby([\\\"hour\\\"]).mean().plot.bar()\";\n",
       "                var nbb_cells = Jupyter.notebook.get_cells();\n",
       "                for (var i = 0; i < nbb_cells.length; ++i) {\n",
       "                    if (nbb_cells[i].input_prompt_number == nbb_cell_id) {\n",
       "                        if (nbb_cells[i].get_text() == nbb_unformatted_code) {\n",
       "                             nbb_cells[i].set_text(nbb_formatted_code);\n",
       "                        }\n",
       "                        break;\n",
       "                    }\n",
       "                }\n",
       "            }, 500);\n",
       "            "
      ],
      "text/plain": [
       "<IPython.core.display.Javascript object>"
      ]
     },
     "metadata": {},
     "output_type": "display_data"
    }
   ],
   "source": [
    "plt.figure(figsize=(5, 5), dpi=100)\n",
    "P_sun.groupby([\"hour\"]).mean().plot.bar()"
   ]
  }
 ],
 "metadata": {
  "kernelspec": {
   "display_name": "Python 3",
   "language": "python",
   "name": "python3"
  },
  "language_info": {
   "codemirror_mode": {
    "name": "ipython",
    "version": 3
   },
   "file_extension": ".py",
   "mimetype": "text/x-python",
   "name": "python",
   "nbconvert_exporter": "python",
   "pygments_lexer": "ipython3",
   "version": "3.8.8"
  }
 },
 "nbformat": 4,
 "nbformat_minor": 5
}
